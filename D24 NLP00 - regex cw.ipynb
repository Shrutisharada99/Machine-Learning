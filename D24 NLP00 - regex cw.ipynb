{
 "cells": [
  {
   "cell_type": "code",
   "execution_count": 1,
   "id": "782139b2-1a17-4d09-af83-daac193e5b89",
   "metadata": {},
   "outputs": [],
   "source": [
    "import pandas as pd\n",
    "import numpy as np\n",
    "import re"
   ]
  },
  {
   "cell_type": "markdown",
   "id": "60425158-99a2-4a85-9c65-e653ea4d309a",
   "metadata": {
    "tags": []
   },
   "source": [
    "### search\n",
    "Returns a Match object if there is a match anywhere in the string"
   ]
  },
  {
   "cell_type": "markdown",
   "id": "04d8114f-c2d4-42a2-9b48-d1e05ceffb2d",
   "metadata": {
    "tags": []
   },
   "source": [
    "### Escape Codes\n",
    "\n",
    "You can use special escape codes to find specific types of patterns in your data, such as digits, non-digits,whitespace, and more. For example:\n",
    "\n",
    "<table border=\"1\" class=\"docutils\">\n",
    "<colgroup>\n",
    "<col width=\"14%\" />\n",
    "<col width=\"86%\" />\n",
    "</colgroup>\n",
    "<thead valign=\"bottom\">\n",
    "<tr class=\"row-odd\"><th class=\"head\">Code</th>\n",
    "<th class=\"head\">Meaning</th>\n",
    "</tr>\n",
    "</thead>\n",
    "<tbody valign=\"top\">\n",
    "<tr class=\"row-even\"><td><tt class=\"docutils literal\"><span class=\"pre\">\\d</span></tt></td>\n",
    "<td>a digit</td>\n",
    "</tr>\n",
    "<tr class=\"row-odd\"><td><tt class=\"docutils literal\"><span class=\"pre\">\\D</span></tt></td>\n",
    "<td>a non-digit</td>\n",
    "</tr>\n",
    "<tr class=\"row-even\"><td><tt class=\"docutils literal\"><span class=\"pre\">\\s</span></tt></td>\n",
    "<td>whitespace (tab, space, newline, etc.)</td>\n",
    "</tr>\n",
    "<tr class=\"row-odd\"><td><tt class=\"docutils literal\"><span class=\"pre\">\\S</span></tt></td>\n",
    "<td>non-whitespace</td>\n",
    "</tr>\n",
    "<tr class=\"row-even\"><td><tt class=\"docutils literal\"><span class=\"pre\">\\w</span></tt></td>\n",
    "<td>alphanumeric</td>\n",
    "</tr>\n",
    "<tr class=\"row-odd\"><td><tt class=\"docutils literal\"><span class=\"pre\">\\W</span></tt></td>\n",
    "<td>non-alphanumeric</td>\n",
    "</tr>\n",
    "</tbody>\n",
    "</table>"
   ]
  },
  {
   "cell_type": "markdown",
   "id": "5c2cecb1-9b49-4331-9894-57bde0c0950d",
   "metadata": {},
   "source": [
    "### Meta Characters"
   ]
  },
  {
   "cell_type": "raw",
   "id": "43152a50-e931-48f2-bc0d-138d5759c7e4",
   "metadata": {},
   "source": [
    "'sd*' - # s followed by zero or more d's\n",
    "'sd+' - # s followed by one or more d's\n",
    "'sd?' - # s followed by zero or one d's\n",
    "'sd{3}' - # s followed by three d's\n",
    "'sd{2,3}' - # s followed by two to three d's\n",
    "\n",
    "[] - Represent a character class\n",
    "^ - Matches the beginning\n",
    "\\ - Used to drop the special meaning of character following it"
   ]
  },
  {
   "cell_type": "code",
   "execution_count": 3,
   "id": "d46a17a7-197a-42ef-bde3-0935be0ed852",
   "metadata": {},
   "outputs": [],
   "source": [
    "sent = 'I was born in year 1996'"
   ]
  },
  {
   "cell_type": "code",
   "execution_count": 4,
   "id": "003caf29-f3e7-4c40-871d-456aeb0cafc9",
   "metadata": {},
   "outputs": [
    {
     "name": "stdout",
     "output_type": "stream",
     "text": [
      "<re.Match object; span=(0, 1), match='I'>\n"
     ]
    }
   ],
   "source": [
    "rr = re.search(\"[a-zA-Z]+\", sent)\n",
    "print(rr)"
   ]
  },
  {
   "cell_type": "code",
   "execution_count": 5,
   "id": "2b118bb6-016a-4aa8-9482-3a4530ac70be",
   "metadata": {},
   "outputs": [
    {
     "name": "stdout",
     "output_type": "stream",
     "text": [
      "['I', 'was', 'born', 'in', 'year']\n"
     ]
    }
   ],
   "source": [
    "rr = re.findall(\"[a-zA-Z]+\", sent)\n",
    "print(rr)"
   ]
  },
  {
   "cell_type": "code",
   "execution_count": 6,
   "id": "85ec7eda-e877-4bc9-a5c2-1f213a13c5fe",
   "metadata": {},
   "outputs": [
    {
     "name": "stdout",
     "output_type": "stream",
     "text": [
      "<re.Match object; span=(19, 23), match='1996'>\n"
     ]
    }
   ],
   "source": [
    "rr = re.search('[\\d]+', sent)\n",
    "print(rr)"
   ]
  },
  {
   "cell_type": "code",
   "execution_count": 7,
   "id": "2541944d-4555-4bed-8475-d9334bcbc579",
   "metadata": {},
   "outputs": [
    {
     "data": {
      "text/plain": [
       "'I was born in year '"
      ]
     },
     "execution_count": 7,
     "metadata": {},
     "output_type": "execute_result"
    }
   ],
   "source": [
    "sent = 'I was born in year 1996'\n",
    "sent2 = re.sub('[\\d]', '', sent)\n",
    "sent2"
   ]
  },
  {
   "cell_type": "code",
   "execution_count": 8,
   "id": "d64e4d13-3895-4035-84c5-166ea6f60259",
   "metadata": {},
   "outputs": [
    {
     "data": {
      "text/plain": [
       "'I was born      in years 1986'"
      ]
     },
     "execution_count": 8,
     "metadata": {},
     "output_type": "execute_result"
    }
   ],
   "source": [
    "sent = 'I was born ## @ ?? .  in year`s 1986'\n",
    "\n",
    "sent2 = re.sub('[@#?\\.\\`]', '', sent)\n",
    "sent2"
   ]
  },
  {
   "cell_type": "markdown",
   "id": "365bf49f-a8dc-4c89-b93d-cf512dea57d2",
   "metadata": {},
   "source": [
    "### findall\n",
    "Returns a list containing all matches"
   ]
  },
  {
   "cell_type": "code",
   "execution_count": 9,
   "id": "4682983b-a7c1-4883-8a32-cf447ee240b8",
   "metadata": {},
   "outputs": [
    {
     "name": "stdout",
     "output_type": "stream",
     "text": [
      "['match']\n"
     ]
    }
   ],
   "source": [
    "sent = 'the term match is in the middle'\n",
    "rr = re.findall('match', sent)\n",
    "print(rr)"
   ]
  },
  {
   "cell_type": "code",
   "execution_count": 10,
   "id": "3db17a5a-1247-417d-828b-37f61857ad0a",
   "metadata": {},
   "outputs": [
    {
     "name": "stdout",
     "output_type": "stream",
     "text": [
      "['sd', 'sd', 's', 's', 'sddd', 'sddd', 'sddd', 'sd', 's', 's', 's', 's', 's', 's', 'sdddd']\n"
     ]
    }
   ],
   "source": [
    "# s followed by zero or more d's\n",
    "phrase = 'sdsd sssddd sdddsddd dsds dsssss sdddd'\n",
    "rr = re.findall('sd*', phrase)\n",
    "print(rr)"
   ]
  },
  {
   "cell_type": "code",
   "execution_count": 11,
   "id": "da3b73da-9015-4303-af20-4324eae90258",
   "metadata": {},
   "outputs": [
    {
     "name": "stdout",
     "output_type": "stream",
     "text": [
      "['sd', 'sd', 'sddd', 'sddd', 'sddd', 'sd', 'sdddd']\n"
     ]
    }
   ],
   "source": [
    "# s followed by one or more d's\n",
    "phrase = 'sdsd sssddd sdddsddd dsds dsssss sdddd'\n",
    "rr = re.findall('sd+', phrase)\n",
    "print(rr)"
   ]
  },
  {
   "cell_type": "code",
   "execution_count": 12,
   "id": "81395c5a-a496-40d3-91fe-294ef2a1789a",
   "metadata": {},
   "outputs": [
    {
     "name": "stdout",
     "output_type": "stream",
     "text": [
      "['sd', 'sd', 's', 's', 'sd', 'sd', 'sd', 'sd', 's', 's', 's', 's', 's', 's', 'sd']\n"
     ]
    }
   ],
   "source": [
    "# s followed by zero or one d's\n",
    "phrase = 'sdsd sssddd sdddsddd dsds dsssss sdddd'\n",
    "rr = re.findall('sd?', phrase)\n",
    "print(rr)"
   ]
  },
  {
   "cell_type": "code",
   "execution_count": 13,
   "id": "4dc48ebe-c06a-4885-907e-e81602f6c33a",
   "metadata": {},
   "outputs": [
    {
     "name": "stdout",
     "output_type": "stream",
     "text": [
      "['sddd', 'sddd', 'sddd', 'sddd']\n"
     ]
    }
   ],
   "source": [
    "# s followed by three d's\n",
    "phrase = 'sdsd sssddd sdddsddd dsds dsssss sdddd'\n",
    "rr = re.findall('sd{3}', phrase)\n",
    "print(rr)"
   ]
  },
  {
   "cell_type": "code",
   "execution_count": 14,
   "id": "7c6b603e-32dc-4431-99c1-989e189b1246",
   "metadata": {},
   "outputs": [
    {
     "name": "stdout",
     "output_type": "stream",
     "text": [
      "['sddd', 'sddd', 'sddd', 'sddd']\n"
     ]
    }
   ],
   "source": [
    "# s followed by two to three d's\n",
    "phrase = 'sdsd sssddd sdddsddd dsds dsssss sdddd'\n",
    "rr = re.findall('sd{2,3}', phrase)\n",
    "print(rr)"
   ]
  },
  {
   "cell_type": "code",
   "execution_count": 15,
   "id": "094bb278-ceda-41e5-a9a0-f346bbc2f184",
   "metadata": {},
   "outputs": [
    {
     "name": "stdout",
     "output_type": "stream",
     "text": [
      "['s', 'd', 's', 'd', 's', 's', 's', 'd', 'd', 'd', 's', 'd', 'd', 'd', 's', 'd', 'd', 'd', 'd', 's', 'd', 's', 'd', 's', 's', 's', 's', 's', 's', 'd', 'd', 'd', 'd']\n"
     ]
    }
   ],
   "source": [
    "# s or d\n",
    "phrase = 'sdsd sssddd sdddsddd dsds dsssss sdddd'\n",
    "rr = re.findall('[sd]', phrase)\n",
    "print(rr)"
   ]
  },
  {
   "cell_type": "markdown",
   "id": "182c2b9e-3686-4ba1-8b24-c1f1c0281558",
   "metadata": {},
   "source": [
    "### Exclusion"
   ]
  },
  {
   "cell_type": "code",
   "execution_count": 2,
   "id": "e51c0a41-c1ca-4766-9f47-8d8d9155c418",
   "metadata": {},
   "outputs": [
    {
     "name": "stdout",
     "output_type": "stream",
     "text": [
      "['This is a string', ' But it has punctuation', ' How can we remove it']\n"
     ]
    }
   ],
   "source": [
    "phrase = 'This is a string! But it has punctuation. How can we remove it?'\n",
    "rr = re.findall('[^!.?]+', phrase)\n",
    "print(rr)"
   ]
  },
  {
   "cell_type": "code",
   "execution_count": 3,
   "id": "afa9b39e-07b5-4b3e-8b55-8130aa531a9f",
   "metadata": {},
   "outputs": [
    {
     "name": "stdout",
     "output_type": "stream",
     "text": [
      "This is a string But it has punctuation How can we remove it\n"
     ]
    }
   ],
   "source": [
    "phrase = 'This is a string! But it has punctuation. How can we remove it?'\n",
    "rr = re.sub(r'[^\\w\\s]', '', phrase)\n",
    "print(rr)"
   ]
  },
  {
   "cell_type": "markdown",
   "id": "0ee6b9c1-2d92-44fa-b939-28571aad18c0",
   "metadata": {},
   "source": [
    "### Character Ranges"
   ]
  },
  {
   "cell_type": "code",
   "execution_count": 17,
   "id": "50f12032-2fd0-48d8-ace4-d137b21ecf29",
   "metadata": {},
   "outputs": [
    {
     "name": "stdout",
     "output_type": "stream",
     "text": [
      "['his', 'is', 'an', 'example', 'sentence', 'ets', 'see', 'if', 'we', 'can', 'find', 'some', 'letters']\n"
     ]
    }
   ],
   "source": [
    "phrase = 'This is an example sentence. Lets see if we can find some letters.'\n",
    "rr = re.findall('[a-z]+', phrase)\n",
    "print(rr)"
   ]
  },
  {
   "cell_type": "code",
   "execution_count": 18,
   "id": "a3d13595-0d9c-40b5-83ab-e967626b5914",
   "metadata": {},
   "outputs": [
    {
     "name": "stdout",
     "output_type": "stream",
     "text": [
      "['This', 'is', 'an', 'example', 'sentence', 'Lets', 'see', 'if', 'we', 'can', 'find', 'some', 'letters']\n"
     ]
    }
   ],
   "source": [
    "# sequences of lower or upper case letters\n",
    "phrase = 'This is an example sentence. Lets see if we can find some letters.'\n",
    "rr = re.findall('[a-zA-Z]+', phrase)\n",
    "print(rr)"
   ]
  },
  {
   "cell_type": "code",
   "execution_count": 19,
   "id": "79719100-7d00-4bd6-9572-e2c98cb654d6",
   "metadata": {},
   "outputs": [
    {
     "name": "stdout",
     "output_type": "stream",
     "text": [
      "['This', 'Lets']\n"
     ]
    }
   ],
   "source": [
    "# one upper case letter followed by lower case letters\n",
    "phrase = 'This is an example sentence. Lets see if we can find some letters.'\n",
    "rr = re.findall('[A-Z][a-z]+', phrase)\n",
    "print(rr)"
   ]
  },
  {
   "cell_type": "markdown",
   "id": "03066049-b094-49ae-a0ab-e62dabe69f4a",
   "metadata": {},
   "source": [
    "### Escape Codes"
   ]
  },
  {
   "cell_type": "code",
   "execution_count": 20,
   "id": "0fa5f60a-f36d-433a-93f1-52115fec47dd",
   "metadata": {},
   "outputs": [
    {
     "name": "stdout",
     "output_type": "stream",
     "text": [
      "['1233']\n"
     ]
    }
   ],
   "source": [
    "phrase = 'This is a string with some numbers 1233 and a symbol #hashtag'\n",
    "rr = re.findall('\\d+', phrase)\n",
    "print(rr)"
   ]
  },
  {
   "cell_type": "code",
   "execution_count": 21,
   "id": "51627be3-a716-45a1-a3b1-b5668a2960c1",
   "metadata": {},
   "outputs": [
    {
     "name": "stdout",
     "output_type": "stream",
     "text": [
      "['This is a string with some numbers ', ' and a symbol #hashtag']\n"
     ]
    }
   ],
   "source": [
    "phrase = 'This is a string with some numbers 1233 and a symbol #hashtag'\n",
    "rr = re.findall('\\D+', phrase)\n",
    "print(rr)"
   ]
  },
  {
   "cell_type": "code",
   "execution_count": 22,
   "id": "1efe29c8-00bb-42ef-a930-9cc831476d2f",
   "metadata": {},
   "outputs": [
    {
     "name": "stdout",
     "output_type": "stream",
     "text": [
      "[' ', ' ', ' ', ' ', ' ', ' ', ' ', ' ', ' ', ' ', ' #']\n"
     ]
    }
   ],
   "source": [
    "phrase = 'This is a string with some numbers 1233 and a symbol #hashtag'\n",
    "rr = re.findall('\\W+', phrase)\n",
    "print(rr)"
   ]
  },
  {
   "cell_type": "markdown",
   "id": "94771791-b15e-46c0-b355-2cf97bf1723e",
   "metadata": {},
   "source": [
    "### Extracting e-mail addresses"
   ]
  },
  {
   "cell_type": "code",
   "execution_count": 23,
   "id": "f0b954bb-74e8-40a2-bfad-b2db5dadf67c",
   "metadata": {},
   "outputs": [
    {
     "name": "stdout",
     "output_type": "stream",
     "text": [
      "['shubhamg199630@gmail.com', 'priya@yahoo.com']\n"
     ]
    }
   ],
   "source": [
    "phrase = \"Hello from shubhamg199630@gmail.com to priya@yahoo.com about the meeting @2PM\"\n",
    "rr = re.findall('\\S+@\\S+', phrase)\n",
    "print(rr)"
   ]
  },
  {
   "cell_type": "code",
   "execution_count": 24,
   "id": "09a5b8fb-eccc-46c3-821b-a85a877e6c6a",
   "metadata": {},
   "outputs": [
    {
     "data": {
      "text/plain": [
       "['shubhamg199630@gmail.ac.in', 'priya@yahoo.com']"
      ]
     },
     "execution_count": 24,
     "metadata": {},
     "output_type": "execute_result"
    }
   ],
   "source": [
    "phrase = \"Hello from shubhamg199630@gmail.ac.in to priya@yahoo.com about the meeting @2PM\"\n",
    "re.findall(r'[\\w.+-]+@[\\w-]+\\.[\\w.-]+', phrase)"
   ]
  },
  {
   "cell_type": "markdown",
   "id": "bd012bb8-1d3d-41a3-a390-a1a0dd80420d",
   "metadata": {},
   "source": [
    "### Extracting URLs"
   ]
  },
  {
   "cell_type": "code",
   "execution_count": 101,
   "id": "67973ae1-8d4e-49e6-af74-8f07ad362ffb",
   "metadata": {},
   "outputs": [
    {
     "name": "stdout",
     "output_type": "stream",
     "text": [
      "['https://www.google.com,', 'https://www.facebook.com,', 'https://www.twitter.com']\n"
     ]
    }
   ],
   "source": [
    "phrase = \"This is a text with some URLs: https://www.google.com, https://www.facebook.com, and https://www.twitter.com\"\n",
    "rr = re.findall(r\"https?://\\S+\", phrase)\n",
    "print(rr)"
   ]
  }
 ],
 "metadata": {
  "kernelspec": {
   "display_name": "Python 3 (ipykernel)",
   "language": "python",
   "name": "python3"
  },
  "language_info": {
   "codemirror_mode": {
    "name": "ipython",
    "version": 3
   },
   "file_extension": ".py",
   "mimetype": "text/x-python",
   "name": "python",
   "nbconvert_exporter": "python",
   "pygments_lexer": "ipython3",
   "version": "3.12.4"
  },
  "widgets": {
   "application/vnd.jupyter.widget-state+json": {
    "state": {},
    "version_major": 2,
    "version_minor": 0
   }
  }
 },
 "nbformat": 4,
 "nbformat_minor": 5
}
