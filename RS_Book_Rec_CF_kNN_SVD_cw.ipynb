{
  "cells": [
    {
      "cell_type": "code",
      "execution_count": null,
      "id": "532f13b2",
      "metadata": {
        "id": "532f13b2",
        "outputId": "9f9c35d2-d1db-4763-fbeb-aa8319369385"
      },
      "outputs": [
        {
          "data": {
            "text/plain": [
              "0"
            ]
          },
          "execution_count": 1,
          "metadata": {},
          "output_type": "execute_result"
        }
      ],
      "source": [
        "import pandas as pd\n",
        "import numpy as np\n",
        "from scipy.sparse import csr_matrix\n",
        "import sklearn\n",
        "from sklearn.decomposition import TruncatedSVD\n",
        "from sklearn.model_selection import GridSearchCV\n",
        "import matplotlib.pyplot as plt\n",
        "import seaborn as sns\n",
        "\n",
        "pd.options.display.float_format = '{:.4f}'.format\n",
        "\n",
        "import os\n",
        "path = r'D:\\REGI\\0Teaching Materials\\QZ Recommender System\\book crossing'\n",
        "os.chdir(path)\n",
        "\n",
        "import gc\n",
        "gc.collect()\n",
        "\n",
        "# Simple Python RecommendatIon System Engine"
      ]
    },
    {
      "cell_type": "code",
      "execution_count": null,
      "id": "e680958f",
      "metadata": {
        "id": "e680958f",
        "outputId": "e2dcc561-8ebc-4d90-c816-7beb3f717256"
      },
      "outputs": [
        {
          "name": "stderr",
          "output_type": "stream",
          "text": [
            "Skipping line 6452: expected 8 fields, saw 9\n",
            "Skipping line 43667: expected 8 fields, saw 10\n",
            "Skipping line 51751: expected 8 fields, saw 9\n",
            "\n",
            "Skipping line 92038: expected 8 fields, saw 9\n",
            "Skipping line 104319: expected 8 fields, saw 9\n",
            "Skipping line 121768: expected 8 fields, saw 9\n",
            "\n",
            "Skipping line 144058: expected 8 fields, saw 9\n",
            "Skipping line 150789: expected 8 fields, saw 9\n",
            "Skipping line 157128: expected 8 fields, saw 9\n",
            "Skipping line 180189: expected 8 fields, saw 9\n",
            "Skipping line 185738: expected 8 fields, saw 9\n",
            "\n",
            "Skipping line 209388: expected 8 fields, saw 9\n",
            "Skipping line 220626: expected 8 fields, saw 9\n",
            "Skipping line 227933: expected 8 fields, saw 11\n",
            "Skipping line 228957: expected 8 fields, saw 10\n",
            "Skipping line 245933: expected 8 fields, saw 9\n",
            "Skipping line 251296: expected 8 fields, saw 9\n",
            "Skipping line 259941: expected 8 fields, saw 9\n",
            "Skipping line 261529: expected 8 fields, saw 9\n",
            "\n",
            "C:\\Users\\regiv\\AppData\\Local\\Temp\\ipykernel_7368\\2732590296.py:1: DtypeWarning: Columns (3) have mixed types. Specify dtype option on import or set low_memory=False.\n",
            "  book = pd.read_csv('BX-Books.csv', sep=';', on_bad_lines='warn', encoding=\"latin-1\").iloc[:,:5]\n"
          ]
        },
        {
          "name": "stdout",
          "output_type": "stream",
          "text": [
            "book: (271360, 5) user: (278858, 3) rating: (1149780, 3)\n"
          ]
        }
      ],
      "source": [
        "book = pd.read_csv('BX-Books.csv', sep=';', on_bad_lines='warn', encoding=\"latin-1\").iloc[:,:5]\n",
        "book.columns=['ISBN', 'BookTitle', 'BookAuthor', 'YearOfPublication', 'Publisher']\n",
        "\n",
        "user = pd.read_csv('BX-Users.csv', sep=';', on_bad_lines='warn', encoding=\"latin-1\")\n",
        "user.columns = ['UserID', 'Location', 'Age']\n",
        "\n",
        "rating = pd.read_csv('BX-Book-Ratings.csv', sep=';', on_bad_lines='warn', encoding=\"latin-1\")\n",
        "rating.columns=['UserID', 'ISBN', 'BookRating']\n",
        "\n",
        "print('book:', book.shape, 'user:', user.shape, 'rating:',rating.shape)"
      ]
    },
    {
      "cell_type": "code",
      "execution_count": null,
      "id": "05137703",
      "metadata": {
        "id": "05137703"
      },
      "outputs": [],
      "source": [
        "rating['ISBN'] = rating['ISBN'].str.replace(r'[^\\w\\d]+', '', regex=True)\n",
        "book['ISBN'] = book['ISBN'].str.replace(r'[^\\w\\d]+', '', regex=True)"
      ]
    },
    {
      "cell_type": "code",
      "execution_count": null,
      "id": "83263c1a",
      "metadata": {
        "id": "83263c1a",
        "outputId": "741df6cc-90d4-44bc-be2f-959010eec78d"
      },
      "outputs": [
        {
          "data": {
            "text/html": [
              "<div>\n",
              "<style scoped>\n",
              "    .dataframe tbody tr th:only-of-type {\n",
              "        vertical-align: middle;\n",
              "    }\n",
              "\n",
              "    .dataframe tbody tr th {\n",
              "        vertical-align: top;\n",
              "    }\n",
              "\n",
              "    .dataframe thead th {\n",
              "        text-align: right;\n",
              "    }\n",
              "</style>\n",
              "<table border=\"1\" class=\"dataframe\">\n",
              "  <thead>\n",
              "    <tr style=\"text-align: right;\">\n",
              "      <th></th>\n",
              "      <th>ISBN</th>\n",
              "      <th>BookTitle</th>\n",
              "      <th>BookAuthor</th>\n",
              "      <th>YearOfPublication</th>\n",
              "      <th>Publisher</th>\n",
              "    </tr>\n",
              "  </thead>\n",
              "  <tbody>\n",
              "    <tr>\n",
              "      <th>0</th>\n",
              "      <td>0195153448</td>\n",
              "      <td>Classical Mythology</td>\n",
              "      <td>Mark P. O. Morford</td>\n",
              "      <td>2002</td>\n",
              "      <td>Oxford University Press</td>\n",
              "    </tr>\n",
              "    <tr>\n",
              "      <th>1</th>\n",
              "      <td>0002005018</td>\n",
              "      <td>Clara Callan</td>\n",
              "      <td>Richard Bruce Wright</td>\n",
              "      <td>2001</td>\n",
              "      <td>HarperFlamingo Canada</td>\n",
              "    </tr>\n",
              "  </tbody>\n",
              "</table>\n",
              "</div>"
            ],
            "text/plain": [
              "         ISBN            BookTitle            BookAuthor YearOfPublication  \\\n",
              "0  0195153448  Classical Mythology    Mark P. O. Morford              2002   \n",
              "1  0002005018         Clara Callan  Richard Bruce Wright              2001   \n",
              "\n",
              "                 Publisher  \n",
              "0  Oxford University Press  \n",
              "1    HarperFlamingo Canada  "
            ]
          },
          "execution_count": 4,
          "metadata": {},
          "output_type": "execute_result"
        }
      ],
      "source": [
        "book.head(2)"
      ]
    },
    {
      "cell_type": "code",
      "execution_count": null,
      "id": "cec1203f-faa6-4eaa-b8f8-8ad138d82f88",
      "metadata": {
        "tags": [],
        "id": "cec1203f-faa6-4eaa-b8f8-8ad138d82f88",
        "outputId": "b3631a10-e7ad-4ca8-9801-897de3c75794"
      },
      "outputs": [
        {
          "data": {
            "text/html": [
              "<div>\n",
              "<style scoped>\n",
              "    .dataframe tbody tr th:only-of-type {\n",
              "        vertical-align: middle;\n",
              "    }\n",
              "\n",
              "    .dataframe tbody tr th {\n",
              "        vertical-align: top;\n",
              "    }\n",
              "\n",
              "    .dataframe thead th {\n",
              "        text-align: right;\n",
              "    }\n",
              "</style>\n",
              "<table border=\"1\" class=\"dataframe\">\n",
              "  <thead>\n",
              "    <tr style=\"text-align: right;\">\n",
              "      <th></th>\n",
              "      <th>UserID</th>\n",
              "      <th>Location</th>\n",
              "      <th>Age</th>\n",
              "    </tr>\n",
              "  </thead>\n",
              "  <tbody>\n",
              "    <tr>\n",
              "      <th>0</th>\n",
              "      <td>1</td>\n",
              "      <td>nyc, new york, usa</td>\n",
              "      <td>NaN</td>\n",
              "    </tr>\n",
              "    <tr>\n",
              "      <th>1</th>\n",
              "      <td>2</td>\n",
              "      <td>stockton, california, usa</td>\n",
              "      <td>18.0000</td>\n",
              "    </tr>\n",
              "  </tbody>\n",
              "</table>\n",
              "</div>"
            ],
            "text/plain": [
              "   UserID                   Location     Age\n",
              "0       1         nyc, new york, usa     NaN\n",
              "1       2  stockton, california, usa 18.0000"
            ]
          },
          "execution_count": 5,
          "metadata": {},
          "output_type": "execute_result"
        }
      ],
      "source": [
        "user.head(2)"
      ]
    },
    {
      "cell_type": "code",
      "execution_count": null,
      "id": "71cb2352",
      "metadata": {
        "id": "71cb2352",
        "outputId": "1bd7d8f4-9d1d-49f9-89fd-720cd35799fc"
      },
      "outputs": [
        {
          "data": {
            "text/html": [
              "<div>\n",
              "<style scoped>\n",
              "    .dataframe tbody tr th:only-of-type {\n",
              "        vertical-align: middle;\n",
              "    }\n",
              "\n",
              "    .dataframe tbody tr th {\n",
              "        vertical-align: top;\n",
              "    }\n",
              "\n",
              "    .dataframe thead th {\n",
              "        text-align: right;\n",
              "    }\n",
              "</style>\n",
              "<table border=\"1\" class=\"dataframe\">\n",
              "  <thead>\n",
              "    <tr style=\"text-align: right;\">\n",
              "      <th></th>\n",
              "      <th>UserID</th>\n",
              "      <th>ISBN</th>\n",
              "      <th>BookRating</th>\n",
              "    </tr>\n",
              "  </thead>\n",
              "  <tbody>\n",
              "    <tr>\n",
              "      <th>0</th>\n",
              "      <td>276725</td>\n",
              "      <td>034545104X</td>\n",
              "      <td>0</td>\n",
              "    </tr>\n",
              "    <tr>\n",
              "      <th>1</th>\n",
              "      <td>276726</td>\n",
              "      <td>0155061224</td>\n",
              "      <td>5</td>\n",
              "    </tr>\n",
              "  </tbody>\n",
              "</table>\n",
              "</div>"
            ],
            "text/plain": [
              "   UserID        ISBN  BookRating\n",
              "0  276725  034545104X           0\n",
              "1  276726  0155061224           5"
            ]
          },
          "execution_count": 6,
          "metadata": {},
          "output_type": "execute_result"
        }
      ],
      "source": [
        "rating.head(2)"
      ]
    },
    {
      "cell_type": "code",
      "execution_count": null,
      "id": "ef1f34ca",
      "metadata": {
        "id": "ef1f34ca",
        "outputId": "119057b4-9966-401a-945a-31bef4c0f58b"
      },
      "outputs": [
        {
          "data": {
            "text/plain": [
              "0     716109\n",
              "8     103736\n",
              "10     78610\n",
              "7      76457\n",
              "9      67541\n",
              "5      50974\n",
              "6      36924\n",
              "4       8904\n",
              "3       5996\n",
              "2       2759\n",
              "1       1770\n",
              "Name: BookRating, dtype: int64"
            ]
          },
          "execution_count": 7,
          "metadata": {},
          "output_type": "execute_result"
        }
      ],
      "source": [
        "rating['BookRating'].value_counts()"
      ]
    },
    {
      "cell_type": "code",
      "execution_count": null,
      "id": "1f2cea7b",
      "metadata": {
        "id": "1f2cea7b",
        "outputId": "c33dab78-fccd-432e-ee98-5c8b1ce21819"
      },
      "outputs": [
        {
          "data": {
            "image/png": "[encoded data removed]",
            "text/plain": [
              "<Figure size 1500x400 with 1 Axes>"
            ]
          },
          "metadata": {},
          "output_type": "display_data"
        }
      ],
      "source": [
        "# plot graph of 'ratings' column\n",
        "plt.figure(figsize =(15, 4))\n",
        "rating['BookRating'].hist()\n",
        "plt.show()"
      ]
    },
    {
      "cell_type": "code",
      "execution_count": null,
      "id": "f180869a",
      "metadata": {
        "id": "f180869a",
        "outputId": "17e452bd-e675-4959-c24c-e9c409a52e04"
      },
      "outputs": [
        {
          "data": {
            "text/html": [
              "<div>\n",
              "<style scoped>\n",
              "    .dataframe tbody tr th:only-of-type {\n",
              "        vertical-align: middle;\n",
              "    }\n",
              "\n",
              "    .dataframe tbody tr th {\n",
              "        vertical-align: top;\n",
              "    }\n",
              "\n",
              "    .dataframe thead th {\n",
              "        text-align: right;\n",
              "    }\n",
              "</style>\n",
              "<table border=\"1\" class=\"dataframe\">\n",
              "  <thead>\n",
              "    <tr style=\"text-align: right;\">\n",
              "      <th></th>\n",
              "      <th>UserID</th>\n",
              "      <th>ISBN</th>\n",
              "      <th>BookRating</th>\n",
              "      <th>BookTitle</th>\n",
              "    </tr>\n",
              "  </thead>\n",
              "  <tbody>\n",
              "    <tr>\n",
              "      <th>243080</th>\n",
              "      <td>55927</td>\n",
              "      <td>0590567330</td>\n",
              "      <td>0</td>\n",
              "      <td>A Light in the Storm: The Civil War Diary of ...</td>\n",
              "    </tr>\n",
              "    <tr>\n",
              "      <th>400876</th>\n",
              "      <td>96448</td>\n",
              "      <td>0590567330</td>\n",
              "      <td>9</td>\n",
              "      <td>A Light in the Storm: The Civil War Diary of ...</td>\n",
              "    </tr>\n",
              "    <tr>\n",
              "      <th>160864</th>\n",
              "      <td>35859</td>\n",
              "      <td>0590567330</td>\n",
              "      <td>0</td>\n",
              "      <td>A Light in the Storm: The Civil War Diary of ...</td>\n",
              "    </tr>\n",
              "    <tr>\n",
              "      <th>87471</th>\n",
              "      <td>18995</td>\n",
              "      <td>0590567330</td>\n",
              "      <td>0</td>\n",
              "      <td>A Light in the Storm: The Civil War Diary of ...</td>\n",
              "    </tr>\n",
              "    <tr>\n",
              "      <th>120611</th>\n",
              "      <td>27650</td>\n",
              "      <td>0563208422</td>\n",
              "      <td>5</td>\n",
              "      <td>Allo Allo: the War Diaries of Rene Artois</td>\n",
              "    </tr>\n",
              "  </tbody>\n",
              "</table>\n",
              "</div>"
            ],
            "text/plain": [
              "        UserID        ISBN  BookRating  \\\n",
              "243080   55927  0590567330           0   \n",
              "400876   96448  0590567330           9   \n",
              "160864   35859  0590567330           0   \n",
              "87471    18995  0590567330           0   \n",
              "120611   27650  0563208422           5   \n",
              "\n",
              "                                                BookTitle  \n",
              "243080   A Light in the Storm: The Civil War Diary of ...  \n",
              "400876   A Light in the Storm: The Civil War Diary of ...  \n",
              "160864   A Light in the Storm: The Civil War Diary of ...  \n",
              "87471    A Light in the Storm: The Civil War Diary of ...  \n",
              "120611          Allo Allo: the War Diaries of Rene Artois  "
            ]
          },
          "execution_count": 9,
          "metadata": {},
          "output_type": "execute_result"
        }
      ],
      "source": [
        "rating = pd.merge(rating, book[['ISBN', 'BookTitle']], how='left', on='ISBN')\n",
        "rating['BookTitle'] = rating['BookTitle'].str.replace(\"'\", \"\")\n",
        "rating = rating.dropna()\n",
        "rating = rating.sort_values('BookTitle')\n",
        "rating.head()"
      ]
    },
    {
      "cell_type": "code",
      "execution_count": null,
      "id": "482c3071",
      "metadata": {
        "id": "482c3071",
        "outputId": "8d8683f8-46e5-4d62-b787-517ac877468c"
      },
      "outputs": [
        {
          "data": {
            "text/html": [
              "<div>\n",
              "<style scoped>\n",
              "    .dataframe tbody tr th:only-of-type {\n",
              "        vertical-align: middle;\n",
              "    }\n",
              "\n",
              "    .dataframe tbody tr th {\n",
              "        vertical-align: top;\n",
              "    }\n",
              "\n",
              "    .dataframe thead th {\n",
              "        text-align: right;\n",
              "    }\n",
              "</style>\n",
              "<table border=\"1\" class=\"dataframe\">\n",
              "  <thead>\n",
              "    <tr style=\"text-align: right;\">\n",
              "      <th></th>\n",
              "      <th>UserID</th>\n",
              "      <th>ISBN</th>\n",
              "      <th>BookRating</th>\n",
              "      <th>BookTitle</th>\n",
              "    </tr>\n",
              "  </thead>\n",
              "  <tbody>\n",
              "    <tr>\n",
              "      <th>243080</th>\n",
              "      <td>55927</td>\n",
              "      <td>0590567330</td>\n",
              "      <td>9.0000</td>\n",
              "      <td>A Light in the Storm: The Civil War Diary of ...</td>\n",
              "    </tr>\n",
              "    <tr>\n",
              "      <th>400876</th>\n",
              "      <td>96448</td>\n",
              "      <td>0590567330</td>\n",
              "      <td>9.0000</td>\n",
              "      <td>A Light in the Storm: The Civil War Diary of ...</td>\n",
              "    </tr>\n",
              "    <tr>\n",
              "      <th>160864</th>\n",
              "      <td>35859</td>\n",
              "      <td>0590567330</td>\n",
              "      <td>9.0000</td>\n",
              "      <td>A Light in the Storm: The Civil War Diary of ...</td>\n",
              "    </tr>\n",
              "    <tr>\n",
              "      <th>87471</th>\n",
              "      <td>18995</td>\n",
              "      <td>0590567330</td>\n",
              "      <td>9.0000</td>\n",
              "      <td>A Light in the Storm: The Civil War Diary of ...</td>\n",
              "    </tr>\n",
              "    <tr>\n",
              "      <th>120611</th>\n",
              "      <td>27650</td>\n",
              "      <td>0563208422</td>\n",
              "      <td>5.0000</td>\n",
              "      <td>Allo Allo: the War Diaries of Rene Artois</td>\n",
              "    </tr>\n",
              "  </tbody>\n",
              "</table>\n",
              "</div>"
            ],
            "text/plain": [
              "        UserID        ISBN  BookRating  \\\n",
              "243080   55927  0590567330      9.0000   \n",
              "400876   96448  0590567330      9.0000   \n",
              "160864   35859  0590567330      9.0000   \n",
              "87471    18995  0590567330      9.0000   \n",
              "120611   27650  0563208422      5.0000   \n",
              "\n",
              "                                                BookTitle  \n",
              "243080   A Light in the Storm: The Civil War Diary of ...  \n",
              "400876   A Light in the Storm: The Civil War Diary of ...  \n",
              "160864   A Light in the Storm: The Civil War Diary of ...  \n",
              "87471    A Light in the Storm: The Civil War Diary of ...  \n",
              "120611          Allo Allo: the War Diaries of Rene Artois  "
            ]
          },
          "execution_count": 10,
          "metadata": {},
          "output_type": "execute_result"
        }
      ],
      "source": [
        "rating.loc[rating['BookRating']==0, 'BookRating'] = np.NaN\n",
        "\n",
        "rating['BookRating'] = rating['BookRating'].groupby(rating['BookTitle']).transform(lambda x: x.fillna(x.mean()))\n",
        "rating = rating[rating['BookRating']>0]\n",
        "rating['BookRating'] = rating['BookRating'].round()\n",
        "rating.head()"
      ]
    },
    {
      "cell_type": "code",
      "execution_count": null,
      "id": "6e550e2d-eb23-4436-a419-69bcee2540ae",
      "metadata": {
        "tags": [],
        "id": "6e550e2d-eb23-4436-a419-69bcee2540ae",
        "outputId": "a945fccf-2940-4d45-9a2b-9d55a6e94e40"
      },
      "outputs": [
        {
          "data": {
            "text/plain": [
              "(872644, 4)"
            ]
          },
          "execution_count": 11,
          "metadata": {},
          "output_type": "execute_result"
        }
      ],
      "source": [
        "rating.shape"
      ]
    },
    {
      "cell_type": "code",
      "execution_count": null,
      "id": "7a5fea1a-e588-4722-b333-3a41c4767b16",
      "metadata": {
        "id": "7a5fea1a-e588-4722-b333-3a41c4767b16",
        "outputId": "3b1d69fe-8381-4cf8-a982-9b2599a88a4f"
      },
      "outputs": [
        {
          "data": {
            "text/plain": [
              "(867927, 4)"
            ]
          },
          "execution_count": 12,
          "metadata": {},
          "output_type": "execute_result"
        }
      ],
      "source": [
        "rating = rating.drop_duplicates(['UserID', 'BookTitle'])\n",
        "rating.shape"
      ]
    },
    {
      "cell_type": "code",
      "execution_count": null,
      "id": "eda0d97b-9727-4efc-8f8d-075f6a81b316",
      "metadata": {
        "id": "eda0d97b-9727-4efc-8f8d-075f6a81b316",
        "outputId": "fe3fd6e0-ecce-423c-d353-20c31febb227"
      },
      "outputs": [
        {
          "data": {
            "text/plain": [
              "(289271, 4)"
            ]
          },
          "execution_count": 13,
          "metadata": {},
          "output_type": "execute_result"
        }
      ],
      "source": [
        "counts1 = rating['UserID'].value_counts()\n",
        "rating = rating[rating['UserID'].isin(counts1[counts1 >= 20].index)]\n",
        "\n",
        "counts2 = rating['BookTitle'].value_counts()\n",
        "rating = rating[rating['BookTitle'].isin(counts2[counts2 >= 20].index)]\n",
        "\n",
        "rating.shape"
      ]
    },
    {
      "cell_type": "markdown",
      "id": "5d85d0c4",
      "metadata": {
        "id": "5d85d0c4"
      },
      "source": [
        "### Rating counts"
      ]
    },
    {
      "cell_type": "code",
      "execution_count": null,
      "id": "93da6fa8",
      "metadata": {
        "id": "93da6fa8",
        "outputId": "bb868c98-7032-4d42-bfe9-3373694128e3"
      },
      "outputs": [
        {
          "data": {
            "text/html": [
              "<div>\n",
              "<style scoped>\n",
              "    .dataframe tbody tr th:only-of-type {\n",
              "        vertical-align: middle;\n",
              "    }\n",
              "\n",
              "    .dataframe tbody tr th {\n",
              "        vertical-align: top;\n",
              "    }\n",
              "\n",
              "    .dataframe thead th {\n",
              "        text-align: right;\n",
              "    }\n",
              "</style>\n",
              "<table border=\"1\" class=\"dataframe\">\n",
              "  <thead>\n",
              "    <tr style=\"text-align: right;\">\n",
              "      <th></th>\n",
              "      <th>BookTitle</th>\n",
              "      <th>BookRatingCount</th>\n",
              "    </tr>\n",
              "  </thead>\n",
              "  <tbody>\n",
              "    <tr>\n",
              "      <th>0</th>\n",
              "      <td>10 Lb. Penalty</td>\n",
              "      <td>46</td>\n",
              "    </tr>\n",
              "    <tr>\n",
              "      <th>1</th>\n",
              "      <td>1001 Ways to Be Romantic</td>\n",
              "      <td>21</td>\n",
              "    </tr>\n",
              "    <tr>\n",
              "      <th>2</th>\n",
              "      <td>101 Dalmatians</td>\n",
              "      <td>31</td>\n",
              "    </tr>\n",
              "    <tr>\n",
              "      <th>3</th>\n",
              "      <td>14,000 Things to Be Happy About</td>\n",
              "      <td>23</td>\n",
              "    </tr>\n",
              "    <tr>\n",
              "      <th>4</th>\n",
              "      <td>16 Lighthouse Road</td>\n",
              "      <td>52</td>\n",
              "    </tr>\n",
              "  </tbody>\n",
              "</table>\n",
              "</div>"
            ],
            "text/plain": [
              "                         BookTitle  BookRatingCount\n",
              "0                   10 Lb. Penalty               46\n",
              "1         1001 Ways to Be Romantic               21\n",
              "2                   101 Dalmatians               31\n",
              "3  14,000 Things to Be Happy About               23\n",
              "4               16 Lighthouse Road               52"
            ]
          },
          "execution_count": 14,
          "metadata": {},
          "output_type": "execute_result"
        }
      ],
      "source": [
        "book_rating_count = rating.groupby('BookTitle').agg('count').reset_index().iloc[:,:2]\n",
        "book_rating_count = book_rating_count.rename(columns = {'UserID':'BookRatingCount'})\n",
        "book_rating_count.head()"
      ]
    },
    {
      "cell_type": "code",
      "execution_count": null,
      "id": "62a7436a",
      "metadata": {
        "id": "62a7436a",
        "outputId": "615cc519-4e3c-42eb-b0fb-2bffd1cf7ffe"
      },
      "outputs": [
        {
          "data": {
            "text/html": [
              "<div>\n",
              "<style scoped>\n",
              "    .dataframe tbody tr th:only-of-type {\n",
              "        vertical-align: middle;\n",
              "    }\n",
              "\n",
              "    .dataframe tbody tr th {\n",
              "        vertical-align: top;\n",
              "    }\n",
              "\n",
              "    .dataframe thead th {\n",
              "        text-align: right;\n",
              "    }\n",
              "</style>\n",
              "<table border=\"1\" class=\"dataframe\">\n",
              "  <thead>\n",
              "    <tr style=\"text-align: right;\">\n",
              "      <th></th>\n",
              "      <th>BookRatingCount</th>\n",
              "    </tr>\n",
              "  </thead>\n",
              "  <tbody>\n",
              "    <tr>\n",
              "      <th>count</th>\n",
              "      <td>5665.0000</td>\n",
              "    </tr>\n",
              "    <tr>\n",
              "      <th>mean</th>\n",
              "      <td>51.0628</td>\n",
              "    </tr>\n",
              "    <tr>\n",
              "      <th>std</th>\n",
              "      <td>51.6163</td>\n",
              "    </tr>\n",
              "    <tr>\n",
              "      <th>min</th>\n",
              "      <td>20.0000</td>\n",
              "    </tr>\n",
              "    <tr>\n",
              "      <th>25%</th>\n",
              "      <td>25.0000</td>\n",
              "    </tr>\n",
              "    <tr>\n",
              "      <th>50%</th>\n",
              "      <td>33.0000</td>\n",
              "    </tr>\n",
              "    <tr>\n",
              "      <th>75%</th>\n",
              "      <td>56.0000</td>\n",
              "    </tr>\n",
              "    <tr>\n",
              "      <th>max</th>\n",
              "      <td>1080.0000</td>\n",
              "    </tr>\n",
              "  </tbody>\n",
              "</table>\n",
              "</div>"
            ],
            "text/plain": [
              "       BookRatingCount\n",
              "count        5665.0000\n",
              "mean           51.0628\n",
              "std            51.6163\n",
              "min            20.0000\n",
              "25%            25.0000\n",
              "50%            33.0000\n",
              "75%            56.0000\n",
              "max          1080.0000"
            ]
          },
          "execution_count": 15,
          "metadata": {},
          "output_type": "execute_result"
        }
      ],
      "source": [
        "book_rating_count.describe()"
      ]
    },
    {
      "cell_type": "code",
      "execution_count": null,
      "id": "01b156eb",
      "metadata": {
        "id": "01b156eb",
        "outputId": "d3dc261e-ff15-4aa5-a714-566f4a23ceb0"
      },
      "outputs": [
        {
          "data": {
            "text/plain": [
              "(5665, 5993)"
            ]
          },
          "execution_count": 16,
          "metadata": {},
          "output_type": "execute_result"
        }
      ],
      "source": [
        "book_rating_pivot = rating.pivot(index = 'BookTitle', columns = 'UserID', values = 'BookRating').fillna(0)\n",
        "book_rating_pivot.shape"
      ]
    },
    {
      "cell_type": "code",
      "execution_count": null,
      "id": "e0b89886",
      "metadata": {
        "id": "e0b89886",
        "outputId": "a1458d6b-f13e-401d-bad3-5c839f2c1621"
      },
      "outputs": [
        {
          "data": {
            "text/html": [
              "<div>\n",
              "<style scoped>\n",
              "    .dataframe tbody tr th:only-of-type {\n",
              "        vertical-align: middle;\n",
              "    }\n",
              "\n",
              "    .dataframe tbody tr th {\n",
              "        vertical-align: top;\n",
              "    }\n",
              "\n",
              "    .dataframe thead th {\n",
              "        text-align: right;\n",
              "    }\n",
              "</style>\n",
              "<table border=\"1\" class=\"dataframe\">\n",
              "  <thead>\n",
              "    <tr style=\"text-align: right;\">\n",
              "      <th>UserID</th>\n",
              "      <th>242</th>\n",
              "      <th>243</th>\n",
              "      <th>254</th>\n",
              "      <th>383</th>\n",
              "      <th>388</th>\n",
              "      <th>487</th>\n",
              "      <th>503</th>\n",
              "      <th>507</th>\n",
              "      <th>638</th>\n",
              "      <th>643</th>\n",
              "      <th>...</th>\n",
              "      <th>278188</th>\n",
              "      <th>278194</th>\n",
              "      <th>278202</th>\n",
              "      <th>278221</th>\n",
              "      <th>278356</th>\n",
              "      <th>278418</th>\n",
              "      <th>278535</th>\n",
              "      <th>278582</th>\n",
              "      <th>278633</th>\n",
              "      <th>278843</th>\n",
              "    </tr>\n",
              "    <tr>\n",
              "      <th>BookTitle</th>\n",
              "      <th></th>\n",
              "      <th></th>\n",
              "      <th></th>\n",
              "      <th></th>\n",
              "      <th></th>\n",
              "      <th></th>\n",
              "      <th></th>\n",
              "      <th></th>\n",
              "      <th></th>\n",
              "      <th></th>\n",
              "      <th></th>\n",
              "      <th></th>\n",
              "      <th></th>\n",
              "      <th></th>\n",
              "      <th></th>\n",
              "      <th></th>\n",
              "      <th></th>\n",
              "      <th></th>\n",
              "      <th></th>\n",
              "      <th></th>\n",
              "      <th></th>\n",
              "    </tr>\n",
              "  </thead>\n",
              "  <tbody>\n",
              "    <tr>\n",
              "      <th>10 Lb. Penalty</th>\n",
              "      <td>0.0000</td>\n",
              "      <td>0.0000</td>\n",
              "      <td>0.0000</td>\n",
              "      <td>0.0000</td>\n",
              "      <td>0.0000</td>\n",
              "      <td>0.0000</td>\n",
              "      <td>0.0000</td>\n",
              "      <td>0.0000</td>\n",
              "      <td>0.0000</td>\n",
              "      <td>0.0000</td>\n",
              "      <td>...</td>\n",
              "      <td>0.0000</td>\n",
              "      <td>0.0000</td>\n",
              "      <td>0.0000</td>\n",
              "      <td>0.0000</td>\n",
              "      <td>0.0000</td>\n",
              "      <td>0.0000</td>\n",
              "      <td>0.0000</td>\n",
              "      <td>0.0000</td>\n",
              "      <td>0.0000</td>\n",
              "      <td>0.0000</td>\n",
              "    </tr>\n",
              "    <tr>\n",
              "      <th>1001 Ways to Be Romantic</th>\n",
              "      <td>0.0000</td>\n",
              "      <td>0.0000</td>\n",
              "      <td>0.0000</td>\n",
              "      <td>0.0000</td>\n",
              "      <td>0.0000</td>\n",
              "      <td>0.0000</td>\n",
              "      <td>0.0000</td>\n",
              "      <td>0.0000</td>\n",
              "      <td>0.0000</td>\n",
              "      <td>0.0000</td>\n",
              "      <td>...</td>\n",
              "      <td>0.0000</td>\n",
              "      <td>0.0000</td>\n",
              "      <td>0.0000</td>\n",
              "      <td>0.0000</td>\n",
              "      <td>0.0000</td>\n",
              "      <td>0.0000</td>\n",
              "      <td>0.0000</td>\n",
              "      <td>0.0000</td>\n",
              "      <td>0.0000</td>\n",
              "      <td>0.0000</td>\n",
              "    </tr>\n",
              "  </tbody>\n",
              "</table>\n",
              "<p>2 rows × 5993 columns</p>\n",
              "</div>"
            ],
            "text/plain": [
              "UserID                    242     243     254     383     388     487     \\\n",
              "BookTitle                                                                  \n",
              "10 Lb. Penalty            0.0000  0.0000  0.0000  0.0000  0.0000  0.0000   \n",
              "1001 Ways to Be Romantic  0.0000  0.0000  0.0000  0.0000  0.0000  0.0000   \n",
              "\n",
              "UserID                    503     507     638     643     ...  278188  278194  \\\n",
              "BookTitle                                                 ...                   \n",
              "10 Lb. Penalty            0.0000  0.0000  0.0000  0.0000  ...  0.0000  0.0000   \n",
              "1001 Ways to Be Romantic  0.0000  0.0000  0.0000  0.0000  ...  0.0000  0.0000   \n",
              "\n",
              "UserID                    278202  278221  278356  278418  278535  278582  \\\n",
              "BookTitle                                                                  \n",
              "10 Lb. Penalty            0.0000  0.0000  0.0000  0.0000  0.0000  0.0000   \n",
              "1001 Ways to Be Romantic  0.0000  0.0000  0.0000  0.0000  0.0000  0.0000   \n",
              "\n",
              "UserID                    278633  278843  \n",
              "BookTitle                                 \n",
              "10 Lb. Penalty            0.0000  0.0000  \n",
              "1001 Ways to Be Romantic  0.0000  0.0000  \n",
              "\n",
              "[2 rows x 5993 columns]"
            ]
          },
          "execution_count": 17,
          "metadata": {},
          "output_type": "execute_result"
        }
      ],
      "source": [
        "book_rating_pivot.head(2)"
      ]
    },
    {
      "cell_type": "markdown",
      "id": "76d3537b",
      "metadata": {
        "id": "76d3537b"
      },
      "source": [
        "### CF - Memory Based (Item-Item)\n",
        "#### kNN - Nearest books in terms of ratings"
      ]
    },
    {
      "cell_type": "code",
      "execution_count": null,
      "id": "b3c4e16f",
      "metadata": {
        "id": "b3c4e16f",
        "outputId": "62ec52cc-64d0-47bb-cb64-d3d7aab8f30c"
      },
      "outputs": [
        {
          "data": {
            "text/html": [
              "<style>#sk-container-id-1 {color: black;background-color: white;}#sk-container-id-1 pre{padding: 0;}#sk-container-id-1 div.sk-toggleable {background-color: white;}#sk-container-id-1 label.sk-toggleable__label {cursor: pointer;display: block;width: 100%;margin-bottom: 0;padding: 0.3em;box-sizing: border-box;text-align: center;}#sk-container-id-1 label.sk-toggleable__label-arrow:before {content: \"▸\";float: left;margin-right: 0.25em;color: #696969;}#sk-container-id-1 label.sk-toggleable__label-arrow:hover:before {color: black;}#sk-container-id-1 div.sk-estimator:hover label.sk-toggleable__label-arrow:before {color: black;}#sk-container-id-1 div.sk-toggleable__content {max-height: 0;max-width: 0;overflow: hidden;text-align: left;background-color: #f0f8ff;}#sk-container-id-1 div.sk-toggleable__content pre {margin: 0.2em;color: black;border-radius: 0.25em;background-color: #f0f8ff;}#sk-container-id-1 input.sk-toggleable__control:checked~div.sk-toggleable__content {max-height: 200px;max-width: 100%;overflow: auto;}#sk-container-id-1 input.sk-toggleable__control:checked~label.sk-toggleable__label-arrow:before {content: \"▾\";}#sk-container-id-1 div.sk-estimator input.sk-toggleable__control:checked~label.sk-toggleable__label {background-color: #d4ebff;}#sk-container-id-1 div.sk-label input.sk-toggleable__control:checked~label.sk-toggleable__label {background-color: #d4ebff;}#sk-container-id-1 input.sk-hidden--visually {border: 0;clip: rect(1px 1px 1px 1px);clip: rect(1px, 1px, 1px, 1px);height: 1px;margin: -1px;overflow: hidden;padding: 0;position: absolute;width: 1px;}#sk-container-id-1 div.sk-estimator {font-family: monospace;background-color: #f0f8ff;border: 1px dotted black;border-radius: 0.25em;box-sizing: border-box;margin-bottom: 0.5em;}#sk-container-id-1 div.sk-estimator:hover {background-color: #d4ebff;}#sk-container-id-1 div.sk-parallel-item::after {content: \"\";width: 100%;border-bottom: 1px solid gray;flex-grow: 1;}#sk-container-id-1 div.sk-label:hover label.sk-toggleable__label {background-color: #d4ebff;}#sk-container-id-1 div.sk-serial::before {content: \"\";position: absolute;border-left: 1px solid gray;box-sizing: border-box;top: 0;bottom: 0;left: 50%;z-index: 0;}#sk-container-id-1 div.sk-serial {display: flex;flex-direction: column;align-items: center;background-color: white;padding-right: 0.2em;padding-left: 0.2em;position: relative;}#sk-container-id-1 div.sk-item {position: relative;z-index: 1;}#sk-container-id-1 div.sk-parallel {display: flex;align-items: stretch;justify-content: center;background-color: white;position: relative;}#sk-container-id-1 div.sk-item::before, #sk-container-id-1 div.sk-parallel-item::before {content: \"\";position: absolute;border-left: 1px solid gray;box-sizing: border-box;top: 0;bottom: 0;left: 50%;z-index: -1;}#sk-container-id-1 div.sk-parallel-item {display: flex;flex-direction: column;z-index: 1;position: relative;background-color: white;}#sk-container-id-1 div.sk-parallel-item:first-child::after {align-self: flex-end;width: 50%;}#sk-container-id-1 div.sk-parallel-item:last-child::after {align-self: flex-start;width: 50%;}#sk-container-id-1 div.sk-parallel-item:only-child::after {width: 0;}#sk-container-id-1 div.sk-dashed-wrapped {border: 1px dashed gray;margin: 0 0.4em 0.5em 0.4em;box-sizing: border-box;padding-bottom: 0.4em;background-color: white;}#sk-container-id-1 div.sk-label label {font-family: monospace;font-weight: bold;display: inline-block;line-height: 1.2em;}#sk-container-id-1 div.sk-label-container {text-align: center;}#sk-container-id-1 div.sk-container {/* jupyter's `normalize.less` sets `[hidden] { display: none; }` but bootstrap.min.css set `[hidden] { display: none !important; }` so we also need the `!important` here to be able to override the default hidden behavior on the sphinx rendered scikit-learn.org. See: https://github.com/scikit-learn/scikit-learn/issues/21755 */display: inline-block !important;position: relative;}#sk-container-id-1 div.sk-text-repr-fallback {display: none;}</style><div id=\"sk-container-id-1\" class=\"sk-top-container\"><div class=\"sk-text-repr-fallback\"><pre>NearestNeighbors(algorithm=&#x27;brute&#x27;, metric=&#x27;cosine&#x27;)</pre><b>In a Jupyter environment, please rerun this cell to show the HTML representation or trust the notebook. <br />On GitHub, the HTML representation is unable to render, please try loading this page with nbviewer.org.</b></div><div class=\"sk-container\" hidden><div class=\"sk-item\"><div class=\"sk-estimator sk-toggleable\"><input class=\"sk-toggleable__control sk-hidden--visually\" id=\"sk-estimator-id-1\" type=\"checkbox\" checked><label for=\"sk-estimator-id-1\" class=\"sk-toggleable__label sk-toggleable__label-arrow\">NearestNeighbors</label><div class=\"sk-toggleable__content\"><pre>NearestNeighbors(algorithm=&#x27;brute&#x27;, metric=&#x27;cosine&#x27;)</pre></div></div></div></div></div>"
            ],
            "text/plain": [
              "NearestNeighbors(algorithm='brute', metric='cosine')"
            ]
          },
          "execution_count": 18,
          "metadata": {},
          "output_type": "execute_result"
        }
      ],
      "source": [
        "from sklearn.neighbors import NearestNeighbors\n",
        "\n",
        "model_knn = NearestNeighbors(metric = 'cosine', algorithm = 'brute')\n",
        "model_knn.fit(book_rating_pivot)"
      ]
    },
    {
      "cell_type": "code",
      "execution_count": null,
      "id": "501fe871",
      "metadata": {
        "id": "501fe871",
        "outputId": "3c263e9c-efa5-418f-d797-fd3a4ecc334d"
      },
      "outputs": [
        {
          "name": "stdout",
          "output_type": "stream",
          "text": [
            "distances:  (5665, 6) indices:  (5665, 6)\n"
          ]
        }
      ],
      "source": [
        "distances, indices = model_knn.kneighbors(book_rating_pivot, n_neighbors = 6)\n",
        "print('distances: ', distances.shape, 'indices: ', indices.shape)"
      ]
    },
    {
      "cell_type": "code",
      "execution_count": null,
      "id": "58cedd88",
      "metadata": {
        "id": "58cedd88",
        "outputId": "2879ec13-d563-4c03-d691-46ffa6d9828d"
      },
      "outputs": [
        {
          "data": {
            "text/html": [
              "<div>\n",
              "<style scoped>\n",
              "    .dataframe tbody tr th:only-of-type {\n",
              "        vertical-align: middle;\n",
              "    }\n",
              "\n",
              "    .dataframe tbody tr th {\n",
              "        vertical-align: top;\n",
              "    }\n",
              "\n",
              "    .dataframe thead th {\n",
              "        text-align: right;\n",
              "    }\n",
              "</style>\n",
              "<table border=\"1\" class=\"dataframe\">\n",
              "  <thead>\n",
              "    <tr style=\"text-align: right;\">\n",
              "      <th></th>\n",
              "      <th>book0</th>\n",
              "      <th>book1</th>\n",
              "      <th>book2</th>\n",
              "      <th>book3</th>\n",
              "      <th>book4</th>\n",
              "      <th>book5</th>\n",
              "    </tr>\n",
              "  </thead>\n",
              "  <tbody>\n",
              "    <tr>\n",
              "      <th>0</th>\n",
              "      <td>0</td>\n",
              "      <td>5323</td>\n",
              "      <td>5241</td>\n",
              "      <td>1020</td>\n",
              "      <td>2379</td>\n",
              "      <td>696</td>\n",
              "    </tr>\n",
              "    <tr>\n",
              "      <th>1</th>\n",
              "      <td>1</td>\n",
              "      <td>3220</td>\n",
              "      <td>339</td>\n",
              "      <td>3822</td>\n",
              "      <td>1445</td>\n",
              "      <td>1297</td>\n",
              "    </tr>\n",
              "    <tr>\n",
              "      <th>2</th>\n",
              "      <td>2</td>\n",
              "      <td>3165</td>\n",
              "      <td>3631</td>\n",
              "      <td>1183</td>\n",
              "      <td>2158</td>\n",
              "      <td>480</td>\n",
              "    </tr>\n",
              "    <tr>\n",
              "      <th>3</th>\n",
              "      <td>3</td>\n",
              "      <td>3095</td>\n",
              "      <td>5481</td>\n",
              "      <td>1778</td>\n",
              "      <td>5146</td>\n",
              "      <td>846</td>\n",
              "    </tr>\n",
              "    <tr>\n",
              "      <th>4</th>\n",
              "      <td>4</td>\n",
              "      <td>9</td>\n",
              "      <td>16</td>\n",
              "      <td>4552</td>\n",
              "      <td>1675</td>\n",
              "      <td>3462</td>\n",
              "    </tr>\n",
              "  </tbody>\n",
              "</table>\n",
              "</div>"
            ],
            "text/plain": [
              "   book0  book1  book2  book3  book4  book5\n",
              "0      0   5323   5241   1020   2379    696\n",
              "1      1   3220    339   3822   1445   1297\n",
              "2      2   3165   3631   1183   2158    480\n",
              "3      3   3095   5481   1778   5146    846\n",
              "4      4      9     16   4552   1675   3462"
            ]
          },
          "execution_count": 20,
          "metadata": {},
          "output_type": "execute_result"
        }
      ],
      "source": [
        "rec = pd.DataFrame(indices, columns=['book0','book1','book2','book3','book4','book5'])\n",
        "rec.head()"
      ]
    },
    {
      "cell_type": "code",
      "execution_count": null,
      "id": "5f7c728e",
      "metadata": {
        "id": "5f7c728e",
        "outputId": "a86a8fcb-b9fa-4e1f-9f40-0f5a3908e3c0"
      },
      "outputs": [
        {
          "data": {
            "text/html": [
              "<div>\n",
              "<style scoped>\n",
              "    .dataframe tbody tr th:only-of-type {\n",
              "        vertical-align: middle;\n",
              "    }\n",
              "\n",
              "    .dataframe tbody tr th {\n",
              "        vertical-align: top;\n",
              "    }\n",
              "\n",
              "    .dataframe thead th {\n",
              "        text-align: right;\n",
              "    }\n",
              "</style>\n",
              "<table border=\"1\" class=\"dataframe\">\n",
              "  <thead>\n",
              "    <tr style=\"text-align: right;\">\n",
              "      <th></th>\n",
              "      <th>book0</th>\n",
              "      <th>BookTitle</th>\n",
              "    </tr>\n",
              "  </thead>\n",
              "  <tbody>\n",
              "    <tr>\n",
              "      <th>0</th>\n",
              "      <td>0</td>\n",
              "      <td>10 Lb. Penalty</td>\n",
              "    </tr>\n",
              "    <tr>\n",
              "      <th>1</th>\n",
              "      <td>1</td>\n",
              "      <td>1001 Ways to Be Romantic</td>\n",
              "    </tr>\n",
              "    <tr>\n",
              "      <th>2</th>\n",
              "      <td>2</td>\n",
              "      <td>101 Dalmatians</td>\n",
              "    </tr>\n",
              "    <tr>\n",
              "      <th>3</th>\n",
              "      <td>3</td>\n",
              "      <td>14,000 Things to Be Happy About</td>\n",
              "    </tr>\n",
              "    <tr>\n",
              "      <th>4</th>\n",
              "      <td>4</td>\n",
              "      <td>16 Lighthouse Road</td>\n",
              "    </tr>\n",
              "  </tbody>\n",
              "</table>\n",
              "</div>"
            ],
            "text/plain": [
              "   book0                        BookTitle\n",
              "0      0                   10 Lb. Penalty\n",
              "1      1         1001 Ways to Be Romantic\n",
              "2      2                   101 Dalmatians\n",
              "3      3  14,000 Things to Be Happy About\n",
              "4      4               16 Lighthouse Road"
            ]
          },
          "execution_count": 21,
          "metadata": {},
          "output_type": "execute_result"
        }
      ],
      "source": [
        "books = pd.DataFrame(book_rating_pivot.index).reset_index()\n",
        "books = books.rename(columns={'index':'book0'})\n",
        "books.head()"
      ]
    },
    {
      "cell_type": "code",
      "execution_count": null,
      "id": "b53ea582",
      "metadata": {
        "id": "b53ea582"
      },
      "outputs": [],
      "source": [
        "rec2 = rec.copy()\n",
        "\n",
        "for i in range(0, 6):\n",
        "    books = pd.DataFrame(book_rating_pivot.index).reset_index()\n",
        "    books = books.rename(columns={'index':f'book{i}'})\n",
        "\n",
        "    rec2 = pd.merge(rec2, books, on=[f'book{i}'], how='left')\n",
        "    rec2 = rec2.drop(f'book{i}', axis=1)\n",
        "    rec2 = rec2.rename(columns={'BookTitle':f'book{i}'})\n",
        "#print(rec2.head())"
      ]
    },
    {
      "cell_type": "code",
      "execution_count": null,
      "id": "20746798",
      "metadata": {
        "id": "20746798",
        "outputId": "c24e0581-c370-400f-b5bf-8204791d1838"
      },
      "outputs": [
        {
          "data": {
            "text/html": [
              "<div>\n",
              "<style scoped>\n",
              "    .dataframe tbody tr th:only-of-type {\n",
              "        vertical-align: middle;\n",
              "    }\n",
              "\n",
              "    .dataframe tbody tr th {\n",
              "        vertical-align: top;\n",
              "    }\n",
              "\n",
              "    .dataframe thead th {\n",
              "        text-align: right;\n",
              "    }\n",
              "</style>\n",
              "<table border=\"1\" class=\"dataframe\">\n",
              "  <thead>\n",
              "    <tr style=\"text-align: right;\">\n",
              "      <th></th>\n",
              "      <th>book0</th>\n",
              "      <th>book1</th>\n",
              "      <th>book2</th>\n",
              "      <th>book3</th>\n",
              "      <th>book4</th>\n",
              "      <th>book5</th>\n",
              "    </tr>\n",
              "  </thead>\n",
              "  <tbody>\n",
              "    <tr>\n",
              "      <th>5</th>\n",
              "      <td>1984</td>\n",
              "      <td>Brave New World</td>\n",
              "      <td>Animal Farm</td>\n",
              "      <td>Lord of the Flies</td>\n",
              "      <td>The Catcher in the Rye</td>\n",
              "      <td>Fahrenheit 451</td>\n",
              "    </tr>\n",
              "  </tbody>\n",
              "</table>\n",
              "</div>"
            ],
            "text/plain": [
              "  book0            book1        book2              book3  \\\n",
              "5  1984  Brave New World  Animal Farm  Lord of the Flies   \n",
              "\n",
              "                    book4           book5  \n",
              "5  The Catcher in the Rye  Fahrenheit 451  "
            ]
          },
          "execution_count": 23,
          "metadata": {},
          "output_type": "execute_result"
        }
      ],
      "source": [
        "rec2[rec2['book0']==\"1984\"]"
      ]
    },
    {
      "cell_type": "code",
      "execution_count": null,
      "id": "44714467",
      "metadata": {
        "id": "44714467",
        "outputId": "6c26d79e-145e-4182-c62f-bceda982135d"
      },
      "outputs": [
        {
          "data": {
            "text/html": [
              "<div>\n",
              "<style scoped>\n",
              "    .dataframe tbody tr th:only-of-type {\n",
              "        vertical-align: middle;\n",
              "    }\n",
              "\n",
              "    .dataframe tbody tr th {\n",
              "        vertical-align: top;\n",
              "    }\n",
              "\n",
              "    .dataframe thead th {\n",
              "        text-align: right;\n",
              "    }\n",
              "</style>\n",
              "<table border=\"1\" class=\"dataframe\">\n",
              "  <thead>\n",
              "    <tr style=\"text-align: right;\">\n",
              "      <th></th>\n",
              "      <th>book0</th>\n",
              "      <th>book1</th>\n",
              "      <th>book2</th>\n",
              "      <th>book3</th>\n",
              "      <th>book4</th>\n",
              "      <th>book5</th>\n",
              "    </tr>\n",
              "  </thead>\n",
              "  <tbody>\n",
              "    <tr>\n",
              "      <th>2</th>\n",
              "      <td>101 Dalmatians</td>\n",
              "      <td>Prince and the Pauper Walt Disney</td>\n",
              "      <td>Snow White and the Seven Dwarfs</td>\n",
              "      <td>Disneys the Lion King (Little Golden Book)</td>\n",
              "      <td>Jungle Book</td>\n",
              "      <td>Bears on Wheels (Bright &amp;amp; Early Books)</td>\n",
              "    </tr>\n",
              "  </tbody>\n",
              "</table>\n",
              "</div>"
            ],
            "text/plain": [
              "            book0                              book1  \\\n",
              "2  101 Dalmatians  Prince and the Pauper Walt Disney   \n",
              "\n",
              "                             book2  \\\n",
              "2  Snow White and the Seven Dwarfs   \n",
              "\n",
              "                                        book3        book4  \\\n",
              "2  Disneys the Lion King (Little Golden Book)  Jungle Book   \n",
              "\n",
              "                                        book5  \n",
              "2  Bears on Wheels (Bright &amp; Early Books)  "
            ]
          },
          "execution_count": 24,
          "metadata": {},
          "output_type": "execute_result"
        }
      ],
      "source": [
        "rec2[rec2['book0']==\"101 Dalmatians\"]"
      ]
    },
    {
      "cell_type": "code",
      "execution_count": null,
      "id": "d2391cc5",
      "metadata": {
        "id": "d2391cc5",
        "outputId": "6dafbd04-df62-4c76-cc48-ae74860b5a4b"
      },
      "outputs": [
        {
          "data": {
            "text/html": [
              "<div>\n",
              "<style scoped>\n",
              "    .dataframe tbody tr th:only-of-type {\n",
              "        vertical-align: middle;\n",
              "    }\n",
              "\n",
              "    .dataframe tbody tr th {\n",
              "        vertical-align: top;\n",
              "    }\n",
              "\n",
              "    .dataframe thead th {\n",
              "        text-align: right;\n",
              "    }\n",
              "</style>\n",
              "<table border=\"1\" class=\"dataframe\">\n",
              "  <thead>\n",
              "    <tr style=\"text-align: right;\">\n",
              "      <th></th>\n",
              "      <th>book0</th>\n",
              "      <th>book1</th>\n",
              "      <th>book2</th>\n",
              "      <th>book3</th>\n",
              "      <th>book4</th>\n",
              "      <th>book5</th>\n",
              "    </tr>\n",
              "  </thead>\n",
              "  <tbody>\n",
              "    <tr>\n",
              "      <th>2392</th>\n",
              "      <td>Lord of the Flies</td>\n",
              "      <td>1984</td>\n",
              "      <td>To Kill a Mockingbird</td>\n",
              "      <td>Fahrenheit 451</td>\n",
              "      <td>The Catcher in the Rye</td>\n",
              "      <td>Number the Stars (Yearling Newbery)</td>\n",
              "    </tr>\n",
              "  </tbody>\n",
              "</table>\n",
              "</div>"
            ],
            "text/plain": [
              "                  book0 book1                  book2           book3  \\\n",
              "2392  Lord of the Flies  1984  To Kill a Mockingbird  Fahrenheit 451   \n",
              "\n",
              "                       book4                                book5  \n",
              "2392  The Catcher in the Rye  Number the Stars (Yearling Newbery)  "
            ]
          },
          "execution_count": 25,
          "metadata": {},
          "output_type": "execute_result"
        }
      ],
      "source": [
        "rec2[rec2['book0']==\"Lord of the Flies\"]"
      ]
    },
    {
      "cell_type": "markdown",
      "id": "8a15c672",
      "metadata": {
        "id": "8a15c672"
      },
      "source": [
        "## CF - Model Based (Item-Item)\n",
        "### SVD - similarity of books via users"
      ]
    },
    {
      "cell_type": "code",
      "execution_count": null,
      "id": "71bee68b",
      "metadata": {
        "id": "71bee68b",
        "outputId": "ea2b8991-e515-497d-a1e7-44c1b14cdd7a"
      },
      "outputs": [
        {
          "data": {
            "text/plain": [
              "(5665, 5993)"
            ]
          },
          "execution_count": 26,
          "metadata": {},
          "output_type": "execute_result"
        }
      ],
      "source": [
        "book_rating_pivot.shape"
      ]
    },
    {
      "cell_type": "code",
      "execution_count": null,
      "id": "9d4a6d4e",
      "metadata": {
        "id": "9d4a6d4e"
      },
      "outputs": [],
      "source": [
        "X = book_rating_pivot.values"
      ]
    },
    {
      "cell_type": "code",
      "execution_count": null,
      "id": "95279799",
      "metadata": {
        "id": "95279799"
      },
      "outputs": [],
      "source": [
        "import matplotlib.pyplot as plt\n",
        "import sklearn\n",
        "from sklearn.decomposition import TruncatedSVD"
      ]
    },
    {
      "cell_type": "code",
      "execution_count": null,
      "id": "14d5867f",
      "metadata": {
        "id": "14d5867f",
        "outputId": "0c01af3b-5067-498e-a049-93aa173ea573"
      },
      "outputs": [
        {
          "name": "stdout",
          "output_type": "stream",
          "text": [
            "2305\n"
          ]
        }
      ],
      "source": [
        "svd = TruncatedSVD(n_components=5992, random_state=42)\n",
        "svd.fit(X)\n",
        "\n",
        "count=0\n",
        "for index, cumsum in enumerate(np.cumsum(svd.explained_variance_ratio_)):\n",
        "    if cumsum<=0.95:\n",
        "        count+=1\n",
        "    else:\n",
        "        break\n",
        "\n",
        "print(count)"
      ]
    },
    {
      "cell_type": "code",
      "execution_count": null,
      "id": "7631f1c3",
      "metadata": {
        "id": "7631f1c3",
        "outputId": "6bce9dba-4a31-4c12-ba9a-c4fe86afcfc6"
      },
      "outputs": [
        {
          "data": {
            "image/png": "[encoded data removed]",
            "text/plain": [
              "<Figure size 640x480 with 1 Axes>"
            ]
          },
          "metadata": {},
          "output_type": "display_data"
        }
      ],
      "source": [
        "SVD = TruncatedSVD(n_components=count, random_state=17)\n",
        "SVD.fit(X)\n",
        "\n",
        "plt.plot(np.cumsum(SVD.explained_variance_ratio_))\n",
        "plt.show()"
      ]
    },
    {
      "cell_type": "code",
      "execution_count": null,
      "id": "1250ed77",
      "metadata": {
        "id": "1250ed77",
        "outputId": "89c68a8b-4f60-4fa3-fca4-dc63d2548399"
      },
      "outputs": [
        {
          "data": {
            "image/png": "[encoded data removed]",
            "text/plain": [
              "<Figure size 640x480 with 1 Axes>"
            ]
          },
          "metadata": {},
          "output_type": "display_data"
        }
      ],
      "source": [
        "plt.plot(SVD.explained_variance_ratio_)\n",
        "plt.show()"
      ]
    },
    {
      "cell_type": "code",
      "execution_count": null,
      "id": "2c393177",
      "metadata": {
        "id": "2c393177",
        "outputId": "02409e6b-d242-4dcc-8467-0ae4f1aaf7a6"
      },
      "outputs": [
        {
          "data": {
            "text/plain": [
              "array([2.96464970e-02, 1.39845438e-02, 1.00531090e-02, ...,\n",
              "       5.19937536e-05, 5.17974995e-05, 5.15776322e-05])"
            ]
          },
          "execution_count": 32,
          "metadata": {},
          "output_type": "execute_result"
        }
      ],
      "source": [
        "SVD.explained_variance_ratio_"
      ]
    },
    {
      "cell_type": "code",
      "execution_count": null,
      "id": "9089878c",
      "metadata": {
        "id": "9089878c",
        "outputId": "1ca21444-8855-4e63-d37b-063ae930d44b"
      },
      "outputs": [
        {
          "data": {
            "text/plain": [
              "(5665, 2305)"
            ]
          },
          "execution_count": 33,
          "metadata": {},
          "output_type": "execute_result"
        }
      ],
      "source": [
        "import sklearn\n",
        "from sklearn.decomposition import TruncatedSVD\n",
        "\n",
        "SVD = TruncatedSVD(n_components=count, random_state=17)\n",
        "matrix = SVD.fit_transform(X)\n",
        "matrix.shape"
      ]
    },
    {
      "cell_type": "code",
      "execution_count": null,
      "id": "fb34166c",
      "metadata": {
        "id": "fb34166c",
        "outputId": "7a0eb6b7-f1f9-49c5-ebc2-435ebaa3543c"
      },
      "outputs": [
        {
          "data": {
            "text/plain": [
              "(5665, 5665)"
            ]
          },
          "execution_count": 34,
          "metadata": {},
          "output_type": "execute_result"
        }
      ],
      "source": [
        "corr = np.corrcoef(matrix)\n",
        "corr.shape"
      ]
    },
    {
      "cell_type": "code",
      "execution_count": null,
      "id": "bc148f14",
      "metadata": {
        "id": "bc148f14",
        "outputId": "ab46c616-261e-4fb1-f009-689e5ef84160"
      },
      "outputs": [
        {
          "name": "stdout",
          "output_type": "stream",
          "text": [
            "5\n"
          ]
        }
      ],
      "source": [
        "book_title = book_rating_pivot.index\n",
        "book_list = list(book_title)\n",
        "book_1984 = book_list.index(\"1984\")\n",
        "print(book_1984)"
      ]
    },
    {
      "cell_type": "code",
      "execution_count": null,
      "id": "df560625",
      "metadata": {
        "id": "df560625"
      },
      "outputs": [],
      "source": [
        "corr_book_1984  = corr[book_1984]"
      ]
    },
    {
      "cell_type": "code",
      "execution_count": null,
      "id": "f3f5673a",
      "metadata": {
        "id": "f3f5673a",
        "outputId": "1fd88cbf-6baf-40bd-8937-6feb3f70c032"
      },
      "outputs": [
        {
          "data": {
            "text/plain": [
              "array([-0.00081655,  0.01810292,  0.02679466, ...,  0.05295258,\n",
              "        0.07218828,  0.07465153])"
            ]
          },
          "execution_count": 37,
          "metadata": {},
          "output_type": "execute_result"
        }
      ],
      "source": [
        "corr_book_1984"
      ]
    },
    {
      "cell_type": "code",
      "execution_count": null,
      "id": "10a3a6e8",
      "metadata": {
        "id": "10a3a6e8",
        "outputId": "3047118d-ae96-4621-b259-9076d15194d1"
      },
      "outputs": [
        {
          "data": {
            "text/plain": [
              "['1984',\n",
              " 'Animal Farm',\n",
              " 'Biblioholism: The Literary Addiction',\n",
              " 'Brave New World',\n",
              " 'Fahrenheit 451',\n",
              " 'Fast Food Nation: The Dark Side of the All-American Meal',\n",
              " 'Lord of the Flies',\n",
              " 'Me Talk Pretty One Day',\n",
              " 'Silence of the Lambs',\n",
              " 'The Catcher in the Rye',\n",
              " 'The Glass Menagerie',\n",
              " 'The Hitchhikers Guide to the Galaxy',\n",
              " 'To Kill a Mockingbird',\n",
              " 'Word Freak: Heartbreak, Triumph, Genius, and Obsession in the World of Competitive Scrabble Players']"
            ]
          },
          "execution_count": 38,
          "metadata": {},
          "output_type": "execute_result"
        }
      ],
      "source": [
        "list(book_title[(corr_book_1984>0.15)])"
      ]
    },
    {
      "cell_type": "code",
      "execution_count": null,
      "id": "dce2b39a-0337-4ee2-b9f3-d5e8304e02aa",
      "metadata": {
        "tags": [],
        "id": "dce2b39a-0337-4ee2-b9f3-d5e8304e02aa",
        "outputId": "64af1625-4528-4d54-e530-8d8125866f59"
      },
      "outputs": [
        {
          "data": {
            "text/html": [
              "<div>\n",
              "<style scoped>\n",
              "    .dataframe tbody tr th:only-of-type {\n",
              "        vertical-align: middle;\n",
              "    }\n",
              "\n",
              "    .dataframe tbody tr th {\n",
              "        vertical-align: top;\n",
              "    }\n",
              "\n",
              "    .dataframe thead th {\n",
              "        text-align: right;\n",
              "    }\n",
              "</style>\n",
              "<table border=\"1\" class=\"dataframe\">\n",
              "  <thead>\n",
              "    <tr style=\"text-align: right;\">\n",
              "      <th></th>\n",
              "      <th>corr</th>\n",
              "    </tr>\n",
              "    <tr>\n",
              "      <th>BookTitle</th>\n",
              "      <th></th>\n",
              "    </tr>\n",
              "  </thead>\n",
              "  <tbody>\n",
              "    <tr>\n",
              "      <th>1984</th>\n",
              "      <td>1.0000</td>\n",
              "    </tr>\n",
              "    <tr>\n",
              "      <th>Brave New World</th>\n",
              "      <td>0.2735</td>\n",
              "    </tr>\n",
              "    <tr>\n",
              "      <th>Animal Farm</th>\n",
              "      <td>0.2380</td>\n",
              "    </tr>\n",
              "    <tr>\n",
              "      <th>Lord of the Flies</th>\n",
              "      <td>0.2321</td>\n",
              "    </tr>\n",
              "    <tr>\n",
              "      <th>The Catcher in the Rye</th>\n",
              "      <td>0.1982</td>\n",
              "    </tr>\n",
              "    <tr>\n",
              "      <th>Fahrenheit 451</th>\n",
              "      <td>0.1831</td>\n",
              "    </tr>\n",
              "    <tr>\n",
              "      <th>Biblioholism: The Literary Addiction</th>\n",
              "      <td>0.1774</td>\n",
              "    </tr>\n",
              "    <tr>\n",
              "      <th>Word Freak: Heartbreak, Triumph, Genius, and Obsession in the World of Competitive Scrabble Players</th>\n",
              "      <td>0.1708</td>\n",
              "    </tr>\n",
              "    <tr>\n",
              "      <th>The Hitchhikers Guide to the Galaxy</th>\n",
              "      <td>0.1674</td>\n",
              "    </tr>\n",
              "    <tr>\n",
              "      <th>Silence of the Lambs</th>\n",
              "      <td>0.1654</td>\n",
              "    </tr>\n",
              "  </tbody>\n",
              "</table>\n",
              "</div>"
            ],
            "text/plain": [
              "                                                     corr\n",
              "BookTitle                                                \n",
              "1984                                               1.0000\n",
              "Brave New World                                    0.2735\n",
              "Animal Farm                                        0.2380\n",
              "Lord of the Flies                                  0.2321\n",
              "The Catcher in the Rye                             0.1982\n",
              "Fahrenheit 451                                     0.1831\n",
              "Biblioholism: The Literary Addiction               0.1774\n",
              "Word Freak: Heartbreak, Triumph, Genius, and Ob... 0.1708\n",
              "The Hitchhikers Guide to the Galaxy                0.1674\n",
              "Silence of the Lambs                               0.1654"
            ]
          },
          "execution_count": 39,
          "metadata": {},
          "output_type": "execute_result"
        }
      ],
      "source": [
        "bklist = pd.DataFrame(corr_book_1984, columns=['corr'], index=book_title)\n",
        "bklist = bklist.sort_values('corr', ascending=False)\n",
        "bklist.head(10)"
      ]
    },
    {
      "cell_type": "markdown",
      "id": "96bbd67a",
      "metadata": {
        "id": "96bbd67a"
      },
      "source": [
        "### CF - Model Based (User-Item)\n",
        "#### Collaborative Filtering - Surprise"
      ]
    },
    {
      "cell_type": "code",
      "execution_count": null,
      "id": "b176f230",
      "metadata": {
        "id": "b176f230"
      },
      "outputs": [],
      "source": [
        "from sklearn.metrics.pairwise import cosine_similarity, linear_kernel\n",
        "from surprise import Reader, SVD, Dataset\n",
        "from surprise.model_selection import cross_validate"
      ]
    },
    {
      "cell_type": "code",
      "execution_count": null,
      "id": "8dec2189",
      "metadata": {
        "id": "8dec2189"
      },
      "outputs": [],
      "source": [
        "reader = Reader(rating_scale=(1, 10))\n",
        "data = Dataset.load_from_df(rating[['UserID', 'BookTitle', 'BookRating']], reader)"
      ]
    },
    {
      "cell_type": "code",
      "execution_count": null,
      "id": "f0991b33-96eb-4224-b8f0-ceaf26cd5bf9",
      "metadata": {
        "tags": [],
        "id": "f0991b33-96eb-4224-b8f0-ceaf26cd5bf9",
        "outputId": "f929d098-e975-405b-ebfb-ae590a8d00b3"
      },
      "outputs": [
        {
          "data": {
            "text/plain": [
              "{'test_rmse': array([0.93076131, 0.93307215, 0.9292337 ]),\n",
              " 'train_rmse': array([0.66328636, 0.66399635, 0.66568352]),\n",
              " 'fit_time': (2.141247034072876, 2.219325065612793, 2.281632900238037),\n",
              " 'test_time': (0.4998779296875, 0.7798244953155518, 0.6866743564605713)}"
            ]
          },
          "execution_count": 42,
          "metadata": {},
          "output_type": "execute_result"
        }
      ],
      "source": [
        "svd = SVD()\n",
        "cross_validate(svd, data, measures=['rmse'], cv=3, return_train_measures=True)"
      ]
    },
    {
      "cell_type": "code",
      "execution_count": null,
      "id": "ab7e64fd",
      "metadata": {
        "id": "ab7e64fd",
        "outputId": "4078d58a-bafe-478e-a358-cc6232042e46"
      },
      "outputs": [
        {
          "data": {
            "text/plain": [
              "{'test_rmse': array([0.91616142, 0.91203093, 0.92736123]),\n",
              " 'train_rmse': array([0.86033968, 0.86341493, 0.85584987]),\n",
              " 'fit_time': (1.1770658493041992, 1.2658305168151855, 1.266063928604126),\n",
              " 'test_time': (0.5785596370697021, 0.7181158065795898, 0.6404709815979004)}"
            ]
          },
          "execution_count": 43,
          "metadata": {},
          "output_type": "execute_result"
        }
      ],
      "source": [
        "svd = SVD(n_factors=5, reg_all=0.05)\n",
        "cross_validate(svd, data, measures=['rmse'], cv=3, return_train_measures=True)"
      ]
    },
    {
      "cell_type": "code",
      "execution_count": null,
      "id": "48270802-a5dc-4753-ba2d-51a3c8ffb9d4",
      "metadata": {
        "tags": [],
        "id": "48270802-a5dc-4753-ba2d-51a3c8ffb9d4",
        "outputId": "029c7eb7-6a9a-4906-dbd7-68279ea9b027"
      },
      "outputs": [
        {
          "name": "stdout",
          "output_type": "stream",
          "text": [
            "{'n_factors': 5, 'reg_all': 0.05}\n"
          ]
        }
      ],
      "source": [
        "## Tuning Surprise\n",
        "\n",
        "from surprise.model_selection import GridSearchCV\n",
        "param_grid = {'n_factors': [5, 10, 25, 50], 'reg_all': [0.01, 0.05, 0.1, 0.2]}\n",
        "\n",
        "gs = GridSearchCV(SVD, param_grid,  measures=['rmse', 'mae'], cv=3)\n",
        "gs.fit(data)\n",
        "\n",
        "print(gs.best_params['rmse'])"
      ]
    },
    {
      "cell_type": "code",
      "execution_count": null,
      "id": "cfe25ef3",
      "metadata": {
        "id": "cfe25ef3",
        "outputId": "5d4283ca-15ea-4247-e7e5-b1d0a8626ac8"
      },
      "outputs": [
        {
          "data": {
            "text/plain": [
              "<surprise.prediction_algorithms.matrix_factorization.SVD at 0x210a15d7b20>"
            ]
          },
          "execution_count": 45,
          "metadata": {},
          "output_type": "execute_result"
        }
      ],
      "source": [
        "## Train the model on the entire dataset using the fit method after converting the dataset for\n",
        "## into a Surprise Trainset object using the build_full_trainset method.\n",
        "\n",
        "trainset = data.build_full_trainset()\n",
        "svd.fit(trainset)"
      ]
    },
    {
      "cell_type": "raw",
      "id": "ff4cd42a",
      "metadata": {
        "id": "ff4cd42a"
      },
      "source": [
        "Let's take look at the preference of a user"
      ]
    },
    {
      "cell_type": "code",
      "execution_count": null,
      "id": "22816422",
      "metadata": {
        "id": "22816422",
        "outputId": "19f3c9e9-edd2-4884-e863-2d374a76ee68"
      },
      "outputs": [
        {
          "data": {
            "text/html": [
              "<div>\n",
              "<style scoped>\n",
              "    .dataframe tbody tr th:only-of-type {\n",
              "        vertical-align: middle;\n",
              "    }\n",
              "\n",
              "    .dataframe tbody tr th {\n",
              "        vertical-align: top;\n",
              "    }\n",
              "\n",
              "    .dataframe thead th {\n",
              "        text-align: right;\n",
              "    }\n",
              "</style>\n",
              "<table border=\"1\" class=\"dataframe\">\n",
              "  <thead>\n",
              "    <tr style=\"text-align: right;\">\n",
              "      <th></th>\n",
              "      <th>UserID</th>\n",
              "      <th>ISBN</th>\n",
              "      <th>BookRating</th>\n",
              "      <th>BookTitle</th>\n",
              "    </tr>\n",
              "  </thead>\n",
              "  <tbody>\n",
              "    <tr>\n",
              "      <th>701</th>\n",
              "      <td>276964</td>\n",
              "      <td>0812550307</td>\n",
              "      <td>10.0000</td>\n",
              "      <td>The Fires of Heaven (The Wheel of Time, Book 5)</td>\n",
              "    </tr>\n",
              "    <tr>\n",
              "      <th>684</th>\n",
              "      <td>276964</td>\n",
              "      <td>0345354621</td>\n",
              "      <td>10.0000</td>\n",
              "      <td>The Terminal Man</td>\n",
              "    </tr>\n",
              "    <tr>\n",
              "      <th>691</th>\n",
              "      <td>276964</td>\n",
              "      <td>0440220602</td>\n",
              "      <td>9.0000</td>\n",
              "      <td>The Chamber</td>\n",
              "    </tr>\n",
              "    <tr>\n",
              "      <th>688</th>\n",
              "      <td>276964</td>\n",
              "      <td>0425104273</td>\n",
              "      <td>9.0000</td>\n",
              "      <td>The First Deadly Sin</td>\n",
              "    </tr>\n",
              "    <tr>\n",
              "      <th>692</th>\n",
              "      <td>276964</td>\n",
              "      <td>0446522856</td>\n",
              "      <td>9.0000</td>\n",
              "      <td>The Last Day</td>\n",
              "    </tr>\n",
              "    <tr>\n",
              "      <th>702</th>\n",
              "      <td>276964</td>\n",
              "      <td>0843949163</td>\n",
              "      <td>8.0000</td>\n",
              "      <td>In the Dark</td>\n",
              "    </tr>\n",
              "    <tr>\n",
              "      <th>699</th>\n",
              "      <td>276964</td>\n",
              "      <td>0765342987</td>\n",
              "      <td>8.0000</td>\n",
              "      <td>Kushiels Dart</td>\n",
              "    </tr>\n",
              "    <tr>\n",
              "      <th>704</th>\n",
              "      <td>276964</td>\n",
              "      <td>0886774802</td>\n",
              "      <td>8.0000</td>\n",
              "      <td>Stone of Farewell (Memory, Sorrow, and Thorn, ...</td>\n",
              "    </tr>\n",
              "    <tr>\n",
              "      <th>698</th>\n",
              "      <td>276964</td>\n",
              "      <td>0684867621</td>\n",
              "      <td>8.0000</td>\n",
              "      <td>The Girl Who Loved Tom Gordon : A Novel</td>\n",
              "    </tr>\n",
              "    <tr>\n",
              "      <th>689</th>\n",
              "      <td>276964</td>\n",
              "      <td>0425172546</td>\n",
              "      <td>7.0000</td>\n",
              "      <td>Southern Cross</td>\n",
              "    </tr>\n",
              "    <tr>\n",
              "      <th>694</th>\n",
              "      <td>276964</td>\n",
              "      <td>0451198514</td>\n",
              "      <td>7.0000</td>\n",
              "      <td>Stealing Faces</td>\n",
              "    </tr>\n",
              "    <tr>\n",
              "      <th>703</th>\n",
              "      <td>276964</td>\n",
              "      <td>0886773741</td>\n",
              "      <td>7.0000</td>\n",
              "      <td>Tailchasers Song</td>\n",
              "    </tr>\n",
              "    <tr>\n",
              "      <th>693</th>\n",
              "      <td>276964</td>\n",
              "      <td>0451180054</td>\n",
              "      <td>7.0000</td>\n",
              "      <td>Trial by Fire</td>\n",
              "    </tr>\n",
              "    <tr>\n",
              "      <th>685</th>\n",
              "      <td>276964</td>\n",
              "      <td>0345385764</td>\n",
              "      <td>6.0000</td>\n",
              "      <td>Night Manager</td>\n",
              "    </tr>\n",
              "    <tr>\n",
              "      <th>690</th>\n",
              "      <td>276964</td>\n",
              "      <td>0440218667</td>\n",
              "      <td>5.0000</td>\n",
              "      <td>The Select</td>\n",
              "    </tr>\n",
              "  </tbody>\n",
              "</table>\n",
              "</div>"
            ],
            "text/plain": [
              "     UserID        ISBN  BookRating  \\\n",
              "701  276964  0812550307     10.0000   \n",
              "684  276964  0345354621     10.0000   \n",
              "691  276964  0440220602      9.0000   \n",
              "688  276964  0425104273      9.0000   \n",
              "692  276964  0446522856      9.0000   \n",
              "702  276964  0843949163      8.0000   \n",
              "699  276964  0765342987      8.0000   \n",
              "704  276964  0886774802      8.0000   \n",
              "698  276964  0684867621      8.0000   \n",
              "689  276964  0425172546      7.0000   \n",
              "694  276964  0451198514      7.0000   \n",
              "703  276964  0886773741      7.0000   \n",
              "693  276964  0451180054      7.0000   \n",
              "685  276964  0345385764      6.0000   \n",
              "690  276964  0440218667      5.0000   \n",
              "\n",
              "                                             BookTitle  \n",
              "701    The Fires of Heaven (The Wheel of Time, Book 5)  \n",
              "684                                   The Terminal Man  \n",
              "691                                        The Chamber  \n",
              "688                               The First Deadly Sin  \n",
              "692                                       The Last Day  \n",
              "702                                        In the Dark  \n",
              "699                                      Kushiels Dart  \n",
              "704  Stone of Farewell (Memory, Sorrow, and Thorn, ...  \n",
              "698            The Girl Who Loved Tom Gordon : A Novel  \n",
              "689                                     Southern Cross  \n",
              "694                                     Stealing Faces  \n",
              "703                                   Tailchasers Song  \n",
              "693                                      Trial by Fire  \n",
              "685                                      Night Manager  \n",
              "690                                         The Select  "
            ]
          },
          "execution_count": 46,
          "metadata": {},
          "output_type": "execute_result"
        }
      ],
      "source": [
        "rr = rating[rating['UserID']==276964].sort_values(by='BookRating', ascending=False)\n",
        "rr"
      ]
    },
    {
      "cell_type": "code",
      "execution_count": null,
      "id": "0223bfca",
      "metadata": {
        "id": "0223bfca"
      },
      "outputs": [],
      "source": [
        "items = book_rating_count['BookTitle'].unique()\n",
        "test = [[276964, iid, 4] for iid in items]\n",
        "predictions = svd.test(test)\n",
        "pred = pd.DataFrame(predictions)"
      ]
    },
    {
      "cell_type": "code",
      "execution_count": null,
      "id": "6f372a99",
      "metadata": {
        "id": "6f372a99",
        "outputId": "1397e57a-2f7b-435e-a02b-9f86a969d31c"
      },
      "outputs": [
        {
          "data": {
            "text/html": [
              "<div>\n",
              "<style scoped>\n",
              "    .dataframe tbody tr th:only-of-type {\n",
              "        vertical-align: middle;\n",
              "    }\n",
              "\n",
              "    .dataframe tbody tr th {\n",
              "        vertical-align: top;\n",
              "    }\n",
              "\n",
              "    .dataframe thead th {\n",
              "        text-align: right;\n",
              "    }\n",
              "</style>\n",
              "<table border=\"1\" class=\"dataframe\">\n",
              "  <thead>\n",
              "    <tr style=\"text-align: right;\">\n",
              "      <th></th>\n",
              "      <th>uid</th>\n",
              "      <th>iid</th>\n",
              "      <th>r_ui</th>\n",
              "      <th>est</th>\n",
              "      <th>details</th>\n",
              "    </tr>\n",
              "  </thead>\n",
              "  <tbody>\n",
              "    <tr>\n",
              "      <th>2755</th>\n",
              "      <td>276964</td>\n",
              "      <td>Natural California: A Postcard Book</td>\n",
              "      <td>4</td>\n",
              "      <td>9.9676</td>\n",
              "      <td>{'was_impossible': False}</td>\n",
              "    </tr>\n",
              "    <tr>\n",
              "      <th>2544</th>\n",
              "      <td>276964</td>\n",
              "      <td>Mere Christianity: A revised and enlarged edit...</td>\n",
              "      <td>4</td>\n",
              "      <td>9.9380</td>\n",
              "      <td>{'was_impossible': False}</td>\n",
              "    </tr>\n",
              "    <tr>\n",
              "      <th>3334</th>\n",
              "      <td>276964</td>\n",
              "      <td>Roseanne: My Life As a Woman</td>\n",
              "      <td>4</td>\n",
              "      <td>9.8927</td>\n",
              "      <td>{'was_impossible': False}</td>\n",
              "    </tr>\n",
              "    <tr>\n",
              "      <th>1171</th>\n",
              "      <td>276964</td>\n",
              "      <td>Dilbert: A Book of Postcards</td>\n",
              "      <td>4</td>\n",
              "      <td>9.8870</td>\n",
              "      <td>{'was_impossible': False}</td>\n",
              "    </tr>\n",
              "    <tr>\n",
              "      <th>1772</th>\n",
              "      <td>276964</td>\n",
              "      <td>Harry Potter and the Chamber of Secrets Postca...</td>\n",
              "      <td>4</td>\n",
              "      <td>9.8841</td>\n",
              "      <td>{'was_impossible': False}</td>\n",
              "    </tr>\n",
              "    <tr>\n",
              "      <th>2843</th>\n",
              "      <td>276964</td>\n",
              "      <td>North and South (North and South Trilogy, Book 1)</td>\n",
              "      <td>4</td>\n",
              "      <td>9.8741</td>\n",
              "      <td>{'was_impossible': False}</td>\n",
              "    </tr>\n",
              "    <tr>\n",
              "      <th>1890</th>\n",
              "      <td>276964</td>\n",
              "      <td>Honor Bound (Honor Bound (Paperback))</td>\n",
              "      <td>4</td>\n",
              "      <td>9.8236</td>\n",
              "      <td>{'was_impossible': False}</td>\n",
              "    </tr>\n",
              "    <tr>\n",
              "      <th>740</th>\n",
              "      <td>276964</td>\n",
              "      <td>Calvin and Hobbes</td>\n",
              "      <td>4</td>\n",
              "      <td>9.8109</td>\n",
              "      <td>{'was_impossible': False}</td>\n",
              "    </tr>\n",
              "    <tr>\n",
              "      <th>3125</th>\n",
              "      <td>276964</td>\n",
              "      <td>Postmarked Yesteryear: 30 Rare Holiday Postcards</td>\n",
              "      <td>4</td>\n",
              "      <td>9.8081</td>\n",
              "      <td>{'was_impossible': False}</td>\n",
              "    </tr>\n",
              "    <tr>\n",
              "      <th>2723</th>\n",
              "      <td>276964</td>\n",
              "      <td>My Sisters Keeper : A Novel (Picoult, Jodi)</td>\n",
              "      <td>4</td>\n",
              "      <td>9.8073</td>\n",
              "      <td>{'was_impossible': False}</td>\n",
              "    </tr>\n",
              "  </tbody>\n",
              "</table>\n",
              "</div>"
            ],
            "text/plain": [
              "         uid                                                iid  r_ui    est  \\\n",
              "2755  276964                Natural California: A Postcard Book     4 9.9676   \n",
              "2544  276964  Mere Christianity: A revised and enlarged edit...     4 9.9380   \n",
              "3334  276964                       Roseanne: My Life As a Woman     4 9.8927   \n",
              "1171  276964                       Dilbert: A Book of Postcards     4 9.8870   \n",
              "1772  276964  Harry Potter and the Chamber of Secrets Postca...     4 9.8841   \n",
              "2843  276964  North and South (North and South Trilogy, Book 1)     4 9.8741   \n",
              "1890  276964              Honor Bound (Honor Bound (Paperback))     4 9.8236   \n",
              "740   276964                                  Calvin and Hobbes     4 9.8109   \n",
              "3125  276964   Postmarked Yesteryear: 30 Rare Holiday Postcards     4 9.8081   \n",
              "2723  276964        My Sisters Keeper : A Novel (Picoult, Jodi)     4 9.8073   \n",
              "\n",
              "                        details  \n",
              "2755  {'was_impossible': False}  \n",
              "2544  {'was_impossible': False}  \n",
              "3334  {'was_impossible': False}  \n",
              "1171  {'was_impossible': False}  \n",
              "1772  {'was_impossible': False}  \n",
              "2843  {'was_impossible': False}  \n",
              "1890  {'was_impossible': False}  \n",
              "740   {'was_impossible': False}  \n",
              "3125  {'was_impossible': False}  \n",
              "2723  {'was_impossible': False}  "
            ]
          },
          "execution_count": 48,
          "metadata": {},
          "output_type": "execute_result"
        }
      ],
      "source": [
        "pred = pred.sort_values(by='est', ascending=False)\n",
        "pred.head(10)"
      ]
    },
    {
      "cell_type": "markdown",
      "id": "2892fe1a",
      "metadata": {
        "id": "2892fe1a"
      },
      "source": [
        "### CF - Memory Based (Item-Item)\n",
        "#### Collaborative Filtering - Surprise"
      ]
    },
    {
      "cell_type": "raw",
      "id": "7ed3374c",
      "metadata": {
        "id": "7ed3374c"
      },
      "source": [
        "KNNWithZScore\n",
        "\n",
        "KNNWithZScore is a basic collaborative filtering algorithm, taking into account the z-score normalization of each user."
      ]
    },
    {
      "cell_type": "code",
      "execution_count": null,
      "id": "4ac39c0b",
      "metadata": {
        "id": "4ac39c0b"
      },
      "outputs": [],
      "source": [
        "from surprise import KNNWithZScore, KNNWithMeans\n",
        "\n",
        "# To use item-based cosine similarity\n",
        "sim_options = {\"name\": \"cosine\"}\n",
        "\n",
        "# Compute  similarities between items\n",
        "algo = KNNWithMeans(sim_options=sim_options)"
      ]
    },
    {
      "cell_type": "code",
      "execution_count": null,
      "id": "649874f2",
      "metadata": {
        "id": "649874f2",
        "outputId": "81cd57c0-34b5-4999-bbeb-02e8a5db07a0"
      },
      "outputs": [
        {
          "name": "stdout",
          "output_type": "stream",
          "text": [
            "Computing the cosine similarity matrix...\n",
            "Done computing similarity matrix.\n"
          ]
        },
        {
          "data": {
            "text/plain": [
              "<surprise.prediction_algorithms.knns.KNNWithMeans at 0x210f010e880>"
            ]
          },
          "execution_count": 50,
          "metadata": {},
          "output_type": "execute_result"
        }
      ],
      "source": [
        "trainingSet = data.build_full_trainset()\n",
        "algo.fit(trainingSet)"
      ]
    },
    {
      "cell_type": "code",
      "execution_count": null,
      "id": "62a0a309",
      "metadata": {
        "id": "62a0a309"
      },
      "outputs": [],
      "source": [
        "items = book_rating_count['BookTitle'].unique()\n",
        "test = [[276964, iid, 4] for iid in items]\n",
        "predictions = algo.test(test)\n",
        "pred = pd.DataFrame(predictions)"
      ]
    },
    {
      "cell_type": "code",
      "execution_count": null,
      "id": "0ec5114c",
      "metadata": {
        "id": "0ec5114c",
        "outputId": "d218da9c-4475-4b3c-9c80-c2cb6749ea82"
      },
      "outputs": [
        {
          "data": {
            "text/html": [
              "<div>\n",
              "<style scoped>\n",
              "    .dataframe tbody tr th:only-of-type {\n",
              "        vertical-align: middle;\n",
              "    }\n",
              "\n",
              "    .dataframe tbody tr th {\n",
              "        vertical-align: top;\n",
              "    }\n",
              "\n",
              "    .dataframe thead th {\n",
              "        text-align: right;\n",
              "    }\n",
              "</style>\n",
              "<table border=\"1\" class=\"dataframe\">\n",
              "  <thead>\n",
              "    <tr style=\"text-align: right;\">\n",
              "      <th></th>\n",
              "      <th>uid</th>\n",
              "      <th>iid</th>\n",
              "      <th>r_ui</th>\n",
              "      <th>est</th>\n",
              "      <th>details</th>\n",
              "    </tr>\n",
              "  </thead>\n",
              "  <tbody>\n",
              "    <tr>\n",
              "      <th>1581</th>\n",
              "      <td>276964</td>\n",
              "      <td>Fox in Socks (I Can Read It All by Myself Begi...</td>\n",
              "      <td>4</td>\n",
              "      <td>10.0000</td>\n",
              "      <td>{'actual_k': 6, 'was_impossible': False}</td>\n",
              "    </tr>\n",
              "    <tr>\n",
              "      <th>2843</th>\n",
              "      <td>276964</td>\n",
              "      <td>North and South (North and South Trilogy, Book 1)</td>\n",
              "      <td>4</td>\n",
              "      <td>10.0000</td>\n",
              "      <td>{'actual_k': 13, 'was_impossible': False}</td>\n",
              "    </tr>\n",
              "    <tr>\n",
              "      <th>3334</th>\n",
              "      <td>276964</td>\n",
              "      <td>Roseanne: My Life As a Woman</td>\n",
              "      <td>4</td>\n",
              "      <td>10.0000</td>\n",
              "      <td>{'actual_k': 8, 'was_impossible': False}</td>\n",
              "    </tr>\n",
              "    <tr>\n",
              "      <th>2287</th>\n",
              "      <td>276964</td>\n",
              "      <td>Le Parfum : Histoire dun meurtrier</td>\n",
              "      <td>4</td>\n",
              "      <td>10.0000</td>\n",
              "      <td>{'actual_k': 1, 'was_impossible': False}</td>\n",
              "    </tr>\n",
              "    <tr>\n",
              "      <th>20</th>\n",
              "      <td>276964</td>\n",
              "      <td>52 Deck Series: 52 Ways to Celebrate Friendship</td>\n",
              "      <td>4</td>\n",
              "      <td>10.0000</td>\n",
              "      <td>{'actual_k': 9, 'was_impossible': False}</td>\n",
              "    </tr>\n",
              "    <tr>\n",
              "      <th>5315</th>\n",
              "      <td>276964</td>\n",
              "      <td>Tully</td>\n",
              "      <td>4</td>\n",
              "      <td>10.0000</td>\n",
              "      <td>{'actual_k': 9, 'was_impossible': False}</td>\n",
              "    </tr>\n",
              "    <tr>\n",
              "      <th>1890</th>\n",
              "      <td>276964</td>\n",
              "      <td>Honor Bound (Honor Bound (Paperback))</td>\n",
              "      <td>4</td>\n",
              "      <td>10.0000</td>\n",
              "      <td>{'actual_k': 10, 'was_impossible': False}</td>\n",
              "    </tr>\n",
              "    <tr>\n",
              "      <th>3435</th>\n",
              "      <td>276964</td>\n",
              "      <td>Seasons of Her Life</td>\n",
              "      <td>4</td>\n",
              "      <td>10.0000</td>\n",
              "      <td>{'actual_k': 12, 'was_impossible': False}</td>\n",
              "    </tr>\n",
              "    <tr>\n",
              "      <th>3125</th>\n",
              "      <td>276964</td>\n",
              "      <td>Postmarked Yesteryear: 30 Rare Holiday Postcards</td>\n",
              "      <td>4</td>\n",
              "      <td>10.0000</td>\n",
              "      <td>{'actual_k': 10, 'was_impossible': False}</td>\n",
              "    </tr>\n",
              "    <tr>\n",
              "      <th>2780</th>\n",
              "      <td>276964</td>\n",
              "      <td>New Vegetarian: Bold and Beautiful Recipes for...</td>\n",
              "      <td>4</td>\n",
              "      <td>10.0000</td>\n",
              "      <td>{'actual_k': 1, 'was_impossible': False}</td>\n",
              "    </tr>\n",
              "  </tbody>\n",
              "</table>\n",
              "</div>"
            ],
            "text/plain": [
              "         uid                                                iid  r_ui     est  \\\n",
              "1581  276964  Fox in Socks (I Can Read It All by Myself Begi...     4 10.0000   \n",
              "2843  276964  North and South (North and South Trilogy, Book 1)     4 10.0000   \n",
              "3334  276964                       Roseanne: My Life As a Woman     4 10.0000   \n",
              "2287  276964                 Le Parfum : Histoire dun meurtrier     4 10.0000   \n",
              "20    276964    52 Deck Series: 52 Ways to Celebrate Friendship     4 10.0000   \n",
              "5315  276964                                              Tully     4 10.0000   \n",
              "1890  276964              Honor Bound (Honor Bound (Paperback))     4 10.0000   \n",
              "3435  276964                                Seasons of Her Life     4 10.0000   \n",
              "3125  276964   Postmarked Yesteryear: 30 Rare Holiday Postcards     4 10.0000   \n",
              "2780  276964  New Vegetarian: Bold and Beautiful Recipes for...     4 10.0000   \n",
              "\n",
              "                                        details  \n",
              "1581   {'actual_k': 6, 'was_impossible': False}  \n",
              "2843  {'actual_k': 13, 'was_impossible': False}  \n",
              "3334   {'actual_k': 8, 'was_impossible': False}  \n",
              "2287   {'actual_k': 1, 'was_impossible': False}  \n",
              "20     {'actual_k': 9, 'was_impossible': False}  \n",
              "5315   {'actual_k': 9, 'was_impossible': False}  \n",
              "1890  {'actual_k': 10, 'was_impossible': False}  \n",
              "3435  {'actual_k': 12, 'was_impossible': False}  \n",
              "3125  {'actual_k': 10, 'was_impossible': False}  \n",
              "2780   {'actual_k': 1, 'was_impossible': False}  "
            ]
          },
          "execution_count": 52,
          "metadata": {},
          "output_type": "execute_result"
        }
      ],
      "source": [
        "pred = pred.sort_values(by='est', ascending=False)\n",
        "pred.head(10)"
      ]
    },
    {
      "cell_type": "code",
      "execution_count": null,
      "id": "2fb589bd",
      "metadata": {
        "id": "2fb589bd"
      },
      "outputs": [],
      "source": []
    }
  ],
  "metadata": {
    "kernelspec": {
      "display_name": "Python 3 (ipykernel)",
      "language": "python",
      "name": "python3"
    },
    "language_info": {
      "codemirror_mode": {
        "name": "ipython",
        "version": 3
      },
      "file_extension": ".py",
      "mimetype": "text/x-python",
      "name": "python",
      "nbconvert_exporter": "python",
      "pygments_lexer": "ipython3",
      "version": "3.9.16"
    },
    "colab": {
      "provenance": []
    }
  },
  "nbformat": 4,
  "nbformat_minor": 5
}