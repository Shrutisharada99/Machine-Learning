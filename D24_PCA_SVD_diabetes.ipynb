{
  "cells": [
    {
      "cell_type": "code",
      "execution_count": null,
      "metadata": {
        "id": "XmtylowB1nXh"
      },
      "outputs": [],
      "source": [
        "import numpy as np\n",
        "import pandas as pd\n",
        "import matplotlib.pyplot as plt\n",
        "#import plusmodules as pm\n",
        "import seaborn as sns\n",
        "from scipy.stats import randint"
      ]
    },
    {
      "cell_type": "code",
      "execution_count": null,
      "metadata": {
        "id": "O31dYCIv1nXj",
        "outputId": "349e7887-85a1-4376-87fe-b5900c3a72eb"
      },
      "outputs": [
        {
          "data": {
            "text/plain": [
              "(70692, 22)"
            ]
          },
          "execution_count": 3,
          "metadata": {},
          "output_type": "execute_result"
        }
      ],
      "source": [
        "df = pd.read_csv(\"..\\data\\diabetes_binary.csv\")\n",
        "df = df.sample(frac=1, random_state=44).reset_index(drop=True)\n",
        "df.shape"
      ]
    },
    {
      "cell_type": "code",
      "execution_count": null,
      "metadata": {
        "id": "aBOXHvqY1nXl",
        "outputId": "f63b527b-bc9b-4cc6-b4e9-0a6022d9ead0"
      },
      "outputs": [
        {
          "data": {
            "text/plain": [
              "Series([], dtype: int64)"
            ]
          },
          "execution_count": 29,
          "metadata": {},
          "output_type": "execute_result"
        }
      ],
      "source": [
        "df.isnull().sum()[df.isnull().sum()!=0]"
      ]
    },
    {
      "cell_type": "code",
      "execution_count": null,
      "metadata": {
        "id": "QZO1k4IL1nXn",
        "outputId": "5f9050ed-6758-488b-9c27-420cd4e2e903"
      },
      "outputs": [
        {
          "data": {
            "text/html": [
              "<div>\n",
              "<style scoped>\n",
              "    .dataframe tbody tr th:only-of-type {\n",
              "        vertical-align: middle;\n",
              "    }\n",
              "\n",
              "    .dataframe tbody tr th {\n",
              "        vertical-align: top;\n",
              "    }\n",
              "\n",
              "    .dataframe thead th {\n",
              "        text-align: right;\n",
              "    }\n",
              "</style>\n",
              "<table border=\"1\" class=\"dataframe\">\n",
              "  <thead>\n",
              "    <tr style=\"text-align: right;\">\n",
              "      <th></th>\n",
              "      <th>Diabetes_binary</th>\n",
              "      <th>HighBP</th>\n",
              "      <th>HighChol</th>\n",
              "      <th>CholCheck</th>\n",
              "      <th>BMI</th>\n",
              "      <th>Smoker</th>\n",
              "      <th>Stroke</th>\n",
              "      <th>HeartDiseaseorAttack</th>\n",
              "      <th>PhysActivity</th>\n",
              "      <th>Fruits</th>\n",
              "      <th>...</th>\n",
              "      <th>AnyHealthcare</th>\n",
              "      <th>NoDocbcCost</th>\n",
              "      <th>GenHlth</th>\n",
              "      <th>MentHlth</th>\n",
              "      <th>PhysHlth</th>\n",
              "      <th>DiffWalk</th>\n",
              "      <th>Sex</th>\n",
              "      <th>Age</th>\n",
              "      <th>Education</th>\n",
              "      <th>Income</th>\n",
              "    </tr>\n",
              "  </thead>\n",
              "  <tbody>\n",
              "    <tr>\n",
              "      <th>0</th>\n",
              "      <td>1.0</td>\n",
              "      <td>1.0</td>\n",
              "      <td>1.0</td>\n",
              "      <td>1.0</td>\n",
              "      <td>27.0</td>\n",
              "      <td>1.0</td>\n",
              "      <td>0.0</td>\n",
              "      <td>0.0</td>\n",
              "      <td>1.0</td>\n",
              "      <td>0.0</td>\n",
              "      <td>...</td>\n",
              "      <td>1.0</td>\n",
              "      <td>0.0</td>\n",
              "      <td>4.0</td>\n",
              "      <td>0.0</td>\n",
              "      <td>30.0</td>\n",
              "      <td>0.0</td>\n",
              "      <td>0.0</td>\n",
              "      <td>11.0</td>\n",
              "      <td>5.0</td>\n",
              "      <td>6.0</td>\n",
              "    </tr>\n",
              "    <tr>\n",
              "      <th>1</th>\n",
              "      <td>0.0</td>\n",
              "      <td>0.0</td>\n",
              "      <td>1.0</td>\n",
              "      <td>1.0</td>\n",
              "      <td>31.0</td>\n",
              "      <td>0.0</td>\n",
              "      <td>0.0</td>\n",
              "      <td>0.0</td>\n",
              "      <td>0.0</td>\n",
              "      <td>0.0</td>\n",
              "      <td>...</td>\n",
              "      <td>1.0</td>\n",
              "      <td>0.0</td>\n",
              "      <td>3.0</td>\n",
              "      <td>0.0</td>\n",
              "      <td>0.0</td>\n",
              "      <td>0.0</td>\n",
              "      <td>0.0</td>\n",
              "      <td>4.0</td>\n",
              "      <td>5.0</td>\n",
              "      <td>7.0</td>\n",
              "    </tr>\n",
              "    <tr>\n",
              "      <th>2</th>\n",
              "      <td>0.0</td>\n",
              "      <td>0.0</td>\n",
              "      <td>0.0</td>\n",
              "      <td>1.0</td>\n",
              "      <td>24.0</td>\n",
              "      <td>0.0</td>\n",
              "      <td>0.0</td>\n",
              "      <td>0.0</td>\n",
              "      <td>1.0</td>\n",
              "      <td>1.0</td>\n",
              "      <td>...</td>\n",
              "      <td>1.0</td>\n",
              "      <td>0.0</td>\n",
              "      <td>2.0</td>\n",
              "      <td>0.0</td>\n",
              "      <td>0.0</td>\n",
              "      <td>0.0</td>\n",
              "      <td>1.0</td>\n",
              "      <td>2.0</td>\n",
              "      <td>6.0</td>\n",
              "      <td>8.0</td>\n",
              "    </tr>\n",
              "    <tr>\n",
              "      <th>3</th>\n",
              "      <td>0.0</td>\n",
              "      <td>1.0</td>\n",
              "      <td>0.0</td>\n",
              "      <td>1.0</td>\n",
              "      <td>33.0</td>\n",
              "      <td>0.0</td>\n",
              "      <td>0.0</td>\n",
              "      <td>0.0</td>\n",
              "      <td>1.0</td>\n",
              "      <td>1.0</td>\n",
              "      <td>...</td>\n",
              "      <td>1.0</td>\n",
              "      <td>0.0</td>\n",
              "      <td>2.0</td>\n",
              "      <td>0.0</td>\n",
              "      <td>0.0</td>\n",
              "      <td>0.0</td>\n",
              "      <td>1.0</td>\n",
              "      <td>6.0</td>\n",
              "      <td>6.0</td>\n",
              "      <td>8.0</td>\n",
              "    </tr>\n",
              "    <tr>\n",
              "      <th>4</th>\n",
              "      <td>0.0</td>\n",
              "      <td>0.0</td>\n",
              "      <td>0.0</td>\n",
              "      <td>0.0</td>\n",
              "      <td>30.0</td>\n",
              "      <td>0.0</td>\n",
              "      <td>0.0</td>\n",
              "      <td>0.0</td>\n",
              "      <td>1.0</td>\n",
              "      <td>0.0</td>\n",
              "      <td>...</td>\n",
              "      <td>1.0</td>\n",
              "      <td>0.0</td>\n",
              "      <td>1.0</td>\n",
              "      <td>0.0</td>\n",
              "      <td>0.0</td>\n",
              "      <td>0.0</td>\n",
              "      <td>0.0</td>\n",
              "      <td>4.0</td>\n",
              "      <td>6.0</td>\n",
              "      <td>8.0</td>\n",
              "    </tr>\n",
              "  </tbody>\n",
              "</table>\n",
              "<p>5 rows × 22 columns</p>\n",
              "</div>"
            ],
            "text/plain": [
              "   Diabetes_binary  HighBP  HighChol  CholCheck   BMI  Smoker  Stroke  \\\n",
              "0              1.0     1.0       1.0        1.0  27.0     1.0     0.0   \n",
              "1              0.0     0.0       1.0        1.0  31.0     0.0     0.0   \n",
              "2              0.0     0.0       0.0        1.0  24.0     0.0     0.0   \n",
              "3              0.0     1.0       0.0        1.0  33.0     0.0     0.0   \n",
              "4              0.0     0.0       0.0        0.0  30.0     0.0     0.0   \n",
              "\n",
              "   HeartDiseaseorAttack  PhysActivity  Fruits  ...  AnyHealthcare  \\\n",
              "0                   0.0           1.0     0.0  ...            1.0   \n",
              "1                   0.0           0.0     0.0  ...            1.0   \n",
              "2                   0.0           1.0     1.0  ...            1.0   \n",
              "3                   0.0           1.0     1.0  ...            1.0   \n",
              "4                   0.0           1.0     0.0  ...            1.0   \n",
              "\n",
              "   NoDocbcCost  GenHlth  MentHlth  PhysHlth  DiffWalk  Sex   Age  Education  \\\n",
              "0          0.0      4.0       0.0      30.0       0.0  0.0  11.0        5.0   \n",
              "1          0.0      3.0       0.0       0.0       0.0  0.0   4.0        5.0   \n",
              "2          0.0      2.0       0.0       0.0       0.0  1.0   2.0        6.0   \n",
              "3          0.0      2.0       0.0       0.0       0.0  1.0   6.0        6.0   \n",
              "4          0.0      1.0       0.0       0.0       0.0  0.0   4.0        6.0   \n",
              "\n",
              "   Income  \n",
              "0     6.0  \n",
              "1     7.0  \n",
              "2     8.0  \n",
              "3     8.0  \n",
              "4     8.0  \n",
              "\n",
              "[5 rows x 22 columns]"
            ]
          },
          "execution_count": 30,
          "metadata": {},
          "output_type": "execute_result"
        }
      ],
      "source": [
        "df.head()"
      ]
    },
    {
      "cell_type": "code",
      "execution_count": null,
      "metadata": {
        "id": "EbrEUoPE1nXo",
        "outputId": "75a00f5e-a976-4927-e38e-c7d1bbd39061"
      },
      "outputs": [
        {
          "data": {
            "text/plain": [
              "array([1., 0.])"
            ]
          },
          "execution_count": 31,
          "metadata": {},
          "output_type": "execute_result"
        }
      ],
      "source": [
        "df['Diabetes_binary'].unique()"
      ]
    },
    {
      "cell_type": "code",
      "execution_count": null,
      "metadata": {
        "id": "mRMKam1c1nXq"
      },
      "outputs": [],
      "source": [
        "y=df['Diabetes_binary']\n",
        "X=df.drop('Diabetes_binary', axis=1)"
      ]
    },
    {
      "cell_type": "code",
      "execution_count": null,
      "metadata": {
        "id": "PRGrNcWM1nXs",
        "outputId": "7f401583-77c8-4fec-b6e2-45159f17fec6"
      },
      "outputs": [
        {
          "data": {
            "text/plain": [
              "((70692, 21), (70692,))"
            ]
          },
          "execution_count": 33,
          "metadata": {},
          "output_type": "execute_result"
        }
      ],
      "source": [
        "X.shape,y.shape"
      ]
    },
    {
      "cell_type": "code",
      "execution_count": null,
      "metadata": {
        "id": "1auwPrRa1nXv"
      },
      "outputs": [],
      "source": [
        "from sklearn.model_selection import train_test_split\n",
        "from sklearn.preprocessing import StandardScaler\n",
        "\n",
        "X_train, X_test, y_train, y_test = train_test_split(X, y, test_size=0.3, random_state=42)\n",
        "\n",
        "ss=StandardScaler()\n",
        "X_train=ss.fit_transform(X_train)\n",
        "X_test=ss.transform(X_test)"
      ]
    },
    {
      "cell_type": "code",
      "execution_count": null,
      "metadata": {
        "id": "wsM_nZ8Z1nXw"
      },
      "outputs": [],
      "source": [
        "ss = StandardScaler()\n",
        "X = ss.fit_transform(X)"
      ]
    },
    {
      "cell_type": "code",
      "execution_count": null,
      "metadata": {
        "id": "C8ROeHQ-1nXy",
        "outputId": "0bb1b9b5-a16e-4b6d-d173-f0c57a73f9df"
      },
      "outputs": [
        {
          "data": {
            "text/plain": [
              "((70692, 21), (70692,))"
            ]
          },
          "execution_count": 36,
          "metadata": {},
          "output_type": "execute_result"
        }
      ],
      "source": [
        "X.shape,y.shape"
      ]
    },
    {
      "cell_type": "markdown",
      "metadata": {
        "id": "Bc5aoExA1nX0"
      },
      "source": [
        "### Hyperparameter tuning of Random Forest"
      ]
    },
    {
      "cell_type": "code",
      "execution_count": null,
      "metadata": {
        "id": "Qpjsvs5Q1nX2",
        "outputId": "cdfb2f87-02e0-417d-ff2d-e314126c3831"
      },
      "outputs": [
        {
          "data": {
            "text/plain": [
              "dict_keys(['explained_variance', 'r2', 'max_error', 'matthews_corrcoef', 'neg_median_absolute_error', 'neg_mean_absolute_error', 'neg_mean_absolute_percentage_error', 'neg_mean_squared_error', 'neg_mean_squared_log_error', 'neg_root_mean_squared_error', 'neg_mean_poisson_deviance', 'neg_mean_gamma_deviance', 'accuracy', 'top_k_accuracy', 'roc_auc', 'roc_auc_ovr', 'roc_auc_ovo', 'roc_auc_ovr_weighted', 'roc_auc_ovo_weighted', 'balanced_accuracy', 'average_precision', 'neg_log_loss', 'neg_brier_score', 'positive_likelihood_ratio', 'neg_negative_likelihood_ratio', 'adjusted_rand_score', 'rand_score', 'homogeneity_score', 'completeness_score', 'v_measure_score', 'mutual_info_score', 'adjusted_mutual_info_score', 'normalized_mutual_info_score', 'fowlkes_mallows_score', 'precision', 'precision_macro', 'precision_micro', 'precision_samples', 'precision_weighted', 'recall', 'recall_macro', 'recall_micro', 'recall_samples', 'recall_weighted', 'f1', 'f1_macro', 'f1_micro', 'f1_samples', 'f1_weighted', 'jaccard', 'jaccard_macro', 'jaccard_micro', 'jaccard_samples', 'jaccard_weighted'])"
            ]
          },
          "execution_count": 37,
          "metadata": {},
          "output_type": "execute_result"
        }
      ],
      "source": [
        "import sklearn\n",
        "sklearn.metrics.SCORERS.keys()"
      ]
    },
    {
      "cell_type": "code",
      "execution_count": null,
      "metadata": {
        "id": "GPXvRSjh1nX3"
      },
      "outputs": [],
      "source": [
        "from sklearn.ensemble import RandomForestClassifier\n",
        "from scipy.stats import randint as sp_randint\n",
        "from sklearn.model_selection import RandomizedSearchCV\n",
        "from sklearn.metrics import accuracy_score, roc_auc_score, classification_report, confusion_matrix\n",
        "\n",
        "rfc = RandomForestClassifier()\n",
        "\n",
        "param_dist = {'n_estimators': sp_randint(50, 500),\n",
        "              'max_depth': sp_randint(2, 15),\n",
        "              'max_features':sp_randint(2, 21),\n",
        "              'min_samples_leaf': sp_randint(1, 25)}\n",
        "\n",
        "rsearch = RandomizedSearchCV(rfc, param_distributions=param_dist, cv=3, scoring='neg_log_loss',\n",
        "                            n_jobs=-1,  n_iter=50, random_state=2)\n",
        "\n",
        "#rsearch.fit(X, y)\n",
        "#rsearch.best_params_"
      ]
    },
    {
      "cell_type": "code",
      "execution_count": null,
      "metadata": {
        "id": "WmiZvmSz1nX4"
      },
      "outputs": [],
      "source": [
        "rsearch.best_params_ = {'max_depth': 10, 'max_features': 9, 'min_samples_leaf': 3, 'n_estimators': 483}"
      ]
    },
    {
      "cell_type": "raw",
      "metadata": {
        "id": "Mll_RMO91nX5"
      },
      "source": [
        "rs = pd.DataFrame(rsearch.cv_results_).iloc[:,4:]\n",
        "rs = rs.sort_values('rank_test_score')\n",
        "rs.head(3)"
      ]
    },
    {
      "cell_type": "code",
      "execution_count": null,
      "metadata": {
        "id": "WFWFNnNJ1nX5",
        "outputId": "9991e358-bab2-46d6-fc08-8efa3c680f50"
      },
      "outputs": [
        {
          "name": "stdout",
          "output_type": "stream",
          "text": [
            "Accuracy Score - Train:  0.7813636731064586\n",
            "AUC - Train:  0.8612366294659792\n",
            "LogLoss - Train:  0.4659359810246157\n",
            "Classification Report - Train:  \n",
            "               precision    recall  f1-score   support\n",
            "\n",
            "         0.0       0.81      0.74      0.77     24739\n",
            "         1.0       0.76      0.82      0.79     24745\n",
            "\n",
            "    accuracy                           0.78     49484\n",
            "   macro avg       0.78      0.78      0.78     49484\n",
            "weighted avg       0.78      0.78      0.78     49484\n",
            "\n",
            "\n",
            "\n",
            "Accuracy Score - Test:  0.750377216144851\n",
            "AUC - Test:  0.827090245261393\n",
            "LogLoss - Test:  0.5065215762613304\n",
            "Classification Report - Test:  \n",
            "               precision    recall  f1-score   support\n",
            "\n",
            "         0.0       0.77      0.71      0.74     10607\n",
            "         1.0       0.73      0.79      0.76     10601\n",
            "\n",
            "    accuracy                           0.75     21208\n",
            "   macro avg       0.75      0.75      0.75     21208\n",
            "weighted avg       0.75      0.75      0.75     21208\n",
            "\n"
          ]
        }
      ],
      "source": [
        "from sklearn.metrics import accuracy_score, roc_auc_score, classification_report, confusion_matrix\n",
        "from sklearn.metrics import log_loss\n",
        "\n",
        "rfc = RandomForestClassifier(**rsearch.best_params_, random_state=42)\n",
        "rfc.fit(X_train, y_train)\n",
        "\n",
        "y_train_pred = rfc.predict(X_train)\n",
        "y_test_pred = rfc.predict(X_test)\n",
        "\n",
        "y_train_prob = rfc.predict_proba(X_train)[:,1]\n",
        "y_test_prob = rfc.predict_proba(X_test)[:,1]\n",
        "\n",
        "print('Accuracy Score - Train: ', accuracy_score(y_train, y_train_pred))\n",
        "print('AUC - Train: ', roc_auc_score(y_train, y_train_prob))\n",
        "print('LogLoss - Train: ', log_loss(y_train, y_train_prob))\n",
        "print('Classification Report - Train: ', '\\n', classification_report(y_train,y_train_pred))\n",
        "print('\\n')\n",
        "print('Accuracy Score - Test: ', accuracy_score(y_test, y_test_pred))\n",
        "print('AUC - Test: ', roc_auc_score(y_test, y_test_prob))\n",
        "print('LogLoss - Test: ', log_loss(y_test, y_test_prob))\n",
        "print('Classification Report - Test: ', '\\n', classification_report(y_test,y_test_pred))"
      ]
    },
    {
      "cell_type": "markdown",
      "metadata": {
        "tags": [],
        "id": "z3Lpknjl1nX6"
      },
      "source": [
        "### Random Forest after PCA"
      ]
    },
    {
      "cell_type": "code",
      "execution_count": null,
      "metadata": {
        "tags": [],
        "id": "8UVQPRb61nX7",
        "outputId": "2651e1c7-2710-4cff-b07b-422cc085e300"
      },
      "outputs": [
        {
          "data": {
            "image/png": "[encoded data removed]",
            "text/plain": [
              "<Figure size 640x480 with 1 Axes>"
            ]
          },
          "metadata": {},
          "output_type": "display_data"
        }
      ],
      "source": [
        "from sklearn.decomposition import PCA\n",
        "pca = PCA()\n",
        "\n",
        "X_pc=pca.fit_transform(X)\n",
        "\n",
        "pca.explained_variance_\n",
        "plt.plot(np.cumsum(pca.explained_variance_ratio_))\n",
        "plt.show()"
      ]
    },
    {
      "cell_type": "code",
      "execution_count": null,
      "metadata": {
        "id": "BNXq0uh31nX8",
        "outputId": "0fbdebf1-693f-4857-831d-5fbc009c6476"
      },
      "outputs": [
        {
          "data": {
            "image/png": "[encoded data removed]",
            "text/plain": [
              "<Figure size 640x480 with 1 Axes>"
            ]
          },
          "metadata": {},
          "output_type": "display_data"
        }
      ],
      "source": [
        "from sklearn.decomposition import PCA\n",
        "pca = PCA(0.90)\n",
        "\n",
        "X_pc=pca.fit_transform(X)\n",
        "\n",
        "pca.explained_variance_\n",
        "plt.plot(np.cumsum(pca.explained_variance_ratio_))\n",
        "plt.show()"
      ]
    },
    {
      "cell_type": "code",
      "execution_count": null,
      "metadata": {
        "id": "-smy-pSr1nX9",
        "outputId": "1d13922f-0b72-436b-8b64-26e8000013f2"
      },
      "outputs": [
        {
          "data": {
            "text/plain": [
              "(70692, 17)"
            ]
          },
          "execution_count": 43,
          "metadata": {},
          "output_type": "execute_result"
        }
      ],
      "source": [
        "X_pc.shape"
      ]
    },
    {
      "cell_type": "code",
      "execution_count": null,
      "metadata": {
        "id": "STnhpr8t1nX9"
      },
      "outputs": [],
      "source": [
        "from sklearn.decomposition import PCA\n",
        "pca = PCA(0.90)\n",
        "\n",
        "X_train_pc=pca.fit_transform(X_train)\n",
        "X_test_pc=pca.transform(X_test)"
      ]
    },
    {
      "cell_type": "code",
      "execution_count": null,
      "metadata": {
        "id": "p5bLo0nM1nX-"
      },
      "outputs": [],
      "source": [
        "rfc = RandomForestClassifier()\n",
        "\n",
        "param_dist = {'n_estimators': sp_randint(50, 500),\n",
        "              'max_depth': sp_randint(2, 20),\n",
        "              'max_features':sp_randint(2, 19),\n",
        "              'min_samples_leaf': sp_randint(1, 25)}\n",
        "\n",
        "rsearch = RandomizedSearchCV(rfc, param_distributions=param_dist, cv=3,\n",
        "            scoring='neg_log_loss',  n_jobs=-1, n_iter=50, random_state=2)\n",
        "\n",
        "#rsearch.fit(X_pc, y)\n",
        "#rsearch.best_params_"
      ]
    },
    {
      "cell_type": "code",
      "execution_count": null,
      "metadata": {
        "id": "JkAnmIjn1nX-"
      },
      "outputs": [],
      "source": [
        "rsearch.best_params_ = {'max_depth': 11, 'max_features': 9, 'min_samples_leaf': 18, 'n_estimators': 299}"
      ]
    },
    {
      "cell_type": "code",
      "execution_count": null,
      "metadata": {
        "id": "QoU1nyIu1nX_",
        "outputId": "2ee66004-b3c7-4780-b50c-4451a2b0d1b8"
      },
      "outputs": [
        {
          "name": "stdout",
          "output_type": "stream",
          "text": [
            "Accuracy Score - Train:  0.7851426723789507\n",
            "AUC - Train:  0.8743030309782278\n",
            "LogLoss - Train:  0.45000288826775653\n",
            "Classification Report - Train:  \n",
            "               precision    recall  f1-score   support\n",
            "\n",
            "         0.0       0.82      0.73      0.77     24739\n",
            "         1.0       0.76      0.84      0.80     24745\n",
            "\n",
            "    accuracy                           0.79     49484\n",
            "   macro avg       0.79      0.79      0.78     49484\n",
            "weighted avg       0.79      0.79      0.78     49484\n",
            "\n",
            "\n",
            "\n",
            "Accuracy Score - Test:  0.7475480950584685\n",
            "AUC - Test:  0.822385848374483\n",
            "LogLoss - Test:  0.5124689414034646\n",
            "Classification Report - Test:  \n",
            "               precision    recall  f1-score   support\n",
            "\n",
            "         0.0       0.78      0.70      0.73     10607\n",
            "         1.0       0.72      0.80      0.76     10601\n",
            "\n",
            "    accuracy                           0.75     21208\n",
            "   macro avg       0.75      0.75      0.75     21208\n",
            "weighted avg       0.75      0.75      0.75     21208\n",
            "\n"
          ]
        }
      ],
      "source": [
        "rfc = RandomForestClassifier(**rsearch.best_params_, random_state=42)\n",
        "rfc.fit(X_train_pc, y_train)\n",
        "\n",
        "y_train_pred = rfc.predict(X_train_pc)\n",
        "y_test_pred = rfc.predict(X_test_pc)\n",
        "\n",
        "y_train_prob = rfc.predict_proba(X_train_pc)[:,1]\n",
        "y_test_prob = rfc.predict_proba(X_test_pc)[:,1]\n",
        "\n",
        "print('Accuracy Score - Train: ', accuracy_score(y_train, y_train_pred))\n",
        "print('AUC - Train: ', roc_auc_score(y_train, y_train_prob))\n",
        "print('LogLoss - Train: ', log_loss(y_train, y_train_prob))\n",
        "print('Classification Report - Train: ', '\\n', classification_report(y_train,y_train_pred))\n",
        "print('\\n')\n",
        "print('Accuracy Score - Test: ', accuracy_score(y_test, y_test_pred))\n",
        "print('AUC - Test: ', roc_auc_score(y_test, y_test_prob))\n",
        "print('LogLoss - Test: ', log_loss(y_test, y_test_prob))\n",
        "print('Classification Report - Test: ', '\\n', classification_report(y_test,y_test_pred))"
      ]
    },
    {
      "cell_type": "markdown",
      "metadata": {
        "id": "MQwKcxPc1nX_"
      },
      "source": [
        "#### Tuning PCA components along with Model Paramters"
      ]
    },
    {
      "cell_type": "code",
      "execution_count": null,
      "metadata": {
        "tags": [],
        "id": "BP8xlrFJ1nX_"
      },
      "outputs": [],
      "source": [
        "from sklearn.pipeline import Pipeline\n",
        "\n",
        "pipeline = Pipeline([\n",
        "    ('scaler', StandardScaler()),\n",
        "    ('pca', PCA()),\n",
        "    ('rfc', RandomForestClassifier())])\n",
        "\n",
        "param_dist = {'pca__n_components': randint(10,22, 1),\n",
        "              'rfc__n_estimators': sp_randint(50, 500),\n",
        "              'rfc__max_depth': sp_randint(2, 20),\n",
        "              'rfc__min_samples_leaf': sp_randint(1, 25)}\n",
        "\n",
        "random_search = RandomizedSearchCV(pipeline, param_distributions=param_dist,\n",
        "n_iter=5, cv=3, scoring='roc_auc', random_state=42)\n",
        "\n",
        "#random_search.fit(X, y)\n",
        "#print(\"Best Hyperparameters:\", random_search.best_params_)"
      ]
    },
    {
      "cell_type": "raw",
      "metadata": {
        "id": "TJx2JG6i1nYA"
      },
      "source": [
        "Best Hyperparameters: {'pca__n_components': 21, 'rfc__max_depth': 12, 'rfc__min_samples_leaf': 24, 'rfc__n_estimators': 422}"
      ]
    },
    {
      "cell_type": "code",
      "execution_count": null,
      "metadata": {
        "tags": [],
        "id": "bRa0ZqVZ1nYA"
      },
      "outputs": [],
      "source": [
        "best_params_ = {'max_depth':12, 'min_samples_leaf':24, 'n_estimators':422}"
      ]
    },
    {
      "cell_type": "code",
      "execution_count": null,
      "metadata": {
        "id": "vCEiKphd1nYA",
        "outputId": "af78b37f-35c2-48ee-ad66-407ddb0437da"
      },
      "outputs": [
        {
          "name": "stdout",
          "output_type": "stream",
          "text": [
            "Accuracy Score - Train:  0.7843545388408374\n",
            "AUC - Train:  0.8764521617813636\n",
            "LogLoss - Train:  0.46186335643874765\n",
            "Classification Report - Train:  \n",
            "               precision    recall  f1-score   support\n",
            "\n",
            "         0.0       0.82      0.72      0.77     24739\n",
            "         1.0       0.75      0.85      0.80     24745\n",
            "\n",
            "    accuracy                           0.78     49484\n",
            "   macro avg       0.79      0.78      0.78     49484\n",
            "weighted avg       0.79      0.78      0.78     49484\n",
            "\n",
            "\n",
            "\n",
            "Accuracy Score - Test:  0.7475952470765749\n",
            "AUC - Test:  0.823353069564164\n",
            "LogLoss - Test:  0.5142231611864048\n",
            "Classification Report - Test:  \n",
            "               precision    recall  f1-score   support\n",
            "\n",
            "         0.0       0.79      0.68      0.73     10607\n",
            "         1.0       0.72      0.81      0.76     10601\n",
            "\n",
            "    accuracy                           0.75     21208\n",
            "   macro avg       0.75      0.75      0.75     21208\n",
            "weighted avg       0.75      0.75      0.75     21208\n",
            "\n"
          ]
        }
      ],
      "source": [
        "from sklearn.decomposition import PCA\n",
        "pca = PCA(n_components = 21)\n",
        "\n",
        "X_train_pc=pca.fit_transform(X_train)\n",
        "X_test_pc=pca.transform(X_test)\n",
        "\n",
        "rfc = RandomForestClassifier(**best_params_, random_state=42)\n",
        "rfc.fit(X_train_pc, y_train)\n",
        "\n",
        "y_train_pred = rfc.predict(X_train_pc)\n",
        "y_test_pred = rfc.predict(X_test_pc)\n",
        "\n",
        "y_train_prob = rfc.predict_proba(X_train_pc)[:,1]\n",
        "y_test_prob = rfc.predict_proba(X_test_pc)[:,1]\n",
        "\n",
        "print('Accuracy Score - Train: ', accuracy_score(y_train, y_train_pred))\n",
        "print('AUC - Train: ', roc_auc_score(y_train, y_train_prob))\n",
        "print('LogLoss - Train: ', log_loss(y_train, y_train_prob))\n",
        "print('Classification Report - Train: ', '\\n', classification_report(y_train,y_train_pred))\n",
        "print('\\n')\n",
        "print('Accuracy Score - Test: ', accuracy_score(y_test, y_test_pred))\n",
        "print('AUC - Test: ', roc_auc_score(y_test, y_test_prob))\n",
        "print('LogLoss - Test: ', log_loss(y_test, y_test_prob))\n",
        "print('Classification Report - Test: ', '\\n', classification_report(y_test,y_test_pred))"
      ]
    },
    {
      "cell_type": "markdown",
      "metadata": {
        "tags": [],
        "id": "4oUT_pvf1nYB"
      },
      "source": [
        "### Applying SVD for dimensionality reduction"
      ]
    },
    {
      "cell_type": "code",
      "execution_count": null,
      "metadata": {
        "id": "1SgYRLaT1nYC",
        "outputId": "798c690f-6231-4b59-d6b1-5ac9e1da04f6"
      },
      "outputs": [
        {
          "data": {
            "text/plain": [
              "(70692, 21)"
            ]
          },
          "execution_count": 22,
          "metadata": {},
          "output_type": "execute_result"
        }
      ],
      "source": [
        "X.shape"
      ]
    },
    {
      "cell_type": "code",
      "execution_count": null,
      "metadata": {
        "id": "a85PpkBs1nYD",
        "outputId": "9efba022-c9c0-4fe5-a73a-5cb119464224"
      },
      "outputs": [
        {
          "data": {
            "text/html": [
              "<style>#sk-container-id-1 {color: black;background-color: white;}#sk-container-id-1 pre{padding: 0;}#sk-container-id-1 div.sk-toggleable {background-color: white;}#sk-container-id-1 label.sk-toggleable__label {cursor: pointer;display: block;width: 100%;margin-bottom: 0;padding: 0.3em;box-sizing: border-box;text-align: center;}#sk-container-id-1 label.sk-toggleable__label-arrow:before {content: \"▸\";float: left;margin-right: 0.25em;color: #696969;}#sk-container-id-1 label.sk-toggleable__label-arrow:hover:before {color: black;}#sk-container-id-1 div.sk-estimator:hover label.sk-toggleable__label-arrow:before {color: black;}#sk-container-id-1 div.sk-toggleable__content {max-height: 0;max-width: 0;overflow: hidden;text-align: left;background-color: #f0f8ff;}#sk-container-id-1 div.sk-toggleable__content pre {margin: 0.2em;color: black;border-radius: 0.25em;background-color: #f0f8ff;}#sk-container-id-1 input.sk-toggleable__control:checked~div.sk-toggleable__content {max-height: 200px;max-width: 100%;overflow: auto;}#sk-container-id-1 input.sk-toggleable__control:checked~label.sk-toggleable__label-arrow:before {content: \"▾\";}#sk-container-id-1 div.sk-estimator input.sk-toggleable__control:checked~label.sk-toggleable__label {background-color: #d4ebff;}#sk-container-id-1 div.sk-label input.sk-toggleable__control:checked~label.sk-toggleable__label {background-color: #d4ebff;}#sk-container-id-1 input.sk-hidden--visually {border: 0;clip: rect(1px 1px 1px 1px);clip: rect(1px, 1px, 1px, 1px);height: 1px;margin: -1px;overflow: hidden;padding: 0;position: absolute;width: 1px;}#sk-container-id-1 div.sk-estimator {font-family: monospace;background-color: #f0f8ff;border: 1px dotted black;border-radius: 0.25em;box-sizing: border-box;margin-bottom: 0.5em;}#sk-container-id-1 div.sk-estimator:hover {background-color: #d4ebff;}#sk-container-id-1 div.sk-parallel-item::after {content: \"\";width: 100%;border-bottom: 1px solid gray;flex-grow: 1;}#sk-container-id-1 div.sk-label:hover label.sk-toggleable__label {background-color: #d4ebff;}#sk-container-id-1 div.sk-serial::before {content: \"\";position: absolute;border-left: 1px solid gray;box-sizing: border-box;top: 0;bottom: 0;left: 50%;z-index: 0;}#sk-container-id-1 div.sk-serial {display: flex;flex-direction: column;align-items: center;background-color: white;padding-right: 0.2em;padding-left: 0.2em;position: relative;}#sk-container-id-1 div.sk-item {position: relative;z-index: 1;}#sk-container-id-1 div.sk-parallel {display: flex;align-items: stretch;justify-content: center;background-color: white;position: relative;}#sk-container-id-1 div.sk-item::before, #sk-container-id-1 div.sk-parallel-item::before {content: \"\";position: absolute;border-left: 1px solid gray;box-sizing: border-box;top: 0;bottom: 0;left: 50%;z-index: -1;}#sk-container-id-1 div.sk-parallel-item {display: flex;flex-direction: column;z-index: 1;position: relative;background-color: white;}#sk-container-id-1 div.sk-parallel-item:first-child::after {align-self: flex-end;width: 50%;}#sk-container-id-1 div.sk-parallel-item:last-child::after {align-self: flex-start;width: 50%;}#sk-container-id-1 div.sk-parallel-item:only-child::after {width: 0;}#sk-container-id-1 div.sk-dashed-wrapped {border: 1px dashed gray;margin: 0 0.4em 0.5em 0.4em;box-sizing: border-box;padding-bottom: 0.4em;background-color: white;}#sk-container-id-1 div.sk-label label {font-family: monospace;font-weight: bold;display: inline-block;line-height: 1.2em;}#sk-container-id-1 div.sk-label-container {text-align: center;}#sk-container-id-1 div.sk-container {/* jupyter's `normalize.less` sets `[hidden] { display: none; }` but bootstrap.min.css set `[hidden] { display: none !important; }` so we also need the `!important` here to be able to override the default hidden behavior on the sphinx rendered scikit-learn.org. See: https://github.com/scikit-learn/scikit-learn/issues/21755 */display: inline-block !important;position: relative;}#sk-container-id-1 div.sk-text-repr-fallback {display: none;}</style><div id=\"sk-container-id-1\" class=\"sk-top-container\"><div class=\"sk-text-repr-fallback\"><pre>TruncatedSVD(n_components=21, random_state=42)</pre><b>In a Jupyter environment, please rerun this cell to show the HTML representation or trust the notebook. <br />On GitHub, the HTML representation is unable to render, please try loading this page with nbviewer.org.</b></div><div class=\"sk-container\" hidden><div class=\"sk-item\"><div class=\"sk-estimator sk-toggleable\"><input class=\"sk-toggleable__control sk-hidden--visually\" id=\"sk-estimator-id-1\" type=\"checkbox\" checked><label for=\"sk-estimator-id-1\" class=\"sk-toggleable__label sk-toggleable__label-arrow\">TruncatedSVD</label><div class=\"sk-toggleable__content\"><pre>TruncatedSVD(n_components=21, random_state=42)</pre></div></div></div></div></div>"
            ],
            "text/plain": [
              "TruncatedSVD(n_components=21, random_state=42)"
            ]
          },
          "execution_count": 23,
          "metadata": {},
          "output_type": "execute_result"
        }
      ],
      "source": [
        "from sklearn.decomposition import TruncatedSVD\n",
        "\n",
        "svd = TruncatedSVD(n_components=21, random_state=42)\n",
        "svd.fit(X)"
      ]
    },
    {
      "cell_type": "code",
      "execution_count": null,
      "metadata": {
        "id": "nMtpkQH21nYD",
        "outputId": "3188cf3f-04b0-4459-876c-8413b3101083"
      },
      "outputs": [
        {
          "name": "stdout",
          "output_type": "stream",
          "text": [
            "18\n"
          ]
        }
      ],
      "source": [
        "count=0\n",
        "for index, cumsum in enumerate(np.cumsum(svd.explained_variance_ratio_)):\n",
        "    if cumsum<=0.95:\n",
        "        count+=1\n",
        "    else:\n",
        "        break\n",
        "\n",
        "print(count)"
      ]
    },
    {
      "cell_type": "code",
      "execution_count": null,
      "metadata": {
        "id": "uw1RkRIj1nYE"
      },
      "outputs": [],
      "source": [
        "svd = TruncatedSVD(n_components=18, random_state=42)\n",
        "svd.fit(X_train)\n",
        "\n",
        "X_trains_sv = svd.transform(X_train)\n",
        "X_tests_sv = svd.transform(X_test)"
      ]
    },
    {
      "cell_type": "code",
      "execution_count": null,
      "metadata": {
        "id": "Ugg5M42B1nYE",
        "outputId": "5155ff50-02ca-4bd8-e43e-2ada6a4455ac"
      },
      "outputs": [
        {
          "data": {
            "text/plain": [
              "(49484, 18)"
            ]
          },
          "execution_count": 26,
          "metadata": {},
          "output_type": "execute_result"
        }
      ],
      "source": [
        "X_trains_sv.shape"
      ]
    },
    {
      "cell_type": "code",
      "execution_count": null,
      "metadata": {
        "id": "QOxuREY11nYF"
      },
      "outputs": [],
      "source": [
        "from sklearn.metrics import accuracy_score, roc_auc_score, classification_report, confusion_matrix"
      ]
    },
    {
      "cell_type": "code",
      "execution_count": null,
      "metadata": {
        "id": "u6cgtbcD1nYG"
      },
      "outputs": [],
      "source": [
        "svd = TruncatedSVD(n_components=18, random_state=42)\n",
        "svd.fit(X)\n",
        "X_sv = svd.transform(X)"
      ]
    },
    {
      "cell_type": "code",
      "execution_count": null,
      "metadata": {
        "id": "1ocFnfB41nYG"
      },
      "outputs": [],
      "source": [
        "param_dist = {'n_estimators': sp_randint(50, 500),\n",
        "              'max_depth': sp_randint(2, 15),\n",
        "              'max_features':sp_randint(2, 18),\n",
        "              'min_samples_leaf': sp_randint(1, 25)}\n",
        "\n",
        "rsearch = RandomizedSearchCV(rfc, param_distributions=param_dist, cv=3,\n",
        "    scoring='neg_log_loss',  n_jobs=-1, n_iter=50, random_state=2, return_train_score=True)\n",
        "\n",
        "#rsearch.fit(X_sv, y)\n",
        "#rsearch.best_params_"
      ]
    },
    {
      "cell_type": "code",
      "execution_count": null,
      "metadata": {
        "id": "fBhJ5XZ71nYG"
      },
      "outputs": [],
      "source": [
        "rsearch.best_params_ = {'max_depth': 13, 'max_features': 7, 'min_samples_leaf': 16, 'n_estimators': 369}"
      ]
    },
    {
      "cell_type": "code",
      "execution_count": null,
      "metadata": {
        "id": "S4uFlfdY1nYU",
        "outputId": "9edc8553-a99c-47dd-876a-05e3b2e8f0ac"
      },
      "outputs": [
        {
          "name": "stdout",
          "output_type": "stream",
          "text": [
            "Accuracy Score - Train:  0.8011478457683292\n",
            "AUC - Train:  0.8942261889821799\n",
            "LogLoss - Train:  0.4288901465976324\n",
            "Classification Report - Train:  \n",
            "               precision    recall  f1-score   support\n",
            "\n",
            "         0.0       0.84      0.75      0.79     24739\n",
            "         1.0       0.77      0.85      0.81     24745\n",
            "\n",
            "    accuracy                           0.80     49484\n",
            "   macro avg       0.80      0.80      0.80     49484\n",
            "weighted avg       0.80      0.80      0.80     49484\n",
            "\n",
            "\n",
            "\n",
            "Accuracy Score - Test:  0.7479724632214259\n",
            "AUC - Test:  0.8225249299418514\n",
            "LogLoss - Test:  0.512554411902829\n",
            "Classification Report - Test:  \n",
            "               precision    recall  f1-score   support\n",
            "\n",
            "         0.0       0.78      0.70      0.73     10607\n",
            "         1.0       0.72      0.80      0.76     10601\n",
            "\n",
            "    accuracy                           0.75     21208\n",
            "   macro avg       0.75      0.75      0.75     21208\n",
            "weighted avg       0.75      0.75      0.75     21208\n",
            "\n"
          ]
        }
      ],
      "source": [
        "rfc = RandomForestClassifier(**rsearch.best_params_, random_state=42)\n",
        "rfc.fit(X_trains_sv, y_train)\n",
        "\n",
        "y_train_pred = rfc.predict(X_trains_sv)\n",
        "y_test_pred = rfc.predict(X_tests_sv)\n",
        "\n",
        "y_train_prob = rfc.predict_proba(X_trains_sv)[:,1]\n",
        "y_test_prob = rfc.predict_proba(X_tests_sv)[:,1]\n",
        "\n",
        "print('Accuracy Score - Train: ', accuracy_score(y_train, y_train_pred))\n",
        "print('AUC - Train: ', roc_auc_score(y_train, y_train_prob))\n",
        "print('LogLoss - Train: ', log_loss(y_train, y_train_prob))\n",
        "print('Classification Report - Train: ', '\\n', classification_report(y_train,y_train_pred))\n",
        "print('\\n')\n",
        "print('Accuracy Score - Test: ', accuracy_score(y_test, y_test_pred))\n",
        "print('AUC - Test: ', roc_auc_score(y_test, y_test_prob))\n",
        "print('LogLoss - Test: ', log_loss(y_test, y_test_prob))\n",
        "print('Classification Report - Test: ', '\\n', classification_report(y_test,y_test_pred))"
      ]
    }
  ],
  "metadata": {
    "kernelspec": {
      "display_name": "Python 3 (ipykernel)",
      "language": "python",
      "name": "python3"
    },
    "language_info": {
      "codemirror_mode": {
        "name": "ipython",
        "version": 3
      },
      "file_extension": ".py",
      "mimetype": "text/x-python",
      "name": "python",
      "nbconvert_exporter": "python",
      "pygments_lexer": "ipython3",
      "version": "3.9.16"
    },
    "colab": {
      "provenance": []
    }
  },
  "nbformat": 4,
  "nbformat_minor": 0
}