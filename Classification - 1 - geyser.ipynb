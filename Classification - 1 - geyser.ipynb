{
 "cells": [
  {
   "cell_type": "markdown",
   "id": "5c85f1db-408e-4bb9-b110-d46c7f40175d",
   "metadata": {},
   "source": [
    "# Classification Analysis - 1 - KNN Classification, Decision Tree Classification, Logistic Regression"
   ]
  },
  {
   "cell_type": "markdown",
   "id": "7d45d25a-5689-40d7-b3fc-293eb717b76e",
   "metadata": {},
   "source": [
    "## Import libraries and load dataset"
   ]
  },
  {
   "cell_type": "code",
   "execution_count": 6,
   "id": "8bc2da9d-6cc4-4a2d-ac8a-f85fedb537fa",
   "metadata": {},
   "outputs": [],
   "source": [
    "# DataFrame Imports\n",
    "import pandas as pd\n",
    "import numpy as np\n",
    "import matplotlib.pyplot as plt\n",
    "import seaborn as sns\n",
    "\n",
    "# EDA Imports\n",
    "from sklearn.preprocessing import LabelEncoder\n",
    "from sklearn.preprocessing import MinMaxScaler\n",
    "from sklearn.model_selection import train_test_split, cross_val_score\n",
    "\n",
    "# KNN Classifier Imports\n",
    "from sklearn.datasets import load_digits\n",
    "from sklearn.neighbors import KNeighborsClassifier\n",
    "from sklearn.preprocessing import LabelEncoder, MinMaxScaler\n",
    "from sklearn.metrics import confusion_matrix, roc_curve, auc, roc_auc_score\n",
    "\n",
    "# DTC Imports\n",
    "from sklearn.tree import DecisionTreeClassifier, export_graphviz, plot_tree\n",
    "\n",
    "# Logistic Regression Imports\n",
    "from sklearn.linear_model import LogisticRegression"
   ]
  },
  {
   "cell_type": "code",
   "execution_count": 7,
   "id": "23c1496a-4297-4349-a2ba-02a179fd0659",
   "metadata": {},
   "outputs": [],
   "source": [
    "# Load presaved dataset from seaborn\n",
    "\n",
    "gsr = sns.load_dataset(\"geyser\")"
   ]
  },
  {
   "cell_type": "code",
   "execution_count": 8,
   "id": "78622b3f-4830-4a83-bff3-f7220dbec14d",
   "metadata": {},
   "outputs": [
    {
     "data": {
      "text/html": [
       "<div>\n",
       "<style scoped>\n",
       "    .dataframe tbody tr th:only-of-type {\n",
       "        vertical-align: middle;\n",
       "    }\n",
       "\n",
       "    .dataframe tbody tr th {\n",
       "        vertical-align: top;\n",
       "    }\n",
       "\n",
       "    .dataframe thead th {\n",
       "        text-align: right;\n",
       "    }\n",
       "</style>\n",
       "<table border=\"1\" class=\"dataframe\">\n",
       "  <thead>\n",
       "    <tr style=\"text-align: right;\">\n",
       "      <th></th>\n",
       "      <th>duration</th>\n",
       "      <th>waiting</th>\n",
       "      <th>kind</th>\n",
       "    </tr>\n",
       "  </thead>\n",
       "  <tbody>\n",
       "    <tr>\n",
       "      <th>0</th>\n",
       "      <td>3.600</td>\n",
       "      <td>79</td>\n",
       "      <td>long</td>\n",
       "    </tr>\n",
       "    <tr>\n",
       "      <th>1</th>\n",
       "      <td>1.800</td>\n",
       "      <td>54</td>\n",
       "      <td>short</td>\n",
       "    </tr>\n",
       "    <tr>\n",
       "      <th>2</th>\n",
       "      <td>3.333</td>\n",
       "      <td>74</td>\n",
       "      <td>long</td>\n",
       "    </tr>\n",
       "    <tr>\n",
       "      <th>3</th>\n",
       "      <td>2.283</td>\n",
       "      <td>62</td>\n",
       "      <td>short</td>\n",
       "    </tr>\n",
       "    <tr>\n",
       "      <th>4</th>\n",
       "      <td>4.533</td>\n",
       "      <td>85</td>\n",
       "      <td>long</td>\n",
       "    </tr>\n",
       "    <tr>\n",
       "      <th>...</th>\n",
       "      <td>...</td>\n",
       "      <td>...</td>\n",
       "      <td>...</td>\n",
       "    </tr>\n",
       "    <tr>\n",
       "      <th>267</th>\n",
       "      <td>4.117</td>\n",
       "      <td>81</td>\n",
       "      <td>long</td>\n",
       "    </tr>\n",
       "    <tr>\n",
       "      <th>268</th>\n",
       "      <td>2.150</td>\n",
       "      <td>46</td>\n",
       "      <td>short</td>\n",
       "    </tr>\n",
       "    <tr>\n",
       "      <th>269</th>\n",
       "      <td>4.417</td>\n",
       "      <td>90</td>\n",
       "      <td>long</td>\n",
       "    </tr>\n",
       "    <tr>\n",
       "      <th>270</th>\n",
       "      <td>1.817</td>\n",
       "      <td>46</td>\n",
       "      <td>short</td>\n",
       "    </tr>\n",
       "    <tr>\n",
       "      <th>271</th>\n",
       "      <td>4.467</td>\n",
       "      <td>74</td>\n",
       "      <td>long</td>\n",
       "    </tr>\n",
       "  </tbody>\n",
       "</table>\n",
       "<p>272 rows × 3 columns</p>\n",
       "</div>"
      ],
      "text/plain": [
       "     duration  waiting   kind\n",
       "0       3.600       79   long\n",
       "1       1.800       54  short\n",
       "2       3.333       74   long\n",
       "3       2.283       62  short\n",
       "4       4.533       85   long\n",
       "..        ...      ...    ...\n",
       "267     4.117       81   long\n",
       "268     2.150       46  short\n",
       "269     4.417       90   long\n",
       "270     1.817       46  short\n",
       "271     4.467       74   long\n",
       "\n",
       "[272 rows x 3 columns]"
      ]
     },
     "execution_count": 8,
     "metadata": {},
     "output_type": "execute_result"
    }
   ],
   "source": [
    "gsr"
   ]
  },
  {
   "cell_type": "markdown",
   "id": "81ff06d8-4dae-4d7b-adbc-e4c1cf2c4875",
   "metadata": {},
   "source": [
    "## EDA"
   ]
  },
  {
   "cell_type": "code",
   "execution_count": 9,
   "id": "d342eb62-52e4-4b12-884b-50889a0973a1",
   "metadata": {},
   "outputs": [
    {
     "data": {
      "text/plain": [
       "(272, 3)"
      ]
     },
     "execution_count": 9,
     "metadata": {},
     "output_type": "execute_result"
    }
   ],
   "source": [
    "gsr.shape"
   ]
  },
  {
   "cell_type": "code",
   "execution_count": 10,
   "id": "d2044ccf-3d70-4cd3-85e8-e18e8d417162",
   "metadata": {},
   "outputs": [
    {
     "data": {
      "text/html": [
       "<div>\n",
       "<style scoped>\n",
       "    .dataframe tbody tr th:only-of-type {\n",
       "        vertical-align: middle;\n",
       "    }\n",
       "\n",
       "    .dataframe tbody tr th {\n",
       "        vertical-align: top;\n",
       "    }\n",
       "\n",
       "    .dataframe thead th {\n",
       "        text-align: right;\n",
       "    }\n",
       "</style>\n",
       "<table border=\"1\" class=\"dataframe\">\n",
       "  <thead>\n",
       "    <tr style=\"text-align: right;\">\n",
       "      <th></th>\n",
       "      <th>duration</th>\n",
       "      <th>waiting</th>\n",
       "      <th>kind</th>\n",
       "    </tr>\n",
       "  </thead>\n",
       "  <tbody>\n",
       "    <tr>\n",
       "      <th>179</th>\n",
       "      <td>4.167</td>\n",
       "      <td>74</td>\n",
       "      <td>0</td>\n",
       "    </tr>\n",
       "    <tr>\n",
       "      <th>270</th>\n",
       "      <td>1.817</td>\n",
       "      <td>46</td>\n",
       "      <td>1</td>\n",
       "    </tr>\n",
       "    <tr>\n",
       "      <th>150</th>\n",
       "      <td>5.033</td>\n",
       "      <td>77</td>\n",
       "      <td>0</td>\n",
       "    </tr>\n",
       "    <tr>\n",
       "      <th>30</th>\n",
       "      <td>4.300</td>\n",
       "      <td>73</td>\n",
       "      <td>0</td>\n",
       "    </tr>\n",
       "    <tr>\n",
       "      <th>89</th>\n",
       "      <td>4.000</td>\n",
       "      <td>86</td>\n",
       "      <td>0</td>\n",
       "    </tr>\n",
       "  </tbody>\n",
       "</table>\n",
       "</div>"
      ],
      "text/plain": [
       "     duration  waiting  kind\n",
       "179     4.167       74     0\n",
       "270     1.817       46     1\n",
       "150     5.033       77     0\n",
       "30      4.300       73     0\n",
       "89      4.000       86     0"
      ]
     },
     "execution_count": 10,
     "metadata": {},
     "output_type": "execute_result"
    }
   ],
   "source": [
    "# instantiate the encoder\n",
    "labelencoder = LabelEncoder()\n",
    "\n",
    "# fit the encoder on 'Outlet_Size' \n",
    "gsr['kind'] = labelencoder.fit_transform(gsr.kind)\n",
    "\n",
    "# display 5 observations\n",
    "gsr.sample(5)"
   ]
  },
  {
   "cell_type": "code",
   "execution_count": 11,
   "id": "c1dc436b-d80b-49d0-a633-0c60a011f7eb",
   "metadata": {},
   "outputs": [
    {
     "data": {
      "text/html": [
       "<div>\n",
       "<style scoped>\n",
       "    .dataframe tbody tr th:only-of-type {\n",
       "        vertical-align: middle;\n",
       "    }\n",
       "\n",
       "    .dataframe tbody tr th {\n",
       "        vertical-align: top;\n",
       "    }\n",
       "\n",
       "    .dataframe thead th {\n",
       "        text-align: right;\n",
       "    }\n",
       "</style>\n",
       "<table border=\"1\" class=\"dataframe\">\n",
       "  <thead>\n",
       "    <tr style=\"text-align: right;\">\n",
       "      <th></th>\n",
       "      <th>duration</th>\n",
       "      <th>waiting</th>\n",
       "      <th>kind</th>\n",
       "    </tr>\n",
       "  </thead>\n",
       "  <tbody>\n",
       "    <tr>\n",
       "      <th>0</th>\n",
       "      <td>3.600</td>\n",
       "      <td>79</td>\n",
       "      <td>0</td>\n",
       "    </tr>\n",
       "    <tr>\n",
       "      <th>1</th>\n",
       "      <td>1.800</td>\n",
       "      <td>54</td>\n",
       "      <td>1</td>\n",
       "    </tr>\n",
       "    <tr>\n",
       "      <th>2</th>\n",
       "      <td>3.333</td>\n",
       "      <td>74</td>\n",
       "      <td>0</td>\n",
       "    </tr>\n",
       "    <tr>\n",
       "      <th>3</th>\n",
       "      <td>2.283</td>\n",
       "      <td>62</td>\n",
       "      <td>1</td>\n",
       "    </tr>\n",
       "    <tr>\n",
       "      <th>4</th>\n",
       "      <td>4.533</td>\n",
       "      <td>85</td>\n",
       "      <td>0</td>\n",
       "    </tr>\n",
       "  </tbody>\n",
       "</table>\n",
       "</div>"
      ],
      "text/plain": [
       "   duration  waiting  kind\n",
       "0     3.600       79     0\n",
       "1     1.800       54     1\n",
       "2     3.333       74     0\n",
       "3     2.283       62     1\n",
       "4     4.533       85     0"
      ]
     },
     "execution_count": 11,
     "metadata": {},
     "output_type": "execute_result"
    }
   ],
   "source": [
    "gsr.head()"
   ]
  },
  {
   "cell_type": "code",
   "execution_count": 12,
   "id": "eb1787c5-6897-4acf-a893-b8e816bf65ff",
   "metadata": {},
   "outputs": [
    {
     "data": {
      "text/html": [
       "<div>\n",
       "<style scoped>\n",
       "    .dataframe tbody tr th:only-of-type {\n",
       "        vertical-align: middle;\n",
       "    }\n",
       "\n",
       "    .dataframe tbody tr th {\n",
       "        vertical-align: top;\n",
       "    }\n",
       "\n",
       "    .dataframe thead th {\n",
       "        text-align: right;\n",
       "    }\n",
       "</style>\n",
       "<table border=\"1\" class=\"dataframe\">\n",
       "  <thead>\n",
       "    <tr style=\"text-align: right;\">\n",
       "      <th></th>\n",
       "      <th>duration</th>\n",
       "      <th>waiting</th>\n",
       "      <th>kind</th>\n",
       "    </tr>\n",
       "  </thead>\n",
       "  <tbody>\n",
       "    <tr>\n",
       "      <th>267</th>\n",
       "      <td>4.117</td>\n",
       "      <td>81</td>\n",
       "      <td>0</td>\n",
       "    </tr>\n",
       "    <tr>\n",
       "      <th>268</th>\n",
       "      <td>2.150</td>\n",
       "      <td>46</td>\n",
       "      <td>1</td>\n",
       "    </tr>\n",
       "    <tr>\n",
       "      <th>269</th>\n",
       "      <td>4.417</td>\n",
       "      <td>90</td>\n",
       "      <td>0</td>\n",
       "    </tr>\n",
       "    <tr>\n",
       "      <th>270</th>\n",
       "      <td>1.817</td>\n",
       "      <td>46</td>\n",
       "      <td>1</td>\n",
       "    </tr>\n",
       "    <tr>\n",
       "      <th>271</th>\n",
       "      <td>4.467</td>\n",
       "      <td>74</td>\n",
       "      <td>0</td>\n",
       "    </tr>\n",
       "  </tbody>\n",
       "</table>\n",
       "</div>"
      ],
      "text/plain": [
       "     duration  waiting  kind\n",
       "267     4.117       81     0\n",
       "268     2.150       46     1\n",
       "269     4.417       90     0\n",
       "270     1.817       46     1\n",
       "271     4.467       74     0"
      ]
     },
     "execution_count": 12,
     "metadata": {},
     "output_type": "execute_result"
    }
   ],
   "source": [
    "gsr.tail()"
   ]
  },
  {
   "cell_type": "code",
   "execution_count": 13,
   "id": "3c8f2595-1f55-47e2-84b0-4559016039fe",
   "metadata": {},
   "outputs": [
    {
     "name": "stdout",
     "output_type": "stream",
     "text": [
      "<class 'pandas.core.frame.DataFrame'>\n",
      "RangeIndex: 272 entries, 0 to 271\n",
      "Data columns (total 3 columns):\n",
      " #   Column    Non-Null Count  Dtype  \n",
      "---  ------    --------------  -----  \n",
      " 0   duration  272 non-null    float64\n",
      " 1   waiting   272 non-null    int64  \n",
      " 2   kind      272 non-null    int32  \n",
      "dtypes: float64(1), int32(1), int64(1)\n",
      "memory usage: 5.4 KB\n"
     ]
    }
   ],
   "source": [
    "gsr.info()"
   ]
  },
  {
   "cell_type": "markdown",
   "id": "220425b7-d6df-41ea-89bf-d10d55e8750e",
   "metadata": {},
   "source": [
    "## Data Visualizations"
   ]
  },
  {
   "cell_type": "markdown",
   "id": "5456efc8-3495-47af-a7d7-7539158a37b7",
   "metadata": {},
   "source": [
    "Let's `visualise` the data to understand it better."
   ]
  },
  {
   "cell_type": "markdown",
   "id": "414ec231-3aa4-4882-8c0f-3dfb216b861e",
   "metadata": {},
   "source": [
    "### Plotting Pair-plot"
   ]
  },
  {
   "cell_type": "code",
   "execution_count": 14,
   "id": "5e32702b-74f5-4064-b7e9-862ac68f6b3b",
   "metadata": {},
   "outputs": [
    {
     "data": {
      "image/png": "[encoded data removed]",
      "text/plain": [
       "<Figure size 558.875x500 with 6 Axes>"
      ]
     },
     "metadata": {},
     "output_type": "display_data"
    }
   ],
   "source": [
    "# Pair plot\n",
    "sns.pairplot(gsr, hue='kind')\n",
    "plt.show()"
   ]
  },
  {
   "cell_type": "markdown",
   "id": "6f90ea9f-e268-4d3b-a6e1-45fa72e941f3",
   "metadata": {},
   "source": [
    "## Missing Value Treatment"
   ]
  },
  {
   "cell_type": "markdown",
   "id": "734bc8fa-3a6e-4258-98a6-bee5958d2ad9",
   "metadata": {},
   "source": [
    "### Let's check for missing values"
   ]
  },
  {
   "cell_type": "code",
   "execution_count": 15,
   "id": "9992a74e-0211-42d5-b6ed-617d07977de8",
   "metadata": {},
   "outputs": [
    {
     "data": {
      "text/plain": [
       "False"
      ]
     },
     "execution_count": 15,
     "metadata": {},
     "output_type": "execute_result"
    }
   ],
   "source": [
    "gsr.isnull().values.any()"
   ]
  },
  {
   "cell_type": "code",
   "execution_count": 16,
   "id": "1fc9b5a7-fe47-48ef-b2ee-536ff2926aa5",
   "metadata": {},
   "outputs": [
    {
     "data": {
      "text/plain": [
       "duration    0\n",
       "waiting     0\n",
       "kind        0\n",
       "dtype: int64"
      ]
     },
     "execution_count": 16,
     "metadata": {},
     "output_type": "execute_result"
    }
   ],
   "source": [
    "missing_values = gsr.isnull().sum()\n",
    "missing_values"
   ]
  },
  {
   "cell_type": "markdown",
   "id": "2dd7e292-350d-47d5-bca8-4810f26e3462",
   "metadata": {},
   "source": [
    "Let's plot a `heatmap` of missing values too to verify this."
   ]
  },
  {
   "cell_type": "code",
   "execution_count": 17,
   "id": "a31292ba-1ac6-4757-8243-dc951815326a",
   "metadata": {},
   "outputs": [
    {
     "data": {
      "image/png": "[encoded data removed]",
      "text/plain": [
       "<Figure size 1500x200 with 1 Axes>"
      ]
     },
     "metadata": {},
     "output_type": "display_data"
    }
   ],
   "source": [
    "# set the figure size\n",
    "plt.rcParams[\"figure.figsize\"]=[15,2]\n",
    "\n",
    "# plot a heatmap of the missing values in the data\n",
    "# cbar: specify whether to display the color index or not\n",
    "sns.heatmap(gsr.isnull(), cbar = False)\n",
    "\n",
    "# display the plot\n",
    "plt.show()"
   ]
  },
  {
   "cell_type": "markdown",
   "id": "d1d8e3ab-07e7-431c-b5a4-8f9a55e8af3a",
   "metadata": {},
   "source": [
    "***We have ensured that there are no missing values in the dataset.***"
   ]
  },
  {
   "cell_type": "markdown",
   "id": "23d74237-b935-40dd-b33f-b6361cc187de",
   "metadata": {},
   "source": [
    "## Outlier Treatment"
   ]
  },
  {
   "cell_type": "code",
   "execution_count": 18,
   "id": "070c91ea-8f31-4dcd-8de9-3485643eae7d",
   "metadata": {},
   "outputs": [
    {
     "data": {
      "image/png": "[encoded data removed]",
      "text/plain": [
       "<Figure size 800x200 with 2 Axes>"
      ]
     },
     "metadata": {},
     "output_type": "display_data"
    }
   ],
   "source": [
    "# let's first plot the outliers.\n",
    "variables = ['duration', 'waiting']\n",
    "fig, ax = plt.subplots(1, 2, figsize=(8, 2))\n",
    "\n",
    "for variable, subplot in zip(gsr[variables], ax.flatten()):\n",
    "    z = sns.boxplot(x=gsr[variable], orient = \"h\",whis=1.5 , ax=subplot)\n",
    "    z.set_xlabel(variable, fontsize = 20)\n",
    "plt.show()"
   ]
  },
  {
   "cell_type": "markdown",
   "id": "c90b9427-503c-4ec2-b2aa-6d2fa6e1eecd",
   "metadata": {},
   "source": [
    "**We can observe that there are no outliers in the data.**"
   ]
  },
  {
   "cell_type": "code",
   "execution_count": 19,
   "id": "2c757cfb-63a2-4ec5-9678-0cc032988741",
   "metadata": {},
   "outputs": [],
   "source": [
    "# select the target variable\n",
    "Y = gsr['kind']\n",
    "\n",
    "# select all the independent variables\n",
    "# by dropping the target variable\n",
    "X = gsr.drop(['kind'], axis = 1)"
   ]
  },
  {
   "cell_type": "markdown",
   "id": "8d3d79f3-fea9-42db-8077-895e7dd875f5",
   "metadata": {},
   "source": [
    "## Scaling"
   ]
  },
  {
   "cell_type": "code",
   "execution_count": 20,
   "id": "519a4f4a-d67e-45d3-9cde-b3050004c0fc",
   "metadata": {},
   "outputs": [
    {
     "data": {
      "text/html": [
       "<div>\n",
       "<style scoped>\n",
       "    .dataframe tbody tr th:only-of-type {\n",
       "        vertical-align: middle;\n",
       "    }\n",
       "\n",
       "    .dataframe tbody tr th {\n",
       "        vertical-align: top;\n",
       "    }\n",
       "\n",
       "    .dataframe thead th {\n",
       "        text-align: right;\n",
       "    }\n",
       "</style>\n",
       "<table border=\"1\" class=\"dataframe\">\n",
       "  <thead>\n",
       "    <tr style=\"text-align: right;\">\n",
       "      <th></th>\n",
       "      <th>0</th>\n",
       "      <th>1</th>\n",
       "    </tr>\n",
       "  </thead>\n",
       "  <tbody>\n",
       "    <tr>\n",
       "      <th>0</th>\n",
       "      <td>0.571429</td>\n",
       "      <td>0.679245</td>\n",
       "    </tr>\n",
       "    <tr>\n",
       "      <th>1</th>\n",
       "      <td>0.057143</td>\n",
       "      <td>0.207547</td>\n",
       "    </tr>\n",
       "    <tr>\n",
       "      <th>2</th>\n",
       "      <td>0.495143</td>\n",
       "      <td>0.584906</td>\n",
       "    </tr>\n",
       "    <tr>\n",
       "      <th>3</th>\n",
       "      <td>0.195143</td>\n",
       "      <td>0.358491</td>\n",
       "    </tr>\n",
       "    <tr>\n",
       "      <th>4</th>\n",
       "      <td>0.838000</td>\n",
       "      <td>0.792453</td>\n",
       "    </tr>\n",
       "    <tr>\n",
       "      <th>...</th>\n",
       "      <td>...</td>\n",
       "      <td>...</td>\n",
       "    </tr>\n",
       "    <tr>\n",
       "      <th>267</th>\n",
       "      <td>0.719143</td>\n",
       "      <td>0.716981</td>\n",
       "    </tr>\n",
       "    <tr>\n",
       "      <th>268</th>\n",
       "      <td>0.157143</td>\n",
       "      <td>0.056604</td>\n",
       "    </tr>\n",
       "    <tr>\n",
       "      <th>269</th>\n",
       "      <td>0.804857</td>\n",
       "      <td>0.886792</td>\n",
       "    </tr>\n",
       "    <tr>\n",
       "      <th>270</th>\n",
       "      <td>0.062000</td>\n",
       "      <td>0.056604</td>\n",
       "    </tr>\n",
       "    <tr>\n",
       "      <th>271</th>\n",
       "      <td>0.819143</td>\n",
       "      <td>0.584906</td>\n",
       "    </tr>\n",
       "  </tbody>\n",
       "</table>\n",
       "<p>272 rows × 2 columns</p>\n",
       "</div>"
      ],
      "text/plain": [
       "            0         1\n",
       "0    0.571429  0.679245\n",
       "1    0.057143  0.207547\n",
       "2    0.495143  0.584906\n",
       "3    0.195143  0.358491\n",
       "4    0.838000  0.792453\n",
       "..        ...       ...\n",
       "267  0.719143  0.716981\n",
       "268  0.157143  0.056604\n",
       "269  0.804857  0.886792\n",
       "270  0.062000  0.056604\n",
       "271  0.819143  0.584906\n",
       "\n",
       "[272 rows x 2 columns]"
      ]
     },
     "execution_count": 20,
     "metadata": {},
     "output_type": "execute_result"
    }
   ],
   "source": [
    "scaler = MinMaxScaler(feature_range=(0, 1))\n",
    "\n",
    "X_scaled = scaler.fit_transform(X)\n",
    "X_scaled = pd.DataFrame(X_scaled)\n",
    "X_scaled"
   ]
  },
  {
   "cell_type": "markdown",
   "id": "be7ba647-3bb8-452f-93b5-d3abeabf8ea7",
   "metadata": {},
   "source": [
    "## Train and Test Split"
   ]
  },
  {
   "cell_type": "code",
   "execution_count": 21,
   "id": "4fe87641-8132-4a6b-8291-2d338d6ab7a4",
   "metadata": {},
   "outputs": [
    {
     "name": "stdout",
     "output_type": "stream",
     "text": [
      "X_train  (190, 2)\n",
      "X_test  (82, 2)\n",
      "Y_train  (190,)\n",
      "Y_test  (82,)\n"
     ]
    }
   ],
   "source": [
    "# let us now split the dataset into train & test\n",
    "# test_size: the proportion of data to be included in the testing set\n",
    "X_train, X_test, y_train, y_test = train_test_split(X_scaled, Y, test_size = 0.3, random_state=197)\n",
    "\n",
    "# print the shape of 'x_train'\n",
    "print(\"X_train \",X_train.shape)\n",
    "\n",
    "# print the shape of 'x_test'\n",
    "print(\"X_test \",X_test.shape)\n",
    "\n",
    "# print the shape of 'y_train'\n",
    "print(\"Y_train \",y_train.shape)\n",
    "\n",
    "# print the shape of 'y_test'\n",
    "print(\"Y_test \",y_test.shape)"
   ]
  },
  {
   "cell_type": "markdown",
   "id": "7953c77f-5510-4659-af18-9330059d3437",
   "metadata": {},
   "source": [
    "## KNN Classification"
   ]
  },
  {
   "cell_type": "code",
   "execution_count": 22,
   "id": "5cb3351f-4b64-4b2d-b13c-1c37fb9d0119",
   "metadata": {},
   "outputs": [],
   "source": [
    "# Train the model with different K values and plot MAPE scores\n",
    "k_values = np.arange(1,100,5)"
   ]
  },
  {
   "cell_type": "code",
   "execution_count": 23,
   "id": "04893978-9977-43f3-83c9-4db2a68e2e3a",
   "metadata": {},
   "outputs": [
    {
     "name": "stdout",
     "output_type": "stream",
     "text": [
      "Best k value: 1\n"
     ]
    },
    {
     "data": {
      "image/png": "[encoded data removed]",
      "text/plain": [
       "<Figure size 1000x600 with 1 Axes>"
      ]
     },
     "metadata": {},
     "output_type": "display_data"
    }
   ],
   "source": [
    "cv_scores = []          # List to hold cross-validation scores\n",
    "\n",
    "# Find the best k value using cross-validation\n",
    "for k in k_values:\n",
    "    knn = KNeighborsClassifier(n_neighbors=k)\n",
    "    scores = cross_val_score(knn, X_train, y_train, cv=10, scoring='accuracy')  # 10-fold cross-validation\n",
    "    cv_scores.append(scores.mean())  # Mean accuracy for each k\n",
    "\n",
    "# Determine the optimal k (the one with the highest accuracy)\n",
    "best_k = k_values[np.argmax(cv_scores)]\n",
    "print(f\"Best k value: {best_k}\")\n",
    "\n",
    "# Plot the results\n",
    "plt.figure(figsize=(10, 6))\n",
    "plt.plot(k_values, cv_scores, marker='o')\n",
    "plt.xlabel('Number of Neighbors (k)')\n",
    "plt.ylabel('Cross-Validation Accuracy')\n",
    "plt.title('Accuracy vs. k in KNN')\n",
    "plt.xticks(np.arange(1, 31, step=2))\n",
    "plt.grid(True)\n",
    "plt.show()"
   ]
  },
  {
   "cell_type": "markdown",
   "id": "7f560d03-da5d-406a-810f-b03b49ef907b",
   "metadata": {},
   "source": [
    "#### The more the Cross-Validation Accuracy, the better, since, 1 is too less and might result in overfit, let's take k = 10, as the value of CV = 0.979 is good too."
   ]
  },
  {
   "cell_type": "code",
   "execution_count": 24,
   "id": "6af04990-02d4-4a89-9b2f-ddf38120ab1c",
   "metadata": {},
   "outputs": [
    {
     "name": "stdout",
     "output_type": "stream",
     "text": [
      "[[1.  0. ]\n",
      " [1.  0. ]\n",
      " [1.  0. ]\n",
      " [1.  0. ]\n",
      " [0.  1. ]\n",
      " [0.  1. ]\n",
      " [0.2 0.8]\n",
      " [0.  1. ]\n",
      " [0.  1. ]\n",
      " [1.  0. ]\n",
      " [0.  1. ]\n",
      " [1.  0. ]\n",
      " [0.  1. ]\n",
      " [0.  1. ]\n",
      " [1.  0. ]\n",
      " [0.6 0.4]\n",
      " [1.  0. ]\n",
      " [1.  0. ]\n",
      " [1.  0. ]\n",
      " [1.  0. ]\n",
      " [0.  1. ]\n",
      " [0.  1. ]\n",
      " [0.  1. ]\n",
      " [1.  0. ]\n",
      " [1.  0. ]\n",
      " [0.  1. ]\n",
      " [1.  0. ]\n",
      " [1.  0. ]\n",
      " [1.  0. ]\n",
      " [1.  0. ]\n",
      " [1.  0. ]\n",
      " [1.  0. ]\n",
      " [0.9 0.1]\n",
      " [0.  1. ]\n",
      " [1.  0. ]\n",
      " [1.  0. ]\n",
      " [0.  1. ]\n",
      " [0.6 0.4]\n",
      " [1.  0. ]\n",
      " [1.  0. ]\n",
      " [1.  0. ]\n",
      " [1.  0. ]\n",
      " [1.  0. ]\n",
      " [1.  0. ]\n",
      " [0.1 0.9]\n",
      " [0.  1. ]\n",
      " [1.  0. ]\n",
      " [1.  0. ]\n",
      " [1.  0. ]\n",
      " [0.  1. ]\n",
      " [0.  1. ]\n",
      " [1.  0. ]\n",
      " [0.  1. ]\n",
      " [1.  0. ]\n",
      " [1.  0. ]\n",
      " [1.  0. ]\n",
      " [0.  1. ]\n",
      " [1.  0. ]\n",
      " [1.  0. ]\n",
      " [0.  1. ]\n",
      " [1.  0. ]\n",
      " [1.  0. ]\n",
      " [0.  1. ]\n",
      " [1.  0. ]\n",
      " [1.  0. ]\n",
      " [1.  0. ]\n",
      " [0.  1. ]\n",
      " [1.  0. ]\n",
      " [1.  0. ]\n",
      " [1.  0. ]\n",
      " [1.  0. ]\n",
      " [0.9 0.1]\n",
      " [1.  0. ]\n",
      " [0.  1. ]\n",
      " [0.  1. ]\n",
      " [1.  0. ]\n",
      " [0.  1. ]\n",
      " [0.  1. ]\n",
      " [0.6 0.4]\n",
      " [1.  0. ]\n",
      " [1.  0. ]\n",
      " [1.  0. ]\n",
      " [0.  1. ]\n",
      " [1.  0. ]\n",
      " [0.  1. ]\n",
      " [1.  0. ]\n",
      " [0.9 0.1]\n",
      " [0.  1. ]\n",
      " [0.  1. ]\n",
      " [0.  1. ]\n",
      " [0.  1. ]\n",
      " [1.  0. ]\n",
      " [0.  1. ]\n",
      " [1.  0. ]\n",
      " [1.  0. ]\n",
      " [0.  1. ]\n",
      " [1.  0. ]\n",
      " [0.  1. ]\n",
      " [1.  0. ]\n",
      " [0.  1. ]\n",
      " [1.  0. ]\n",
      " [0.  1. ]\n",
      " [1.  0. ]\n",
      " [1.  0. ]\n",
      " [0.  1. ]\n",
      " [1.  0. ]\n",
      " [0.  1. ]\n",
      " [1.  0. ]\n",
      " [1.  0. ]\n",
      " [1.  0. ]\n",
      " [1.  0. ]\n",
      " [0.  1. ]\n",
      " [0.  1. ]\n",
      " [0.  1. ]\n",
      " [0.  1. ]\n",
      " [0.2 0.8]\n",
      " [0.  1. ]\n",
      " [1.  0. ]\n",
      " [1.  0. ]\n",
      " [0.  1. ]\n",
      " [0.2 0.8]\n",
      " [0.  1. ]\n",
      " [1.  0. ]\n",
      " [1.  0. ]\n",
      " [1.  0. ]\n",
      " [1.  0. ]\n",
      " [1.  0. ]\n",
      " [1.  0. ]\n",
      " [1.  0. ]\n",
      " [1.  0. ]\n",
      " [1.  0. ]\n",
      " [1.  0. ]\n",
      " [0.  1. ]\n",
      " [1.  0. ]\n",
      " [1.  0. ]\n",
      " [1.  0. ]\n",
      " [1.  0. ]\n",
      " [0.7 0.3]\n",
      " [0.  1. ]\n",
      " [1.  0. ]\n",
      " [0.  1. ]\n",
      " [1.  0. ]\n",
      " [1.  0. ]\n",
      " [1.  0. ]\n",
      " [1.  0. ]\n",
      " [1.  0. ]\n",
      " [1.  0. ]\n",
      " [1.  0. ]\n",
      " [1.  0. ]\n",
      " [0.  1. ]\n",
      " [1.  0. ]\n",
      " [0.  1. ]\n",
      " [1.  0. ]\n",
      " [1.  0. ]\n",
      " [1.  0. ]\n",
      " [0.  1. ]\n",
      " [0.  1. ]\n",
      " [0.  1. ]\n",
      " [1.  0. ]\n",
      " [0.  1. ]\n",
      " [1.  0. ]\n",
      " [1.  0. ]\n",
      " [1.  0. ]\n",
      " [0.  1. ]\n",
      " [1.  0. ]\n",
      " [0.  1. ]\n",
      " [0.  1. ]\n",
      " [1.  0. ]\n",
      " [1.  0. ]\n",
      " [1.  0. ]\n",
      " [1.  0. ]\n",
      " [1.  0. ]\n",
      " [1.  0. ]\n",
      " [1.  0. ]\n",
      " [0.7 0.3]\n",
      " [0.8 0.2]\n",
      " [1.  0. ]\n",
      " [1.  0. ]\n",
      " [1.  0. ]\n",
      " [0.  1. ]\n",
      " [1.  0. ]\n",
      " [0.  1. ]\n",
      " [1.  0. ]\n",
      " [1.  0. ]\n",
      " [1.  0. ]\n",
      " [1.  0. ]\n",
      " [1.  0. ]\n",
      " [1.  0. ]\n",
      " [1.  0. ]\n",
      " [0.  1. ]]\n"
     ]
    }
   ],
   "source": [
    "K = 10\n",
    "model = KNeighborsClassifier(n_neighbors=K)\n",
    "model.fit(X_train, y_train)  # Fit the model\n",
    "\n",
    "# Set initial threshold\n",
    "threshold = 0.98\n",
    "\n",
    "# Predict probabilities for the training set\n",
    "train_proba = model.predict_proba(X_train)[:, 1]\n",
    "print(model.predict_proba(X_train))"
   ]
  },
  {
   "cell_type": "code",
   "execution_count": 25,
   "id": "d3be0f3b-f1e8-43fe-ab99-e8ea9004c5a5",
   "metadata": {},
   "outputs": [
    {
     "name": "stdout",
     "output_type": "stream",
     "text": [
      "Train proba: [0.  0.  0.  0.  1.  1.  0.8 1.  1.  0.  1.  0.  1.  1.  0.  0.4 0.  0.\n",
      " 0.  0.  1.  1.  1.  0.  0.  1.  0.  0.  0.  0.  0.  0.  0.1 1.  0.  0.\n",
      " 1.  0.4 0.  0.  0.  0.  0.  0.  0.9 1.  0.  0.  0.  1.  1.  0.  1.  0.\n",
      " 0.  0.  1.  0.  0.  1.  0.  0.  1.  0.  0.  0.  1.  0.  0.  0.  0.  0.1\n",
      " 0.  1.  1.  0.  1.  1.  0.4 0.  0.  0.  1.  0.  1.  0.  0.1 1.  1.  1.\n",
      " 1.  0.  1.  0.  0.  1.  0.  1.  0.  1.  0.  1.  0.  0.  1.  0.  1.  0.\n",
      " 0.  0.  0.  1.  1.  1.  1.  0.8 1.  0.  0.  1.  0.8 1.  0.  0.  0.  0.\n",
      " 0.  0.  0.  0.  0.  0.  1.  0.  0.  0.  0.  0.3 1.  0.  1.  0.  0.  0.\n",
      " 0.  0.  0.  0.  0.  1.  0.  1.  0.  0.  0.  1.  1.  1.  0.  1.  0.  0.\n",
      " 0.  1.  0.  1.  1.  0.  0.  0.  0.  0.  0.  0.  0.3 0.2 0.  0.  0.  1.\n",
      " 0.  1.  0.  0.  0.  0.  0.  0.  0.  1. ]\n",
      "Confusion Matrix:\n",
      " [[48  0]\n",
      " [ 2 32]]\n"
     ]
    },
    {
     "data": {
      "image/png": "[encoded data removed]",
      "text/plain": [
       "<Figure size 800x600 with 1 Axes>"
      ]
     },
     "metadata": {},
     "output_type": "display_data"
    },
    {
     "name": "stdout",
     "output_type": "stream",
     "text": [
      "Best Threshold: 0.4\n",
      "Confusion Matrix with Best Threshold:\n",
      " [[48  0]\n",
      " [ 0 34]]\n"
     ]
    }
   ],
   "source": [
    "print(\"Train proba:\", train_proba)\n",
    "\n",
    "# Predict classes based on the threshold for training set\n",
    "y_train_pred = (train_proba >= threshold).astype(int)\n",
    "\n",
    "# Similarly, predict probabilities for the test set\n",
    "test_proba = model.predict_proba(X_test)[:, 1]\n",
    "\n",
    "# Predict classes based on the threshold for test set\n",
    "y_test_pred = (test_proba >= threshold).astype(int)\n",
    "\n",
    "# Confusion matrix for test set\n",
    "conf_matrix = confusion_matrix(y_test, y_test_pred)\n",
    "print(\"Confusion Matrix:\\n\", conf_matrix)\n",
    "\n",
    "# Initialize lists to store TPR, FPR, and thresholds\n",
    "fprs, tprs, thresholds = roc_curve(y_test, test_proba)\n",
    "\n",
    "# Plot ROC curve\n",
    "plt.figure(figsize=(8, 6))\n",
    "plt.plot(fprs, tprs, label='ROC Curve (AUC = {:.2f})'.format(auc(fprs, tprs)))\n",
    "plt.plot([0, 1], [0, 1], 'k--')  # Diagonal line\n",
    "plt.xlabel('False Positive Rate')\n",
    "plt.ylabel('True Positive Rate')\n",
    "plt.title('ROC Curve')\n",
    "plt.legend()\n",
    "plt.grid(True)\n",
    "plt.show()\n",
    "\n",
    "# Find the best threshold based on TPR - FPR\n",
    "best_threshold_index = np.argmax(tprs - fprs)\n",
    "best_threshold = thresholds[best_threshold_index]\n",
    "\n",
    "print(\"Best Threshold:\", best_threshold)\n",
    "\n",
    "# Predict using the best threshold\n",
    "y_test_best_pred = (test_proba >= best_threshold).astype(int)\n",
    "best_conf_matrix = confusion_matrix(y_test, y_test_best_pred)\n",
    "\n",
    "print(\"Confusion Matrix with Best Threshold:\\n\", best_conf_matrix)"
   ]
  },
  {
   "cell_type": "markdown",
   "id": "da3bb1aa-c88f-423d-ac92-3a22fef81717",
   "metadata": {},
   "source": [
    "**Inference:** We can observe that AUC = 1 and this is a perfect model."
   ]
  },
  {
   "cell_type": "markdown",
   "id": "043d4e0c-aca2-4bdb-8f33-817e2bd63095",
   "metadata": {},
   "source": [
    "## Decision Tree Classification"
   ]
  },
  {
   "cell_type": "code",
   "execution_count": 26,
   "id": "f08180c0-2449-4a36-a8e1-d4788c294ce8",
   "metadata": {},
   "outputs": [],
   "source": [
    "clf = DecisionTreeClassifier(criterion='gini', random_state=0)"
   ]
  },
  {
   "cell_type": "code",
   "execution_count": 27,
   "id": "1601ca19-8ca0-4565-92e1-861f013612aa",
   "metadata": {},
   "outputs": [],
   "source": [
    "dtc = clf.fit(X,Y)"
   ]
  },
  {
   "cell_type": "code",
   "execution_count": 28,
   "id": "3bb01b00-3353-41e9-8e26-478c254398de",
   "metadata": {},
   "outputs": [
    {
     "data": {
      "text/html": [
       "<div>\n",
       "<style scoped>\n",
       "    .dataframe tbody tr th:only-of-type {\n",
       "        vertical-align: middle;\n",
       "    }\n",
       "\n",
       "    .dataframe tbody tr th {\n",
       "        vertical-align: top;\n",
       "    }\n",
       "\n",
       "    .dataframe thead th {\n",
       "        text-align: right;\n",
       "    }\n",
       "</style>\n",
       "<table border=\"1\" class=\"dataframe\">\n",
       "  <thead>\n",
       "    <tr style=\"text-align: right;\">\n",
       "      <th></th>\n",
       "      <th>features</th>\n",
       "      <th>importance</th>\n",
       "    </tr>\n",
       "  </thead>\n",
       "  <tbody>\n",
       "    <tr>\n",
       "      <th>0</th>\n",
       "      <td>duration</td>\n",
       "      <td>0.0</td>\n",
       "    </tr>\n",
       "    <tr>\n",
       "      <th>1</th>\n",
       "      <td>waiting</td>\n",
       "      <td>1.0</td>\n",
       "    </tr>\n",
       "  </tbody>\n",
       "</table>\n",
       "</div>"
      ],
      "text/plain": [
       "   features  importance\n",
       "0  duration         0.0\n",
       "1   waiting         1.0"
      ]
     },
     "execution_count": 28,
     "metadata": {},
     "output_type": "execute_result"
    }
   ],
   "source": [
    "# feature importance\n",
    "pd.DataFrame({'features':dtc.feature_names_in_, 'importance':dtc.feature_importances_})"
   ]
  },
  {
   "cell_type": "code",
   "execution_count": 29,
   "id": "2c80907e-28d7-4c05-8501-a8f6e61180f1",
   "metadata": {},
   "outputs": [
    {
     "data": {
      "image/png": "[encoded data removed]",
      "text/plain": [
       "<Figure size 600x600 with 1 Axes>"
      ]
     },
     "metadata": {},
     "output_type": "display_data"
    }
   ],
   "source": [
    "plt.figure(figsize=(4,4), dpi=150)\n",
    "plot_tree(dtc, feature_names=X.columns, class_names=['N','Y']);"
   ]
  },
  {
   "cell_type": "code",
   "execution_count": 30,
   "id": "342a5be8-ae46-4253-abc1-3555d504003b",
   "metadata": {},
   "outputs": [],
   "source": [
    "clf = DecisionTreeClassifier(criterion='entropy', random_state=0)\n",
    "model = clf.fit(X,Y)"
   ]
  },
  {
   "cell_type": "code",
   "execution_count": 31,
   "id": "8f272298-9c3e-4299-a1a0-bb5992b0bea9",
   "metadata": {},
   "outputs": [
    {
     "name": "stdout",
     "output_type": "stream",
     "text": [
      "[0, 1, 0, 1, 0, 1, 0, 0, 1, 0, 1, 0, 0, 1, 0, 1, 1, 0, 1, 0, 1, 1, 0, 0, 0, 0, 1, 0, 0, 0, 0, 0, 1, 0, 0, 1, 1, 0, 1, 0, 0, 1, 0, 1, 0, 0, 1, 1, 0, 1, 0, 0, 1, 0, 1, 0, 0, 1, 0, 0, 1, 0, 1, 0, 1, 0, 0, 0, 1, 0, 0, 1, 0, 0, 1, 0, 1, 0, 0, 0, 0, 0, 0, 1, 0, 0, 0, 0, 1, 0, 1, 0, 1, 0, 1, 0, 0, 0, 1, 0, 1, 0, 1, 0, 0, 1, 0, 1, 0, 0, 0, 1, 0, 0, 1, 0, 1, 0, 1, 0, 1, 0, 0, 1, 0, 0, 1, 0, 1, 0, 1, 0, 1, 0, 1, 0, 1, 0, 1, 0, 0, 1, 0, 0, 0, 1, 0, 1, 0, 1, 0, 0, 1, 0, 0, 0, 0, 0, 1, 0, 1, 0, 1, 0, 1, 0, 1, 0, 1, 0, 1, 1, 0, 0, 0, 0, 0, 1, 0, 0, 1, 0, 0, 0, 1, 0, 0, 1, 0, 1, 0, 1, 0, 0, 0, 0, 0, 0, 1, 0, 1, 0, 0, 1, 0, 1, 0, 0, 1, 0, 0, 0, 1, 0, 1, 0, 1, 0, 1, 0, 1, 0, 1, 0, 0, 0, 0, 0, 0, 0, 0, 1, 0, 1, 0, 1, 1, 0, 0, 1, 0, 1, 0, 1, 0, 0, 1, 0, 1, 0, 1, 0, 0, 0, 0, 0, 0, 0, 1, 0, 0, 0, 1, 0, 1, 1, 0, 0, 1, 0, 1, 0]\n"
     ]
    }
   ],
   "source": [
    "threshold = 0.99\n",
    "yhat = []\n",
    "for i in model.predict_proba(X)[:,1]:\n",
    "    if i > threshold:\n",
    "        yhat.append(1)\n",
    "    else:\n",
    "        yhat.append(0)\n",
    "print(yhat)"
   ]
  },
  {
   "cell_type": "code",
   "execution_count": 32,
   "id": "9900c7a9-8e44-4a47-9696-3c876db2350d",
   "metadata": {},
   "outputs": [
    {
     "data": {
      "text/html": [
       "<div>\n",
       "<style scoped>\n",
       "    .dataframe tbody tr th:only-of-type {\n",
       "        vertical-align: middle;\n",
       "    }\n",
       "\n",
       "    .dataframe tbody tr th {\n",
       "        vertical-align: top;\n",
       "    }\n",
       "\n",
       "    .dataframe thead th {\n",
       "        text-align: right;\n",
       "    }\n",
       "</style>\n",
       "<table border=\"1\" class=\"dataframe\">\n",
       "  <thead>\n",
       "    <tr style=\"text-align: right;\">\n",
       "      <th></th>\n",
       "      <th>features</th>\n",
       "      <th>importance</th>\n",
       "    </tr>\n",
       "  </thead>\n",
       "  <tbody>\n",
       "    <tr>\n",
       "      <th>0</th>\n",
       "      <td>duration</td>\n",
       "      <td>0.0</td>\n",
       "    </tr>\n",
       "    <tr>\n",
       "      <th>1</th>\n",
       "      <td>waiting</td>\n",
       "      <td>1.0</td>\n",
       "    </tr>\n",
       "  </tbody>\n",
       "</table>\n",
       "</div>"
      ],
      "text/plain": [
       "   features  importance\n",
       "0  duration         0.0\n",
       "1   waiting         1.0"
      ]
     },
     "execution_count": 32,
     "metadata": {},
     "output_type": "execute_result"
    }
   ],
   "source": [
    "pd.DataFrame({'features':model.feature_names_in_, 'importance':model.feature_importances_})"
   ]
  },
  {
   "cell_type": "code",
   "execution_count": 33,
   "id": "081d65f5-afd3-45d0-b95a-1535624eba2f",
   "metadata": {},
   "outputs": [
    {
     "data": {
      "image/png": "[encoded data removed]",
      "text/plain": [
       "<Figure size 600x600 with 1 Axes>"
      ]
     },
     "metadata": {},
     "output_type": "display_data"
    }
   ],
   "source": [
    "plt.figure(figsize=(4,4), dpi=150)\n",
    "plot_tree(model, feature_names=X.columns, class_names=['N','Y']);"
   ]
  },
  {
   "cell_type": "markdown",
   "id": "9d7863b1-32c9-4db5-9eb1-de7f522e2976",
   "metadata": {},
   "source": [
    "**Inference:** We can obseve from both Gini and Entropy methods that variable, `waiting`, only has an impact on label, `kind` and the other feature, `duration` does not impact the label, `kind`, so, in the first split itself, the labels are classified."
   ]
  },
  {
   "cell_type": "markdown",
   "id": "15ff5515-abb5-49c6-a87e-42a4a3449bca",
   "metadata": {},
   "source": [
    "## Logistic Regression"
   ]
  },
  {
   "cell_type": "code",
   "execution_count": 34,
   "id": "12b74525-a59b-41f4-a903-4632a82cc921",
   "metadata": {},
   "outputs": [
    {
     "data": {
      "text/html": [
       "<style>#sk-container-id-1 {\n",
       "  /* Definition of color scheme common for light and dark mode */\n",
       "  --sklearn-color-text: black;\n",
       "  --sklearn-color-line: gray;\n",
       "  /* Definition of color scheme for unfitted estimators */\n",
       "  --sklearn-color-unfitted-level-0: #fff5e6;\n",
       "  --sklearn-color-unfitted-level-1: #f6e4d2;\n",
       "  --sklearn-color-unfitted-level-2: #ffe0b3;\n",
       "  --sklearn-color-unfitted-level-3: chocolate;\n",
       "  /* Definition of color scheme for fitted estimators */\n",
       "  --sklearn-color-fitted-level-0: #f0f8ff;\n",
       "  --sklearn-color-fitted-level-1: #d4ebff;\n",
       "  --sklearn-color-fitted-level-2: #b3dbfd;\n",
       "  --sklearn-color-fitted-level-3: cornflowerblue;\n",
       "\n",
       "  /* Specific color for light theme */\n",
       "  --sklearn-color-text-on-default-background: var(--sg-text-color, var(--theme-code-foreground, var(--jp-content-font-color1, black)));\n",
       "  --sklearn-color-background: var(--sg-background-color, var(--theme-background, var(--jp-layout-color0, white)));\n",
       "  --sklearn-color-border-box: var(--sg-text-color, var(--theme-code-foreground, var(--jp-content-font-color1, black)));\n",
       "  --sklearn-color-icon: #696969;\n",
       "\n",
       "  @media (prefers-color-scheme: dark) {\n",
       "    /* Redefinition of color scheme for dark theme */\n",
       "    --sklearn-color-text-on-default-background: var(--sg-text-color, var(--theme-code-foreground, var(--jp-content-font-color1, white)));\n",
       "    --sklearn-color-background: var(--sg-background-color, var(--theme-background, var(--jp-layout-color0, #111)));\n",
       "    --sklearn-color-border-box: var(--sg-text-color, var(--theme-code-foreground, var(--jp-content-font-color1, white)));\n",
       "    --sklearn-color-icon: #878787;\n",
       "  }\n",
       "}\n",
       "\n",
       "#sk-container-id-1 {\n",
       "  color: var(--sklearn-color-text);\n",
       "}\n",
       "\n",
       "#sk-container-id-1 pre {\n",
       "  padding: 0;\n",
       "}\n",
       "\n",
       "#sk-container-id-1 input.sk-hidden--visually {\n",
       "  border: 0;\n",
       "  clip: rect(1px 1px 1px 1px);\n",
       "  clip: rect(1px, 1px, 1px, 1px);\n",
       "  height: 1px;\n",
       "  margin: -1px;\n",
       "  overflow: hidden;\n",
       "  padding: 0;\n",
       "  position: absolute;\n",
       "  width: 1px;\n",
       "}\n",
       "\n",
       "#sk-container-id-1 div.sk-dashed-wrapped {\n",
       "  border: 1px dashed var(--sklearn-color-line);\n",
       "  margin: 0 0.4em 0.5em 0.4em;\n",
       "  box-sizing: border-box;\n",
       "  padding-bottom: 0.4em;\n",
       "  background-color: var(--sklearn-color-background);\n",
       "}\n",
       "\n",
       "#sk-container-id-1 div.sk-container {\n",
       "  /* jupyter's `normalize.less` sets `[hidden] { display: none; }`\n",
       "     but bootstrap.min.css set `[hidden] { display: none !important; }`\n",
       "     so we also need the `!important` here to be able to override the\n",
       "     default hidden behavior on the sphinx rendered scikit-learn.org.\n",
       "     See: https://github.com/scikit-learn/scikit-learn/issues/21755 */\n",
       "  display: inline-block !important;\n",
       "  position: relative;\n",
       "}\n",
       "\n",
       "#sk-container-id-1 div.sk-text-repr-fallback {\n",
       "  display: none;\n",
       "}\n",
       "\n",
       "div.sk-parallel-item,\n",
       "div.sk-serial,\n",
       "div.sk-item {\n",
       "  /* draw centered vertical line to link estimators */\n",
       "  background-image: linear-gradient(var(--sklearn-color-text-on-default-background), var(--sklearn-color-text-on-default-background));\n",
       "  background-size: 2px 100%;\n",
       "  background-repeat: no-repeat;\n",
       "  background-position: center center;\n",
       "}\n",
       "\n",
       "/* Parallel-specific style estimator block */\n",
       "\n",
       "#sk-container-id-1 div.sk-parallel-item::after {\n",
       "  content: \"\";\n",
       "  width: 100%;\n",
       "  border-bottom: 2px solid var(--sklearn-color-text-on-default-background);\n",
       "  flex-grow: 1;\n",
       "}\n",
       "\n",
       "#sk-container-id-1 div.sk-parallel {\n",
       "  display: flex;\n",
       "  align-items: stretch;\n",
       "  justify-content: center;\n",
       "  background-color: var(--sklearn-color-background);\n",
       "  position: relative;\n",
       "}\n",
       "\n",
       "#sk-container-id-1 div.sk-parallel-item {\n",
       "  display: flex;\n",
       "  flex-direction: column;\n",
       "}\n",
       "\n",
       "#sk-container-id-1 div.sk-parallel-item:first-child::after {\n",
       "  align-self: flex-end;\n",
       "  width: 50%;\n",
       "}\n",
       "\n",
       "#sk-container-id-1 div.sk-parallel-item:last-child::after {\n",
       "  align-self: flex-start;\n",
       "  width: 50%;\n",
       "}\n",
       "\n",
       "#sk-container-id-1 div.sk-parallel-item:only-child::after {\n",
       "  width: 0;\n",
       "}\n",
       "\n",
       "/* Serial-specific style estimator block */\n",
       "\n",
       "#sk-container-id-1 div.sk-serial {\n",
       "  display: flex;\n",
       "  flex-direction: column;\n",
       "  align-items: center;\n",
       "  background-color: var(--sklearn-color-background);\n",
       "  padding-right: 1em;\n",
       "  padding-left: 1em;\n",
       "}\n",
       "\n",
       "\n",
       "/* Toggleable style: style used for estimator/Pipeline/ColumnTransformer box that is\n",
       "clickable and can be expanded/collapsed.\n",
       "- Pipeline and ColumnTransformer use this feature and define the default style\n",
       "- Estimators will overwrite some part of the style using the `sk-estimator` class\n",
       "*/\n",
       "\n",
       "/* Pipeline and ColumnTransformer style (default) */\n",
       "\n",
       "#sk-container-id-1 div.sk-toggleable {\n",
       "  /* Default theme specific background. It is overwritten whether we have a\n",
       "  specific estimator or a Pipeline/ColumnTransformer */\n",
       "  background-color: var(--sklearn-color-background);\n",
       "}\n",
       "\n",
       "/* Toggleable label */\n",
       "#sk-container-id-1 label.sk-toggleable__label {\n",
       "  cursor: pointer;\n",
       "  display: block;\n",
       "  width: 100%;\n",
       "  margin-bottom: 0;\n",
       "  padding: 0.5em;\n",
       "  box-sizing: border-box;\n",
       "  text-align: center;\n",
       "}\n",
       "\n",
       "#sk-container-id-1 label.sk-toggleable__label-arrow:before {\n",
       "  /* Arrow on the left of the label */\n",
       "  content: \"▸\";\n",
       "  float: left;\n",
       "  margin-right: 0.25em;\n",
       "  color: var(--sklearn-color-icon);\n",
       "}\n",
       "\n",
       "#sk-container-id-1 label.sk-toggleable__label-arrow:hover:before {\n",
       "  color: var(--sklearn-color-text);\n",
       "}\n",
       "\n",
       "/* Toggleable content - dropdown */\n",
       "\n",
       "#sk-container-id-1 div.sk-toggleable__content {\n",
       "  max-height: 0;\n",
       "  max-width: 0;\n",
       "  overflow: hidden;\n",
       "  text-align: left;\n",
       "  /* unfitted */\n",
       "  background-color: var(--sklearn-color-unfitted-level-0);\n",
       "}\n",
       "\n",
       "#sk-container-id-1 div.sk-toggleable__content.fitted {\n",
       "  /* fitted */\n",
       "  background-color: var(--sklearn-color-fitted-level-0);\n",
       "}\n",
       "\n",
       "#sk-container-id-1 div.sk-toggleable__content pre {\n",
       "  margin: 0.2em;\n",
       "  border-radius: 0.25em;\n",
       "  color: var(--sklearn-color-text);\n",
       "  /* unfitted */\n",
       "  background-color: var(--sklearn-color-unfitted-level-0);\n",
       "}\n",
       "\n",
       "#sk-container-id-1 div.sk-toggleable__content.fitted pre {\n",
       "  /* unfitted */\n",
       "  background-color: var(--sklearn-color-fitted-level-0);\n",
       "}\n",
       "\n",
       "#sk-container-id-1 input.sk-toggleable__control:checked~div.sk-toggleable__content {\n",
       "  /* Expand drop-down */\n",
       "  max-height: 200px;\n",
       "  max-width: 100%;\n",
       "  overflow: auto;\n",
       "}\n",
       "\n",
       "#sk-container-id-1 input.sk-toggleable__control:checked~label.sk-toggleable__label-arrow:before {\n",
       "  content: \"▾\";\n",
       "}\n",
       "\n",
       "/* Pipeline/ColumnTransformer-specific style */\n",
       "\n",
       "#sk-container-id-1 div.sk-label input.sk-toggleable__control:checked~label.sk-toggleable__label {\n",
       "  color: var(--sklearn-color-text);\n",
       "  background-color: var(--sklearn-color-unfitted-level-2);\n",
       "}\n",
       "\n",
       "#sk-container-id-1 div.sk-label.fitted input.sk-toggleable__control:checked~label.sk-toggleable__label {\n",
       "  background-color: var(--sklearn-color-fitted-level-2);\n",
       "}\n",
       "\n",
       "/* Estimator-specific style */\n",
       "\n",
       "/* Colorize estimator box */\n",
       "#sk-container-id-1 div.sk-estimator input.sk-toggleable__control:checked~label.sk-toggleable__label {\n",
       "  /* unfitted */\n",
       "  background-color: var(--sklearn-color-unfitted-level-2);\n",
       "}\n",
       "\n",
       "#sk-container-id-1 div.sk-estimator.fitted input.sk-toggleable__control:checked~label.sk-toggleable__label {\n",
       "  /* fitted */\n",
       "  background-color: var(--sklearn-color-fitted-level-2);\n",
       "}\n",
       "\n",
       "#sk-container-id-1 div.sk-label label.sk-toggleable__label,\n",
       "#sk-container-id-1 div.sk-label label {\n",
       "  /* The background is the default theme color */\n",
       "  color: var(--sklearn-color-text-on-default-background);\n",
       "}\n",
       "\n",
       "/* On hover, darken the color of the background */\n",
       "#sk-container-id-1 div.sk-label:hover label.sk-toggleable__label {\n",
       "  color: var(--sklearn-color-text);\n",
       "  background-color: var(--sklearn-color-unfitted-level-2);\n",
       "}\n",
       "\n",
       "/* Label box, darken color on hover, fitted */\n",
       "#sk-container-id-1 div.sk-label.fitted:hover label.sk-toggleable__label.fitted {\n",
       "  color: var(--sklearn-color-text);\n",
       "  background-color: var(--sklearn-color-fitted-level-2);\n",
       "}\n",
       "\n",
       "/* Estimator label */\n",
       "\n",
       "#sk-container-id-1 div.sk-label label {\n",
       "  font-family: monospace;\n",
       "  font-weight: bold;\n",
       "  display: inline-block;\n",
       "  line-height: 1.2em;\n",
       "}\n",
       "\n",
       "#sk-container-id-1 div.sk-label-container {\n",
       "  text-align: center;\n",
       "}\n",
       "\n",
       "/* Estimator-specific */\n",
       "#sk-container-id-1 div.sk-estimator {\n",
       "  font-family: monospace;\n",
       "  border: 1px dotted var(--sklearn-color-border-box);\n",
       "  border-radius: 0.25em;\n",
       "  box-sizing: border-box;\n",
       "  margin-bottom: 0.5em;\n",
       "  /* unfitted */\n",
       "  background-color: var(--sklearn-color-unfitted-level-0);\n",
       "}\n",
       "\n",
       "#sk-container-id-1 div.sk-estimator.fitted {\n",
       "  /* fitted */\n",
       "  background-color: var(--sklearn-color-fitted-level-0);\n",
       "}\n",
       "\n",
       "/* on hover */\n",
       "#sk-container-id-1 div.sk-estimator:hover {\n",
       "  /* unfitted */\n",
       "  background-color: var(--sklearn-color-unfitted-level-2);\n",
       "}\n",
       "\n",
       "#sk-container-id-1 div.sk-estimator.fitted:hover {\n",
       "  /* fitted */\n",
       "  background-color: var(--sklearn-color-fitted-level-2);\n",
       "}\n",
       "\n",
       "/* Specification for estimator info (e.g. \"i\" and \"?\") */\n",
       "\n",
       "/* Common style for \"i\" and \"?\" */\n",
       "\n",
       ".sk-estimator-doc-link,\n",
       "a:link.sk-estimator-doc-link,\n",
       "a:visited.sk-estimator-doc-link {\n",
       "  float: right;\n",
       "  font-size: smaller;\n",
       "  line-height: 1em;\n",
       "  font-family: monospace;\n",
       "  background-color: var(--sklearn-color-background);\n",
       "  border-radius: 1em;\n",
       "  height: 1em;\n",
       "  width: 1em;\n",
       "  text-decoration: none !important;\n",
       "  margin-left: 1ex;\n",
       "  /* unfitted */\n",
       "  border: var(--sklearn-color-unfitted-level-1) 1pt solid;\n",
       "  color: var(--sklearn-color-unfitted-level-1);\n",
       "}\n",
       "\n",
       ".sk-estimator-doc-link.fitted,\n",
       "a:link.sk-estimator-doc-link.fitted,\n",
       "a:visited.sk-estimator-doc-link.fitted {\n",
       "  /* fitted */\n",
       "  border: var(--sklearn-color-fitted-level-1) 1pt solid;\n",
       "  color: var(--sklearn-color-fitted-level-1);\n",
       "}\n",
       "\n",
       "/* On hover */\n",
       "div.sk-estimator:hover .sk-estimator-doc-link:hover,\n",
       ".sk-estimator-doc-link:hover,\n",
       "div.sk-label-container:hover .sk-estimator-doc-link:hover,\n",
       ".sk-estimator-doc-link:hover {\n",
       "  /* unfitted */\n",
       "  background-color: var(--sklearn-color-unfitted-level-3);\n",
       "  color: var(--sklearn-color-background);\n",
       "  text-decoration: none;\n",
       "}\n",
       "\n",
       "div.sk-estimator.fitted:hover .sk-estimator-doc-link.fitted:hover,\n",
       ".sk-estimator-doc-link.fitted:hover,\n",
       "div.sk-label-container:hover .sk-estimator-doc-link.fitted:hover,\n",
       ".sk-estimator-doc-link.fitted:hover {\n",
       "  /* fitted */\n",
       "  background-color: var(--sklearn-color-fitted-level-3);\n",
       "  color: var(--sklearn-color-background);\n",
       "  text-decoration: none;\n",
       "}\n",
       "\n",
       "/* Span, style for the box shown on hovering the info icon */\n",
       ".sk-estimator-doc-link span {\n",
       "  display: none;\n",
       "  z-index: 9999;\n",
       "  position: relative;\n",
       "  font-weight: normal;\n",
       "  right: .2ex;\n",
       "  padding: .5ex;\n",
       "  margin: .5ex;\n",
       "  width: min-content;\n",
       "  min-width: 20ex;\n",
       "  max-width: 50ex;\n",
       "  color: var(--sklearn-color-text);\n",
       "  box-shadow: 2pt 2pt 4pt #999;\n",
       "  /* unfitted */\n",
       "  background: var(--sklearn-color-unfitted-level-0);\n",
       "  border: .5pt solid var(--sklearn-color-unfitted-level-3);\n",
       "}\n",
       "\n",
       ".sk-estimator-doc-link.fitted span {\n",
       "  /* fitted */\n",
       "  background: var(--sklearn-color-fitted-level-0);\n",
       "  border: var(--sklearn-color-fitted-level-3);\n",
       "}\n",
       "\n",
       ".sk-estimator-doc-link:hover span {\n",
       "  display: block;\n",
       "}\n",
       "\n",
       "/* \"?\"-specific style due to the `<a>` HTML tag */\n",
       "\n",
       "#sk-container-id-1 a.estimator_doc_link {\n",
       "  float: right;\n",
       "  font-size: 1rem;\n",
       "  line-height: 1em;\n",
       "  font-family: monospace;\n",
       "  background-color: var(--sklearn-color-background);\n",
       "  border-radius: 1rem;\n",
       "  height: 1rem;\n",
       "  width: 1rem;\n",
       "  text-decoration: none;\n",
       "  /* unfitted */\n",
       "  color: var(--sklearn-color-unfitted-level-1);\n",
       "  border: var(--sklearn-color-unfitted-level-1) 1pt solid;\n",
       "}\n",
       "\n",
       "#sk-container-id-1 a.estimator_doc_link.fitted {\n",
       "  /* fitted */\n",
       "  border: var(--sklearn-color-fitted-level-1) 1pt solid;\n",
       "  color: var(--sklearn-color-fitted-level-1);\n",
       "}\n",
       "\n",
       "/* On hover */\n",
       "#sk-container-id-1 a.estimator_doc_link:hover {\n",
       "  /* unfitted */\n",
       "  background-color: var(--sklearn-color-unfitted-level-3);\n",
       "  color: var(--sklearn-color-background);\n",
       "  text-decoration: none;\n",
       "}\n",
       "\n",
       "#sk-container-id-1 a.estimator_doc_link.fitted:hover {\n",
       "  /* fitted */\n",
       "  background-color: var(--sklearn-color-fitted-level-3);\n",
       "}\n",
       "</style><div id=\"sk-container-id-1\" class=\"sk-top-container\"><div class=\"sk-text-repr-fallback\"><pre>LogisticRegression()</pre><b>In a Jupyter environment, please rerun this cell to show the HTML representation or trust the notebook. <br />On GitHub, the HTML representation is unable to render, please try loading this page with nbviewer.org.</b></div><div class=\"sk-container\" hidden><div class=\"sk-item\"><div class=\"sk-estimator fitted sk-toggleable\"><input class=\"sk-toggleable__control sk-hidden--visually\" id=\"sk-estimator-id-1\" type=\"checkbox\" checked><label for=\"sk-estimator-id-1\" class=\"sk-toggleable__label fitted sk-toggleable__label-arrow fitted\">&nbsp;&nbsp;LogisticRegression<a class=\"sk-estimator-doc-link fitted\" rel=\"noreferrer\" target=\"_blank\" href=\"https://scikit-learn.org/1.4/modules/generated/sklearn.linear_model.LogisticRegression.html\">?<span>Documentation for LogisticRegression</span></a><span class=\"sk-estimator-doc-link fitted\">i<span>Fitted</span></span></label><div class=\"sk-toggleable__content fitted\"><pre>LogisticRegression()</pre></div> </div></div></div></div>"
      ],
      "text/plain": [
       "LogisticRegression()"
      ]
     },
     "execution_count": 34,
     "metadata": {},
     "output_type": "execute_result"
    }
   ],
   "source": [
    "lr = LogisticRegression()\n",
    "lr.fit(X, Y)"
   ]
  },
  {
   "cell_type": "code",
   "execution_count": 35,
   "id": "105fa1ea-3aa1-443c-b9e8-fa9c4e2863a5",
   "metadata": {},
   "outputs": [
    {
     "data": {
      "text/plain": [
       "0      0.0\n",
       "1      1.0\n",
       "2      0.0\n",
       "3      1.0\n",
       "4      0.0\n",
       "      ... \n",
       "267    0.0\n",
       "268    1.0\n",
       "269    0.0\n",
       "270    1.0\n",
       "271    0.0\n",
       "Name: prob, Length: 272, dtype: float64"
      ]
     },
     "execution_count": 35,
     "metadata": {},
     "output_type": "execute_result"
    }
   ],
   "source": [
    "# Predict probabilities and add to dataframe\n",
    "gsr['prob'] = model.predict_proba(X)[:, 1]\n",
    "gsr['prob']"
   ]
  },
  {
   "cell_type": "code",
   "execution_count": 36,
   "id": "7890b08a-8360-4e3d-8907-fdb73173e55b",
   "metadata": {},
   "outputs": [],
   "source": [
    "# Initialize empty dataframe to store metrics\n",
    "df_ROC = pd.DataFrame(columns=['Threshold', 'TP', 'TN', 'FP', 'FN', 'TPR', 'FPR'])"
   ]
  },
  {
   "cell_type": "code",
   "execution_count": 37,
   "id": "28614a9b-a31b-414f-a0a4-2450e33d12c5",
   "metadata": {},
   "outputs": [],
   "source": [
    "# Loop through different thresholds and calculate metrics\n",
    "for threshold in np.arange(0, 1.1, 0.1):\n",
    "    y_pred = (gsr['prob'] > threshold).astype(int)\n",
    "    cm = confusion_matrix(Y, y_pred)\n",
    "    TP = cm[1, 1]\n",
    "    TN = cm[0, 0]\n",
    "    FP = cm[0, 1]\n",
    "    FN = cm[1, 0]\n",
    "    TPR = TP / (TP + FN)\n",
    "    FPR = FP / (FP + TN)\n",
    "    df_ROC.loc[len(df_ROC)] = pd.Series({'Threshold': threshold, \n",
    "                                         'TP': TP, 'TN': TN, 'FP': FP, 'FN': FN, \n",
    "                                         'TPR': TPR, 'FPR': FPR, 'auc_score':roc_auc_score(Y,y_pred)})"
   ]
  },
  {
   "cell_type": "code",
   "execution_count": 38,
   "id": "0a5ff3eb-4a62-4df2-8465-e40a9cea0cc0",
   "metadata": {},
   "outputs": [],
   "source": [
    "# Compute AUC\n",
    "auc = roc_auc_score(Y, gsr['prob'])"
   ]
  },
  {
   "cell_type": "code",
   "execution_count": 39,
   "id": "8efea9cd-a9cd-42a4-a489-1c79a0f421cd",
   "metadata": {},
   "outputs": [
    {
     "name": "stdout",
     "output_type": "stream",
     "text": [
      "    Threshold     TP     TN   FP     FN  TPR  FPR\n",
      "0         0.0  100.0  172.0  0.0    0.0  1.0  0.0\n",
      "1         0.1  100.0  172.0  0.0    0.0  1.0  0.0\n",
      "2         0.2  100.0  172.0  0.0    0.0  1.0  0.0\n",
      "3         0.3  100.0  172.0  0.0    0.0  1.0  0.0\n",
      "4         0.4  100.0  172.0  0.0    0.0  1.0  0.0\n",
      "5         0.5  100.0  172.0  0.0    0.0  1.0  0.0\n",
      "6         0.6  100.0  172.0  0.0    0.0  1.0  0.0\n",
      "7         0.7  100.0  172.0  0.0    0.0  1.0  0.0\n",
      "8         0.8  100.0  172.0  0.0    0.0  1.0  0.0\n",
      "9         0.9  100.0  172.0  0.0    0.0  1.0  0.0\n",
      "10        1.0    0.0  172.0  0.0  100.0  0.0  0.0\n",
      "AUC: 1.0\n"
     ]
    }
   ],
   "source": [
    "# Print ROC curve and AUC\n",
    "print(df_ROC)\n",
    "print('AUC:', auc)"
   ]
  },
  {
   "cell_type": "code",
   "execution_count": 40,
   "id": "e1d80ae4-6668-4cfb-a6b0-f6c3c7722a70",
   "metadata": {},
   "outputs": [
    {
     "data": {
      "image/png": "[encoded data removed]",
      "text/plain": [
       "<Figure size 1500x200 with 1 Axes>"
      ]
     },
     "metadata": {},
     "output_type": "display_data"
    }
   ],
   "source": [
    "# Plot ROC curve from df_ROC\n",
    "plt.plot(df_ROC['FPR'], df_ROC['TPR'], label=f'AUC={auc:.2f}')\n",
    "plt.xlabel('False Positive Rate')\n",
    "plt.ylabel('True Positive Rate')\n",
    "plt.title('ROC Curve')\n",
    "plt.legend()\n",
    "plt.show()"
   ]
  },
  {
   "cell_type": "markdown",
   "id": "a6186807-50cd-45f1-a50a-1faf7424b35f",
   "metadata": {},
   "source": [
    "**We can infer that the number FPR is 0, indicating there are no false positives predicted by the model, AUC = 1, TPR = 1, indicating that it is a perfect model.**"
   ]
  }
 ],
 "metadata": {
  "kernelspec": {
   "display_name": "Python 3 (ipykernel)",
   "language": "python",
   "name": "python3"
  },
  "language_info": {
   "codemirror_mode": {
    "name": "ipython",
    "version": 3
   },
   "file_extension": ".py",
   "mimetype": "text/x-python",
   "name": "python",
   "nbconvert_exporter": "python",
   "pygments_lexer": "ipython3",
   "version": "3.12.4"
  }
 },
 "nbformat": 4,
 "nbformat_minor": 5
}
