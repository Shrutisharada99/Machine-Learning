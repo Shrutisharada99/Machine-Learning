{
 "cells": [
  {
   "cell_type": "markdown",
   "id": "5c85f1db-408e-4bb9-b110-d46c7f40175d",
   "metadata": {},
   "source": [
    "# Classification Analysis - 2 - KNN Classification, Decision Tree Classification, Logistic Regression"
   ]
  },
  {
   "cell_type": "markdown",
   "id": "7d45d25a-5689-40d7-b3fc-293eb717b76e",
   "metadata": {},
   "source": [
    "## Import libraries and load dataset"
   ]
  },
  {
   "cell_type": "code",
   "execution_count": 218,
   "id": "8bc2da9d-6cc4-4a2d-ac8a-f85fedb537fa",
   "metadata": {},
   "outputs": [],
   "source": [
    "# DataFrame Imports\n",
    "import pandas as pd\n",
    "import numpy as np\n",
    "import matplotlib.pyplot as plt\n",
    "import seaborn as sns\n",
    "\n",
    "# EDA Imports\n",
    "from sklearn.preprocessing import LabelEncoder\n",
    "from sklearn.preprocessing import MinMaxScaler\n",
    "from sklearn.model_selection import train_test_split, cross_val_score\n",
    "\n",
    "# KNN Classifier Imports\n",
    "from sklearn.datasets import load_digits\n",
    "from sklearn.neighbors import KNeighborsClassifier\n",
    "from sklearn.preprocessing import LabelEncoder, MinMaxScaler\n",
    "from sklearn.metrics import confusion_matrix, roc_curve, auc, roc_auc_score\n",
    "\n",
    "# DTC Imports\n",
    "from sklearn.tree import DecisionTreeClassifier, export_graphviz, plot_tree\n",
    "\n",
    "# Logistic Regression Imports\n",
    "from sklearn.linear_model import LogisticRegression"
   ]
  },
  {
   "cell_type": "code",
   "execution_count": 219,
   "id": "23c1496a-4297-4349-a2ba-02a179fd0659",
   "metadata": {},
   "outputs": [],
   "source": [
    "# Load presaved dataset from seaborn\n",
    "\n",
    "exe = sns.load_dataset(\"exercise\")"
   ]
  },
  {
   "cell_type": "code",
   "execution_count": 220,
   "id": "78622b3f-4830-4a83-bff3-f7220dbec14d",
   "metadata": {},
   "outputs": [
    {
     "data": {
      "text/html": [
       "<div>\n",
       "<style scoped>\n",
       "    .dataframe tbody tr th:only-of-type {\n",
       "        vertical-align: middle;\n",
       "    }\n",
       "\n",
       "    .dataframe tbody tr th {\n",
       "        vertical-align: top;\n",
       "    }\n",
       "\n",
       "    .dataframe thead th {\n",
       "        text-align: right;\n",
       "    }\n",
       "</style>\n",
       "<table border=\"1\" class=\"dataframe\">\n",
       "  <thead>\n",
       "    <tr style=\"text-align: right;\">\n",
       "      <th></th>\n",
       "      <th>Unnamed: 0</th>\n",
       "      <th>id</th>\n",
       "      <th>diet</th>\n",
       "      <th>pulse</th>\n",
       "      <th>time</th>\n",
       "      <th>kind</th>\n",
       "    </tr>\n",
       "  </thead>\n",
       "  <tbody>\n",
       "    <tr>\n",
       "      <th>0</th>\n",
       "      <td>0</td>\n",
       "      <td>1</td>\n",
       "      <td>low fat</td>\n",
       "      <td>85</td>\n",
       "      <td>1 min</td>\n",
       "      <td>rest</td>\n",
       "    </tr>\n",
       "    <tr>\n",
       "      <th>1</th>\n",
       "      <td>1</td>\n",
       "      <td>1</td>\n",
       "      <td>low fat</td>\n",
       "      <td>85</td>\n",
       "      <td>15 min</td>\n",
       "      <td>rest</td>\n",
       "    </tr>\n",
       "    <tr>\n",
       "      <th>2</th>\n",
       "      <td>2</td>\n",
       "      <td>1</td>\n",
       "      <td>low fat</td>\n",
       "      <td>88</td>\n",
       "      <td>30 min</td>\n",
       "      <td>rest</td>\n",
       "    </tr>\n",
       "    <tr>\n",
       "      <th>3</th>\n",
       "      <td>3</td>\n",
       "      <td>2</td>\n",
       "      <td>low fat</td>\n",
       "      <td>90</td>\n",
       "      <td>1 min</td>\n",
       "      <td>rest</td>\n",
       "    </tr>\n",
       "    <tr>\n",
       "      <th>4</th>\n",
       "      <td>4</td>\n",
       "      <td>2</td>\n",
       "      <td>low fat</td>\n",
       "      <td>92</td>\n",
       "      <td>15 min</td>\n",
       "      <td>rest</td>\n",
       "    </tr>\n",
       "    <tr>\n",
       "      <th>...</th>\n",
       "      <td>...</td>\n",
       "      <td>...</td>\n",
       "      <td>...</td>\n",
       "      <td>...</td>\n",
       "      <td>...</td>\n",
       "      <td>...</td>\n",
       "    </tr>\n",
       "    <tr>\n",
       "      <th>85</th>\n",
       "      <td>85</td>\n",
       "      <td>29</td>\n",
       "      <td>no fat</td>\n",
       "      <td>135</td>\n",
       "      <td>15 min</td>\n",
       "      <td>running</td>\n",
       "    </tr>\n",
       "    <tr>\n",
       "      <th>86</th>\n",
       "      <td>86</td>\n",
       "      <td>29</td>\n",
       "      <td>no fat</td>\n",
       "      <td>130</td>\n",
       "      <td>30 min</td>\n",
       "      <td>running</td>\n",
       "    </tr>\n",
       "    <tr>\n",
       "      <th>87</th>\n",
       "      <td>87</td>\n",
       "      <td>30</td>\n",
       "      <td>no fat</td>\n",
       "      <td>99</td>\n",
       "      <td>1 min</td>\n",
       "      <td>running</td>\n",
       "    </tr>\n",
       "    <tr>\n",
       "      <th>88</th>\n",
       "      <td>88</td>\n",
       "      <td>30</td>\n",
       "      <td>no fat</td>\n",
       "      <td>111</td>\n",
       "      <td>15 min</td>\n",
       "      <td>running</td>\n",
       "    </tr>\n",
       "    <tr>\n",
       "      <th>89</th>\n",
       "      <td>89</td>\n",
       "      <td>30</td>\n",
       "      <td>no fat</td>\n",
       "      <td>150</td>\n",
       "      <td>30 min</td>\n",
       "      <td>running</td>\n",
       "    </tr>\n",
       "  </tbody>\n",
       "</table>\n",
       "<p>90 rows × 6 columns</p>\n",
       "</div>"
      ],
      "text/plain": [
       "    Unnamed: 0  id     diet  pulse    time     kind\n",
       "0            0   1  low fat     85   1 min     rest\n",
       "1            1   1  low fat     85  15 min     rest\n",
       "2            2   1  low fat     88  30 min     rest\n",
       "3            3   2  low fat     90   1 min     rest\n",
       "4            4   2  low fat     92  15 min     rest\n",
       "..         ...  ..      ...    ...     ...      ...\n",
       "85          85  29   no fat    135  15 min  running\n",
       "86          86  29   no fat    130  30 min  running\n",
       "87          87  30   no fat     99   1 min  running\n",
       "88          88  30   no fat    111  15 min  running\n",
       "89          89  30   no fat    150  30 min  running\n",
       "\n",
       "[90 rows x 6 columns]"
      ]
     },
     "execution_count": 220,
     "metadata": {},
     "output_type": "execute_result"
    }
   ],
   "source": [
    "exe"
   ]
  },
  {
   "cell_type": "markdown",
   "id": "2eb5ca91-15d7-4d4a-8b06-120da8dca5d4",
   "metadata": {},
   "source": [
    "**Let's predict between the `kind` variable as `running and rest/walking`. So, I am altering values of walking to rest too.**"
   ]
  },
  {
   "cell_type": "code",
   "execution_count": 221,
   "id": "32f7fa75-f0c8-46dd-b400-61abe90369f9",
   "metadata": {},
   "outputs": [],
   "source": [
    "exe.loc[(exe['kind'] == \"walking\"), 'kind']= 'rest'"
   ]
  },
  {
   "cell_type": "code",
   "execution_count": 222,
   "id": "c008a763-f990-48cf-9706-e970094294af",
   "metadata": {},
   "outputs": [
    {
     "data": {
      "text/plain": [
       "['rest', 'running']\n",
       "Categories (3, object): ['rest', 'walking', 'running']"
      ]
     },
     "execution_count": 222,
     "metadata": {},
     "output_type": "execute_result"
    }
   ],
   "source": [
    "exe['kind'].unique()"
   ]
  },
  {
   "cell_type": "markdown",
   "id": "81ff06d8-4dae-4d7b-adbc-e4c1cf2c4875",
   "metadata": {},
   "source": [
    "## EDA"
   ]
  },
  {
   "cell_type": "markdown",
   "id": "be6a5acb-73de-456c-af65-2c8201604dd6",
   "metadata": {},
   "source": [
    "Dropping the first two columns as the first is index and second is `id`."
   ]
  },
  {
   "cell_type": "code",
   "execution_count": 223,
   "id": "f19d8f90-00be-4e52-952b-15fc1be2b443",
   "metadata": {},
   "outputs": [
    {
     "data": {
      "text/html": [
       "<div>\n",
       "<style scoped>\n",
       "    .dataframe tbody tr th:only-of-type {\n",
       "        vertical-align: middle;\n",
       "    }\n",
       "\n",
       "    .dataframe tbody tr th {\n",
       "        vertical-align: top;\n",
       "    }\n",
       "\n",
       "    .dataframe thead th {\n",
       "        text-align: right;\n",
       "    }\n",
       "</style>\n",
       "<table border=\"1\" class=\"dataframe\">\n",
       "  <thead>\n",
       "    <tr style=\"text-align: right;\">\n",
       "      <th></th>\n",
       "      <th>diet</th>\n",
       "      <th>pulse</th>\n",
       "      <th>time</th>\n",
       "      <th>kind</th>\n",
       "    </tr>\n",
       "  </thead>\n",
       "  <tbody>\n",
       "    <tr>\n",
       "      <th>0</th>\n",
       "      <td>low fat</td>\n",
       "      <td>85</td>\n",
       "      <td>1 min</td>\n",
       "      <td>rest</td>\n",
       "    </tr>\n",
       "    <tr>\n",
       "      <th>1</th>\n",
       "      <td>low fat</td>\n",
       "      <td>85</td>\n",
       "      <td>15 min</td>\n",
       "      <td>rest</td>\n",
       "    </tr>\n",
       "    <tr>\n",
       "      <th>2</th>\n",
       "      <td>low fat</td>\n",
       "      <td>88</td>\n",
       "      <td>30 min</td>\n",
       "      <td>rest</td>\n",
       "    </tr>\n",
       "    <tr>\n",
       "      <th>3</th>\n",
       "      <td>low fat</td>\n",
       "      <td>90</td>\n",
       "      <td>1 min</td>\n",
       "      <td>rest</td>\n",
       "    </tr>\n",
       "    <tr>\n",
       "      <th>4</th>\n",
       "      <td>low fat</td>\n",
       "      <td>92</td>\n",
       "      <td>15 min</td>\n",
       "      <td>rest</td>\n",
       "    </tr>\n",
       "  </tbody>\n",
       "</table>\n",
       "</div>"
      ],
      "text/plain": [
       "      diet  pulse    time  kind\n",
       "0  low fat     85   1 min  rest\n",
       "1  low fat     85  15 min  rest\n",
       "2  low fat     88  30 min  rest\n",
       "3  low fat     90   1 min  rest\n",
       "4  low fat     92  15 min  rest"
      ]
     },
     "execution_count": 223,
     "metadata": {},
     "output_type": "execute_result"
    }
   ],
   "source": [
    "exe = exe[['diet', 'pulse', 'time', 'kind']]\n",
    "exe.head()"
   ]
  },
  {
   "cell_type": "code",
   "execution_count": 224,
   "id": "d342eb62-52e4-4b12-884b-50889a0973a1",
   "metadata": {},
   "outputs": [
    {
     "data": {
      "text/plain": [
       "(90, 4)"
      ]
     },
     "execution_count": 224,
     "metadata": {},
     "output_type": "execute_result"
    }
   ],
   "source": [
    "exe.shape"
   ]
  },
  {
   "cell_type": "code",
   "execution_count": 225,
   "id": "bb65af50-78b8-4da3-a86f-593bc216be8d",
   "metadata": {},
   "outputs": [
    {
     "name": "stdout",
     "output_type": "stream",
     "text": [
      "<class 'pandas.core.frame.DataFrame'>\n",
      "RangeIndex: 90 entries, 0 to 89\n",
      "Data columns (total 4 columns):\n",
      " #   Column  Non-Null Count  Dtype   \n",
      "---  ------  --------------  -----   \n",
      " 0   diet    90 non-null     category\n",
      " 1   pulse   90 non-null     int64   \n",
      " 2   time    90 non-null     category\n",
      " 3   kind    90 non-null     category\n",
      "dtypes: category(3), int64(1)\n",
      "memory usage: 1.5 KB\n"
     ]
    }
   ],
   "source": [
    "exe.info()"
   ]
  },
  {
   "cell_type": "markdown",
   "id": "3e85a297-e1c8-4b7b-b1c1-dd1db3c7225e",
   "metadata": {},
   "source": [
    "**Label encoding columns, `diet`, `kind`**"
   ]
  },
  {
   "cell_type": "code",
   "execution_count": 226,
   "id": "d2044ccf-3d70-4cd3-85e8-e18e8d417162",
   "metadata": {},
   "outputs": [
    {
     "name": "stderr",
     "output_type": "stream",
     "text": [
      "C:\\Users\\Vani\\AppData\\Local\\Temp\\ipykernel_20444\\1188206768.py:5: FutureWarning: Setting an item of incompatible dtype is deprecated and will raise in a future error of pandas. Value '[0 0 0 0 0 0 0 0 0 0 0 0 0 0 0 1 1 1 1 1 1 1 1 1 1 1 1 1 1 1 0 0 0 0 0 0 0\n",
      " 0 0 0 0 0 0 0 0 1 1 1 1 1 1 1 1 1 1 1 1 1 1 1 0 0 0 0 0 0 0 0 0 0 0 0 0 0\n",
      " 0 1 1 1 1 1 1 1 1 1 1 1 1 1 1 1]' has dtype incompatible with category, please explicitly cast to a compatible dtype first.\n",
      "  exe.loc[:,'diet'] = labelencoder.fit_transform(exe['diet'])\n",
      "C:\\Users\\Vani\\AppData\\Local\\Temp\\ipykernel_20444\\1188206768.py:6: FutureWarning: Setting an item of incompatible dtype is deprecated and will raise in a future error of pandas. Value '[0 0 0 0 0 0 0 0 0 0 0 0 0 0 0 0 0 0 0 0 0 0 0 0 0 0 0 0 0 0 0 0 0 0 0 0 0\n",
      " 0 0 0 0 0 0 0 0 0 0 0 0 0 0 0 0 0 0 0 0 0 0 0 1 1 1 1 1 1 1 1 1 1 1 1 1 1\n",
      " 1 1 1 1 1 1 1 1 1 1 1 1 1 1 1 1]' has dtype incompatible with category, please explicitly cast to a compatible dtype first.\n",
      "  exe.loc[:,'kind'] = labelencoder.fit_transform(exe['kind'])\n"
     ]
    },
    {
     "data": {
      "text/html": [
       "<div>\n",
       "<style scoped>\n",
       "    .dataframe tbody tr th:only-of-type {\n",
       "        vertical-align: middle;\n",
       "    }\n",
       "\n",
       "    .dataframe tbody tr th {\n",
       "        vertical-align: top;\n",
       "    }\n",
       "\n",
       "    .dataframe thead th {\n",
       "        text-align: right;\n",
       "    }\n",
       "</style>\n",
       "<table border=\"1\" class=\"dataframe\">\n",
       "  <thead>\n",
       "    <tr style=\"text-align: right;\">\n",
       "      <th></th>\n",
       "      <th>diet</th>\n",
       "      <th>pulse</th>\n",
       "      <th>time</th>\n",
       "      <th>kind</th>\n",
       "    </tr>\n",
       "  </thead>\n",
       "  <tbody>\n",
       "    <tr>\n",
       "      <th>83</th>\n",
       "      <td>1</td>\n",
       "      <td>140</td>\n",
       "      <td>30 min</td>\n",
       "      <td>1</td>\n",
       "    </tr>\n",
       "    <tr>\n",
       "      <th>87</th>\n",
       "      <td>1</td>\n",
       "      <td>99</td>\n",
       "      <td>1 min</td>\n",
       "      <td>1</td>\n",
       "    </tr>\n",
       "    <tr>\n",
       "      <th>69</th>\n",
       "      <td>0</td>\n",
       "      <td>87</td>\n",
       "      <td>1 min</td>\n",
       "      <td>1</td>\n",
       "    </tr>\n",
       "    <tr>\n",
       "      <th>1</th>\n",
       "      <td>0</td>\n",
       "      <td>85</td>\n",
       "      <td>15 min</td>\n",
       "      <td>0</td>\n",
       "    </tr>\n",
       "    <tr>\n",
       "      <th>32</th>\n",
       "      <td>0</td>\n",
       "      <td>84</td>\n",
       "      <td>30 min</td>\n",
       "      <td>0</td>\n",
       "    </tr>\n",
       "  </tbody>\n",
       "</table>\n",
       "</div>"
      ],
      "text/plain": [
       "    diet  pulse    time  kind\n",
       "83     1    140  30 min     1\n",
       "87     1     99   1 min     1\n",
       "69     0     87   1 min     1\n",
       "1      0     85  15 min     0\n",
       "32     0     84  30 min     0"
      ]
     },
     "execution_count": 226,
     "metadata": {},
     "output_type": "execute_result"
    }
   ],
   "source": [
    "# instantiate the encoder\n",
    "labelencoder = LabelEncoder()\n",
    "\n",
    "# fit the encoder\n",
    "exe.loc[:,'diet'] = labelencoder.fit_transform(exe['diet'])\n",
    "exe.loc[:,'kind'] = labelencoder.fit_transform(exe['kind'])\n",
    "\n",
    "# display 5 observations\n",
    "exe.sample(5)"
   ]
  },
  {
   "cell_type": "markdown",
   "id": "4d4bc513-48b5-453f-be6e-360499607f25",
   "metadata": {},
   "source": [
    "***I want to take absolute values of time to predict the activity, `kind`. So, let me strip off the `min` from the time column values and divide all values by 60 to make it in terms of hours and reduce randomness in the column.***"
   ]
  },
  {
   "cell_type": "code",
   "execution_count": 227,
   "id": "79f688b1-8fb3-4d78-a4ee-13fad8196bd2",
   "metadata": {},
   "outputs": [
    {
     "name": "stderr",
     "output_type": "stream",
     "text": [
      "C:\\Users\\Vani\\AppData\\Local\\Temp\\ipykernel_20444\\651995867.py:1: FutureWarning: Setting an item of incompatible dtype is deprecated and will raise in a future error of pandas. Value '['1' '15' '30' '1' '15' '30' '1' '15' '30' '1' '15' '30' '1' '15' '30' '1'\n",
      " '15' '30' '1' '15' '30' '1' '15' '30' '1' '15' '30' '1' '15' '30' '1'\n",
      " '15' '30' '1' '15' '30' '1' '15' '30' '1' '15' '30' '1' '15' '30' '1'\n",
      " '15' '30' '1' '15' '30' '1' '15' '30' '1' '15' '30' '1' '15' '30' '1'\n",
      " '15' '30' '1' '15' '30' '1' '15' '30' '1' '15' '30' '1' '15' '30' '1'\n",
      " '15' '30' '1' '15' '30' '1' '15' '30' '1' '15' '30' '1' '15' '30']' has dtype incompatible with category, please explicitly cast to a compatible dtype first.\n",
      "  exe.loc[:,'time'] = exe['time'].str[:-4]\n"
     ]
    },
    {
     "data": {
      "text/plain": [
       "0      1\n",
       "1     15\n",
       "2     30\n",
       "3      1\n",
       "4     15\n",
       "      ..\n",
       "85    15\n",
       "86    30\n",
       "87     1\n",
       "88    15\n",
       "89    30\n",
       "Name: time, Length: 90, dtype: object"
      ]
     },
     "execution_count": 227,
     "metadata": {},
     "output_type": "execute_result"
    }
   ],
   "source": [
    "exe.loc[:,'time'] = exe['time'].str[:-4]\n",
    "exe['time']"
   ]
  },
  {
   "cell_type": "code",
   "execution_count": 228,
   "id": "febf7ce3-c701-47fe-97a3-685b0e3e41f9",
   "metadata": {},
   "outputs": [],
   "source": [
    "exe.loc[:,'time'] = exe['time'].astype('int32')"
   ]
  },
  {
   "cell_type": "code",
   "execution_count": 229,
   "id": "1e2066cf-739c-473c-950d-c94b226b1c80",
   "metadata": {},
   "outputs": [],
   "source": [
    "exe.loc[:,'time'] = exe['time']/60"
   ]
  },
  {
   "cell_type": "code",
   "execution_count": 230,
   "id": "f25c2b32-1686-4acc-97b1-81b4f750e7aa",
   "metadata": {},
   "outputs": [
    {
     "data": {
      "text/plain": [
       "0    0.016667\n",
       "1        0.25\n",
       "2         0.5\n",
       "3    0.016667\n",
       "4        0.25\n",
       "Name: time, dtype: object"
      ]
     },
     "execution_count": 230,
     "metadata": {},
     "output_type": "execute_result"
    }
   ],
   "source": [
    "exe['time'].head()"
   ]
  },
  {
   "cell_type": "code",
   "execution_count": 231,
   "id": "3c8f2595-1f55-47e2-84b0-4559016039fe",
   "metadata": {},
   "outputs": [
    {
     "name": "stdout",
     "output_type": "stream",
     "text": [
      "<class 'pandas.core.frame.DataFrame'>\n",
      "RangeIndex: 90 entries, 0 to 89\n",
      "Data columns (total 4 columns):\n",
      " #   Column  Non-Null Count  Dtype \n",
      "---  ------  --------------  ----- \n",
      " 0   diet    90 non-null     int32 \n",
      " 1   pulse   90 non-null     int64 \n",
      " 2   time    90 non-null     object\n",
      " 3   kind    90 non-null     int32 \n",
      "dtypes: int32(2), int64(1), object(1)\n",
      "memory usage: 2.2+ KB\n"
     ]
    }
   ],
   "source": [
    "exe.info()"
   ]
  },
  {
   "cell_type": "markdown",
   "id": "220425b7-d6df-41ea-89bf-d10d55e8750e",
   "metadata": {},
   "source": [
    "## Data Visualizations"
   ]
  },
  {
   "cell_type": "markdown",
   "id": "5456efc8-3495-47af-a7d7-7539158a37b7",
   "metadata": {},
   "source": [
    "Let's `visualise` the data to understand it better."
   ]
  },
  {
   "cell_type": "markdown",
   "id": "414ec231-3aa4-4882-8c0f-3dfb216b861e",
   "metadata": {},
   "source": [
    "### Plotting relation between pulse, diet and kind"
   ]
  },
  {
   "cell_type": "code",
   "execution_count": 232,
   "id": "5e32702b-74f5-4064-b7e9-862ac68f6b3b",
   "metadata": {},
   "outputs": [
    {
     "data": {
      "image/png": "[encoded data removed]",
      "text/plain": [
       "<Figure size 800x300 with 1 Axes>"
      ]
     },
     "metadata": {},
     "output_type": "display_data"
    }
   ],
   "source": [
    "plt.figure(figsize=(8, 3))\n",
    "sns.barplot(x='kind', y='pulse', hue = 'diet', data=exe)\n",
    "plt.title('Plot of relation between pulse, diet and kind')\n",
    "plt.show()"
   ]
  },
  {
   "cell_type": "markdown",
   "id": "b490cf4e-e89a-4632-8f0f-7a3ef87afd27",
   "metadata": {},
   "source": [
    "We can observe that `kind 1` has maximum `pulse` value."
   ]
  },
  {
   "cell_type": "markdown",
   "id": "6f90ea9f-e268-4d3b-a6e1-45fa72e941f3",
   "metadata": {},
   "source": [
    "## Missing Value Treatment"
   ]
  },
  {
   "cell_type": "markdown",
   "id": "734bc8fa-3a6e-4258-98a6-bee5958d2ad9",
   "metadata": {},
   "source": [
    "### Let's check for missing values"
   ]
  },
  {
   "cell_type": "code",
   "execution_count": 233,
   "id": "9992a74e-0211-42d5-b6ed-617d07977de8",
   "metadata": {},
   "outputs": [
    {
     "data": {
      "text/plain": [
       "False"
      ]
     },
     "execution_count": 233,
     "metadata": {},
     "output_type": "execute_result"
    }
   ],
   "source": [
    "exe.isnull().values.any()"
   ]
  },
  {
   "cell_type": "markdown",
   "id": "2dd7e292-350d-47d5-bca8-4810f26e3462",
   "metadata": {},
   "source": [
    "Let's plot a `heatmap` of missing values too to verify this."
   ]
  },
  {
   "cell_type": "code",
   "execution_count": 234,
   "id": "a31292ba-1ac6-4757-8243-dc951815326a",
   "metadata": {},
   "outputs": [
    {
     "data": {
      "image/png": "[encoded data removed]",
      "text/plain": [
       "<Figure size 1500x200 with 1 Axes>"
      ]
     },
     "metadata": {},
     "output_type": "display_data"
    }
   ],
   "source": [
    "# set the figure size\n",
    "plt.rcParams[\"figure.figsize\"]=[15,2]\n",
    "\n",
    "# plot a heatmap of the missing values in the data\n",
    "# cbar: specify whether to display the color index or not\n",
    "sns.heatmap(exe.isnull(), cbar = False)\n",
    "\n",
    "# display the plot\n",
    "plt.show()"
   ]
  },
  {
   "cell_type": "markdown",
   "id": "d1d8e3ab-07e7-431c-b5a4-8f9a55e8af3a",
   "metadata": {},
   "source": [
    "***We have ensured that there are no missing values in the dataset.***"
   ]
  },
  {
   "cell_type": "markdown",
   "id": "7e2541d1-1a8f-41df-9e96-db306539109e",
   "metadata": {},
   "source": [
    "## Outlier Treatment"
   ]
  },
  {
   "cell_type": "code",
   "execution_count": 235,
   "id": "b213b6f8-2e22-460f-a9ec-ab46c57f45be",
   "metadata": {},
   "outputs": [
    {
     "data": {
      "image/png": "[encoded data removed]",
      "text/plain": [
       "<Figure size 300x150 with 1 Axes>"
      ]
     },
     "metadata": {},
     "output_type": "display_data"
    }
   ],
   "source": [
    "# let's first plot the outliers.\n",
    "plt.figure(figsize=(3, 1.5))\n",
    "z = sns.boxplot(x=exe['pulse'], whis=1.5)  # plot the boxplot\n",
    "z.set_xlabel(\"Pulse Rate\", fontsize=20)  # set the x-axis label\n",
    "plt.show()"
   ]
  },
  {
   "cell_type": "markdown",
   "id": "42ac3a77-2cf8-4df1-9eba-d8a4ed2e154c",
   "metadata": {},
   "source": [
    "**Observing data, we can see that the outliers to pulse data are extreme and can be capped to upper bound value. So, let's cap them.**"
   ]
  },
  {
   "cell_type": "code",
   "execution_count": 236,
   "id": "df637b5e-1a92-440d-acac-ea381f6e2493",
   "metadata": {},
   "outputs": [
    {
     "name": "stdout",
     "output_type": "stream",
     "text": [
      "103.0\n",
      "90.25\n",
      "122.125\n",
      "71.125\n"
     ]
    }
   ],
   "source": [
    "Q1 = exe['pulse'].quantile(0.25)\n",
    "Q3 = exe['pulse'].quantile(0.75)\n",
    "print(Q3)\n",
    "print(Q1)\n",
    "IQR = Q3 - Q1\n",
    "lower_bound = Q1 - 1.5 * IQR\n",
    "upper_bound = Q3 + 1.5 * IQR\n",
    "print(upper_bound)\n",
    "print(lower_bound)"
   ]
  },
  {
   "cell_type": "code",
   "execution_count": 237,
   "id": "e9524c79-ad6a-46ca-b0b0-4ff4cf46f18d",
   "metadata": {},
   "outputs": [],
   "source": [
    "exe.loc[exe[\"pulse\"] > 122, \"pulse\"] = 122"
   ]
  },
  {
   "cell_type": "markdown",
   "id": "60f1d573-ec46-426d-83da-a75a234fe9b2",
   "metadata": {},
   "source": [
    "Let's plot the boxplot of the column again to verify that there are no outliers."
   ]
  },
  {
   "cell_type": "code",
   "execution_count": 238,
   "id": "318498af-949a-413f-a8a5-c8a6398f51dd",
   "metadata": {},
   "outputs": [
    {
     "data": {
      "image/png": "[encoded data removed]",
      "text/plain": [
       "<Figure size 300x150 with 1 Axes>"
      ]
     },
     "metadata": {},
     "output_type": "display_data"
    }
   ],
   "source": [
    "# let's first plot the outliers.\n",
    "plt.figure(figsize=(3, 1.5))\n",
    "z = sns.boxplot(x=exe['pulse'], whis=1.5)  # plot the boxplot\n",
    "z.set_xlabel(\"Pulse rate\", fontsize=20)  # set the x-axis label\n",
    "plt.show()"
   ]
  },
  {
   "cell_type": "raw",
   "id": "b96d6526-39db-4593-b5a5-c5cc1fb9d426",
   "metadata": {},
   "source": [
    "Now, we have ensured that there are no outliers in the data."
   ]
  },
  {
   "cell_type": "markdown",
   "id": "cc6d3fc6-4ee3-42e3-9bc6-8aa537e381df",
   "metadata": {},
   "source": [
    "## Scaling and Train-test Split"
   ]
  },
  {
   "cell_type": "code",
   "execution_count": 239,
   "id": "2c757cfb-63a2-4ec5-9678-0cc032988741",
   "metadata": {},
   "outputs": [],
   "source": [
    "# select the target variable\n",
    "Y = exe['kind']\n",
    "\n",
    "# select all the independent variables\n",
    "# by dropping the target variable\n",
    "X = exe.drop(['kind'], axis = 1)"
   ]
  },
  {
   "cell_type": "code",
   "execution_count": 240,
   "id": "519a4f4a-d67e-45d3-9cde-b3050004c0fc",
   "metadata": {},
   "outputs": [
    {
     "data": {
      "text/html": [
       "<div>\n",
       "<style scoped>\n",
       "    .dataframe tbody tr th:only-of-type {\n",
       "        vertical-align: middle;\n",
       "    }\n",
       "\n",
       "    .dataframe tbody tr th {\n",
       "        vertical-align: top;\n",
       "    }\n",
       "\n",
       "    .dataframe thead th {\n",
       "        text-align: right;\n",
       "    }\n",
       "</style>\n",
       "<table border=\"1\" class=\"dataframe\">\n",
       "  <thead>\n",
       "    <tr style=\"text-align: right;\">\n",
       "      <th></th>\n",
       "      <th>0</th>\n",
       "      <th>1</th>\n",
       "      <th>2</th>\n",
       "    </tr>\n",
       "  </thead>\n",
       "  <tbody>\n",
       "    <tr>\n",
       "      <th>85</th>\n",
       "      <td>1.0</td>\n",
       "      <td>1.000000</td>\n",
       "      <td>0.482759</td>\n",
       "    </tr>\n",
       "    <tr>\n",
       "      <th>86</th>\n",
       "      <td>1.0</td>\n",
       "      <td>1.000000</td>\n",
       "      <td>1.000000</td>\n",
       "    </tr>\n",
       "    <tr>\n",
       "      <th>87</th>\n",
       "      <td>1.0</td>\n",
       "      <td>0.452381</td>\n",
       "      <td>0.000000</td>\n",
       "    </tr>\n",
       "    <tr>\n",
       "      <th>88</th>\n",
       "      <td>1.0</td>\n",
       "      <td>0.738095</td>\n",
       "      <td>0.482759</td>\n",
       "    </tr>\n",
       "    <tr>\n",
       "      <th>89</th>\n",
       "      <td>1.0</td>\n",
       "      <td>1.000000</td>\n",
       "      <td>1.000000</td>\n",
       "    </tr>\n",
       "  </tbody>\n",
       "</table>\n",
       "</div>"
      ],
      "text/plain": [
       "      0         1         2\n",
       "85  1.0  1.000000  0.482759\n",
       "86  1.0  1.000000  1.000000\n",
       "87  1.0  0.452381  0.000000\n",
       "88  1.0  0.738095  0.482759\n",
       "89  1.0  1.000000  1.000000"
      ]
     },
     "execution_count": 240,
     "metadata": {},
     "output_type": "execute_result"
    }
   ],
   "source": [
    "scaler = MinMaxScaler(feature_range=(0, 1))\n",
    "\n",
    "X_scaled = scaler.fit_transform(X)\n",
    "X_scaled = pd.DataFrame(X_scaled)\n",
    "X_scaled.tail()"
   ]
  },
  {
   "cell_type": "markdown",
   "id": "be7ba647-3bb8-452f-93b5-d3abeabf8ea7",
   "metadata": {},
   "source": [
    "## Train and Test Split"
   ]
  },
  {
   "cell_type": "code",
   "execution_count": 241,
   "id": "4fe87641-8132-4a6b-8291-2d338d6ab7a4",
   "metadata": {},
   "outputs": [
    {
     "name": "stdout",
     "output_type": "stream",
     "text": [
      "X_train  (63, 3)\n",
      "X_test  (27, 3)\n",
      "Y_train  (63,)\n",
      "Y_test  (27,)\n"
     ]
    }
   ],
   "source": [
    "# let us now split the dataset into train & test\n",
    "# test_size: the proportion of data to be included in the testing set\n",
    "X_train, X_test, y_train, y_test = train_test_split(X_scaled, Y, test_size = 0.3, random_state=197)\n",
    "\n",
    "# print the shape of 'x_train'\n",
    "print(\"X_train \",X_train.shape)\n",
    "\n",
    "# print the shape of 'x_test'\n",
    "print(\"X_test \",X_test.shape)\n",
    "\n",
    "# print the shape of 'y_train'\n",
    "print(\"Y_train \",y_train.shape)\n",
    "\n",
    "# print the shape of 'y_test'\n",
    "print(\"Y_test \",y_test.shape)"
   ]
  },
  {
   "cell_type": "markdown",
   "id": "7953c77f-5510-4659-af18-9330059d3437",
   "metadata": {},
   "source": [
    "## KNN Classification"
   ]
  },
  {
   "cell_type": "code",
   "execution_count": 242,
   "id": "5cb3351f-4b64-4b2d-b13c-1c37fb9d0119",
   "metadata": {},
   "outputs": [],
   "source": [
    "# Train the model with different K values and plot MAPE scores\n",
    "k_values = np.arange(1,20,2)"
   ]
  },
  {
   "cell_type": "code",
   "execution_count": 243,
   "id": "04893978-9977-43f3-83c9-4db2a68e2e3a",
   "metadata": {},
   "outputs": [
    {
     "name": "stdout",
     "output_type": "stream",
     "text": [
      "Best k value: 11\n"
     ]
    },
    {
     "data": {
      "image/png": "[encoded data removed]",
      "text/plain": [
       "<Figure size 1000x600 with 1 Axes>"
      ]
     },
     "metadata": {},
     "output_type": "display_data"
    }
   ],
   "source": [
    "cv_scores = []          # List to hold cross-validation scores\n",
    "\n",
    "# Find the best k value using cross-validation\n",
    "for k in k_values:\n",
    "    knn = KNeighborsClassifier(n_neighbors=k)\n",
    "    scores = cross_val_score(knn, X_train, y_train, cv=10, scoring='accuracy')  # 10-fold cross-validation\n",
    "    cv_scores.append(scores.mean())  # Mean accuracy for each k\n",
    "\n",
    "# Determine the optimal k (the one with the highest accuracy)\n",
    "best_k = k_values[np.argmax(cv_scores)]\n",
    "print(f\"Best k value: {best_k}\")\n",
    "\n",
    "# Plot the results\n",
    "plt.figure(figsize=(10, 6))\n",
    "plt.plot(k_values, cv_scores, marker='o')\n",
    "plt.xlabel('Number of Neighbors (k)')\n",
    "plt.ylabel('Cross-Validation Accuracy')\n",
    "plt.title('Accuracy vs. k in KNN')\n",
    "plt.xticks(np.arange(1, 31, step=2))\n",
    "plt.grid(True)\n",
    "plt.show()"
   ]
  },
  {
   "cell_type": "markdown",
   "id": "7f560d03-da5d-406a-810f-b03b49ef907b",
   "metadata": {},
   "source": [
    "**Let's take k = 9**"
   ]
  },
  {
   "cell_type": "code",
   "execution_count": 244,
   "id": "6af04990-02d4-4a89-9b2f-ddf38120ab1c",
   "metadata": {},
   "outputs": [
    {
     "name": "stdout",
     "output_type": "stream",
     "text": [
      "[[0.88888889 0.11111111]\n",
      " [0.66666667 0.33333333]\n",
      " [0.66666667 0.33333333]\n",
      " [0.88888889 0.11111111]\n",
      " [0.88888889 0.11111111]\n",
      " [0.55555556 0.44444444]\n",
      " [0.66666667 0.33333333]\n",
      " [1.         0.        ]\n",
      " [0.55555556 0.44444444]\n",
      " [0.77777778 0.22222222]\n",
      " [0.77777778 0.22222222]\n",
      " [1.         0.        ]\n",
      " [0.55555556 0.44444444]\n",
      " [0.66666667 0.33333333]\n",
      " [0.55555556 0.44444444]\n",
      " [0.66666667 0.33333333]\n",
      " [0.66666667 0.33333333]\n",
      " [0.66666667 0.33333333]\n",
      " [0.77777778 0.22222222]\n",
      " [1.         0.        ]]\n"
     ]
    }
   ],
   "source": [
    "K = 9\n",
    "model = KNeighborsClassifier(n_neighbors=K)\n",
    "model.fit(X_train, y_train)  # Fit the model\n",
    "\n",
    "# Set initial threshold\n",
    "threshold = 0.5\n",
    "\n",
    "# Predict probabilities for the training set\n",
    "train_proba = model.predict_proba(X_train)[:, 1]\n",
    "print(model.predict_proba(X_train)[0:20])"
   ]
  },
  {
   "cell_type": "code",
   "execution_count": 245,
   "id": "d3be0f3b-f1e8-43fe-ab99-e8ea9004c5a5",
   "metadata": {},
   "outputs": [
    {
     "name": "stdout",
     "output_type": "stream",
     "text": [
      "Train proba: [0.11111111 0.33333333 0.33333333 0.11111111 0.11111111 0.44444444\n",
      " 0.33333333 0.         0.44444444 0.22222222 0.22222222 0.\n",
      " 0.44444444 0.33333333 0.44444444 0.33333333 0.33333333 0.33333333\n",
      " 0.22222222 0.         0.22222222 0.22222222 0.44444444 0.\n",
      " 0.33333333 0.22222222 0.22222222 0.44444444 0.77777778 0.55555556\n",
      " 0.22222222 0.33333333 0.33333333 0.22222222 0.44444444 0.77777778\n",
      " 0.22222222 0.         0.33333333 0.33333333 0.33333333 0.77777778\n",
      " 0.         0.44444444 0.22222222 0.11111111 0.22222222 0.44444444\n",
      " 0.         0.44444444 0.33333333 0.33333333 0.44444444 0.77777778\n",
      " 0.77777778 0.22222222 0.77777778 0.22222222 0.44444444 0.33333333\n",
      " 0.77777778 0.22222222 0.        ]\n",
      "Confusion Matrix:\n",
      " [[18  0]\n",
      " [ 5  4]]\n"
     ]
    },
    {
     "data": {
      "image/png": "[encoded data removed]",
      "text/plain": [
       "<Figure size 800x600 with 1 Axes>"
      ]
     },
     "metadata": {},
     "output_type": "display_data"
    },
    {
     "name": "stdout",
     "output_type": "stream",
     "text": [
      "Best Threshold: 0.3333333333333333\n",
      "Confusion Matrix with Best Threshold:\n",
      " [[12  6]\n",
      " [ 0  9]]\n"
     ]
    }
   ],
   "source": [
    "print(\"Train proba:\", train_proba)\n",
    "\n",
    "# Predict classes based on the threshold for training set\n",
    "y_train_pred = (train_proba >= threshold).astype(int)\n",
    "\n",
    "# Similarly, predict probabilities for the test set\n",
    "test_proba = model.predict_proba(X_test)[:, 1]\n",
    "\n",
    "# Predict classes based on the threshold for test set\n",
    "y_test_pred = (test_proba >= threshold).astype(int)\n",
    "\n",
    "# Confusion matrix for test set\n",
    "conf_matrix = confusion_matrix(y_test, y_test_pred)\n",
    "print(\"Confusion Matrix:\\n\", conf_matrix)\n",
    "\n",
    "# Initialize lists to store TPR, FPR, and thresholds\n",
    "fprs, tprs, thresholds = roc_curve(y_test, test_proba)\n",
    "\n",
    "# Plot ROC curve\n",
    "plt.figure(figsize=(8, 6))\n",
    "plt.plot(fprs, tprs, label='ROC Curve (AUC = {:.2f})'.format(auc(fprs, tprs)))\n",
    "plt.plot([0, 1], [0, 1], 'k--')  # Diagonal line\n",
    "plt.xlabel('False Positive Rate')\n",
    "plt.ylabel('True Positive Rate')\n",
    "plt.title('ROC Curve')\n",
    "plt.legend()\n",
    "plt.grid(True)\n",
    "plt.show()\n",
    "\n",
    "# Find the best threshold based on TPR - FPR\n",
    "best_threshold_index = np.argmax(tprs - fprs)\n",
    "best_threshold = thresholds[best_threshold_index]\n",
    "\n",
    "print(\"Best Threshold:\", best_threshold)\n",
    "\n",
    "# Predict using the best threshold\n",
    "y_test_best_pred = (test_proba >= best_threshold).astype(int)\n",
    "best_conf_matrix = confusion_matrix(y_test, y_test_best_pred)\n",
    "\n",
    "print(\"Confusion Matrix with Best Threshold:\\n\", best_conf_matrix)"
   ]
  },
  {
   "cell_type": "markdown",
   "id": "da3bb1aa-c88f-423d-ac92-3a22fef81717",
   "metadata": {},
   "source": [
    "**Inference:** We can observe that AUC = 0.93, so, this model is good."
   ]
  },
  {
   "cell_type": "raw",
   "id": "f6d0fabb-dbb3-4144-81eb-1b5b410c6e41",
   "metadata": {},
   "source": [
    "Thus, we have plotted the ROC curve and obtained the Confusion Matrix for the best threshold."
   ]
  },
  {
   "cell_type": "markdown",
   "id": "043d4e0c-aca2-4bdb-8f33-817e2bd63095",
   "metadata": {},
   "source": [
    "## Decision Tree Classification"
   ]
  },
  {
   "cell_type": "code",
   "execution_count": 246,
   "id": "f08180c0-2449-4a36-a8e1-d4788c294ce8",
   "metadata": {},
   "outputs": [],
   "source": [
    "clf = DecisionTreeClassifier(criterion='gini', random_state=0)"
   ]
  },
  {
   "cell_type": "code",
   "execution_count": 247,
   "id": "1601ca19-8ca0-4565-92e1-861f013612aa",
   "metadata": {},
   "outputs": [],
   "source": [
    "dtc = clf.fit(X_scaled,Y)"
   ]
  },
  {
   "cell_type": "code",
   "execution_count": 250,
   "id": "3bb01b00-3353-41e9-8e26-478c254398de",
   "metadata": {},
   "outputs": [
    {
     "data": {
      "text/html": [
       "<div>\n",
       "<style scoped>\n",
       "    .dataframe tbody tr th:only-of-type {\n",
       "        vertical-align: middle;\n",
       "    }\n",
       "\n",
       "    .dataframe tbody tr th {\n",
       "        vertical-align: top;\n",
       "    }\n",
       "\n",
       "    .dataframe thead th {\n",
       "        text-align: right;\n",
       "    }\n",
       "</style>\n",
       "<table border=\"1\" class=\"dataframe\">\n",
       "  <thead>\n",
       "    <tr style=\"text-align: right;\">\n",
       "      <th></th>\n",
       "      <th>features</th>\n",
       "      <th>importance</th>\n",
       "    </tr>\n",
       "  </thead>\n",
       "  <tbody>\n",
       "    <tr>\n",
       "      <th>0</th>\n",
       "      <td>diet</td>\n",
       "      <td>0.105646</td>\n",
       "    </tr>\n",
       "    <tr>\n",
       "      <th>1</th>\n",
       "      <td>pulse</td>\n",
       "      <td>0.777058</td>\n",
       "    </tr>\n",
       "    <tr>\n",
       "      <th>2</th>\n",
       "      <td>time</td>\n",
       "      <td>0.117296</td>\n",
       "    </tr>\n",
       "  </tbody>\n",
       "</table>\n",
       "</div>"
      ],
      "text/plain": [
       "  features  importance\n",
       "0     diet    0.105646\n",
       "1    pulse    0.777058\n",
       "2     time    0.117296"
      ]
     },
     "execution_count": 250,
     "metadata": {},
     "output_type": "execute_result"
    }
   ],
   "source": [
    "# feature importance\n",
    "pd.DataFrame({'features':['diet', 'pulse', 'time'], 'importance':dtc.feature_importances_})"
   ]
  },
  {
   "cell_type": "code",
   "execution_count": 252,
   "id": "2c80907e-28d7-4c05-8501-a8f6e61180f1",
   "metadata": {},
   "outputs": [
    {
     "data": {
      "image/png": "[encoded data removed]",
      "text/plain": [
       "<Figure size 600x600 with 1 Axes>"
      ]
     },
     "metadata": {},
     "output_type": "display_data"
    }
   ],
   "source": [
    "plt.figure(figsize=(4,4), dpi=150)\n",
    "plot_tree(dtc, feature_names=X_scaled.columns, class_names=['N','Y']);"
   ]
  },
  {
   "cell_type": "code",
   "execution_count": 253,
   "id": "342a5be8-ae46-4253-abc1-3555d504003b",
   "metadata": {},
   "outputs": [],
   "source": [
    "clf = DecisionTreeClassifier(criterion='entropy', random_state=0)\n",
    "model = clf.fit(X_scaled,Y)"
   ]
  },
  {
   "cell_type": "code",
   "execution_count": 254,
   "id": "8f272298-9c3e-4299-a1a0-bb5992b0bea9",
   "metadata": {},
   "outputs": [
    {
     "name": "stdout",
     "output_type": "stream",
     "text": [
      "[0, 0, 0, 0, 0, 0, 0, 0, 0, 0, 0, 0, 0, 0, 0, 0, 0, 0, 0, 0, 0, 0, 0, 0, 0, 0, 0, 0, 0, 0, 0, 0, 0, 0, 0, 0, 0, 0, 0, 0, 0, 0, 0, 0, 0, 0, 0, 0, 0, 0, 0, 0, 0, 0, 0, 0, 0, 0, 0, 0, 0, 1, 1, 1, 1, 1, 1, 1, 1, 1, 1, 1, 1, 1, 1, 1, 1, 1, 0, 1, 1, 0, 1, 1, 1, 1, 1, 1, 1, 1]\n"
     ]
    }
   ],
   "source": [
    "threshold = 0.99\n",
    "yhat = []\n",
    "for i in model.predict_proba(X_scaled)[:,1]:\n",
    "    if i > threshold:\n",
    "        yhat.append(1)\n",
    "    else:\n",
    "        yhat.append(0)\n",
    "print(yhat)"
   ]
  },
  {
   "cell_type": "markdown",
   "id": "9d7863b1-32c9-4db5-9eb1-de7f522e2976",
   "metadata": {},
   "source": [
    "**Inference:** We have obtained the significance of each of the features in predicting the label value and we have obtained the predicted values for the test values using Gini reduction method."
   ]
  },
  {
   "cell_type": "markdown",
   "id": "15ff5515-abb5-49c6-a87e-42a4a3449bca",
   "metadata": {},
   "source": [
    "## Logistic Regression"
   ]
  },
  {
   "cell_type": "code",
   "execution_count": 272,
   "id": "12b74525-a59b-41f4-a903-4632a82cc921",
   "metadata": {},
   "outputs": [
    {
     "data": {
      "text/html": [
       "<style>#sk-container-id-3 {\n",
       "  /* Definition of color scheme common for light and dark mode */\n",
       "  --sklearn-color-text: black;\n",
       "  --sklearn-color-line: gray;\n",
       "  /* Definition of color scheme for unfitted estimators */\n",
       "  --sklearn-color-unfitted-level-0: #fff5e6;\n",
       "  --sklearn-color-unfitted-level-1: #f6e4d2;\n",
       "  --sklearn-color-unfitted-level-2: #ffe0b3;\n",
       "  --sklearn-color-unfitted-level-3: chocolate;\n",
       "  /* Definition of color scheme for fitted estimators */\n",
       "  --sklearn-color-fitted-level-0: #f0f8ff;\n",
       "  --sklearn-color-fitted-level-1: #d4ebff;\n",
       "  --sklearn-color-fitted-level-2: #b3dbfd;\n",
       "  --sklearn-color-fitted-level-3: cornflowerblue;\n",
       "\n",
       "  /* Specific color for light theme */\n",
       "  --sklearn-color-text-on-default-background: var(--sg-text-color, var(--theme-code-foreground, var(--jp-content-font-color1, black)));\n",
       "  --sklearn-color-background: var(--sg-background-color, var(--theme-background, var(--jp-layout-color0, white)));\n",
       "  --sklearn-color-border-box: var(--sg-text-color, var(--theme-code-foreground, var(--jp-content-font-color1, black)));\n",
       "  --sklearn-color-icon: #696969;\n",
       "\n",
       "  @media (prefers-color-scheme: dark) {\n",
       "    /* Redefinition of color scheme for dark theme */\n",
       "    --sklearn-color-text-on-default-background: var(--sg-text-color, var(--theme-code-foreground, var(--jp-content-font-color1, white)));\n",
       "    --sklearn-color-background: var(--sg-background-color, var(--theme-background, var(--jp-layout-color0, #111)));\n",
       "    --sklearn-color-border-box: var(--sg-text-color, var(--theme-code-foreground, var(--jp-content-font-color1, white)));\n",
       "    --sklearn-color-icon: #878787;\n",
       "  }\n",
       "}\n",
       "\n",
       "#sk-container-id-3 {\n",
       "  color: var(--sklearn-color-text);\n",
       "}\n",
       "\n",
       "#sk-container-id-3 pre {\n",
       "  padding: 0;\n",
       "}\n",
       "\n",
       "#sk-container-id-3 input.sk-hidden--visually {\n",
       "  border: 0;\n",
       "  clip: rect(1px 1px 1px 1px);\n",
       "  clip: rect(1px, 1px, 1px, 1px);\n",
       "  height: 1px;\n",
       "  margin: -1px;\n",
       "  overflow: hidden;\n",
       "  padding: 0;\n",
       "  position: absolute;\n",
       "  width: 1px;\n",
       "}\n",
       "\n",
       "#sk-container-id-3 div.sk-dashed-wrapped {\n",
       "  border: 1px dashed var(--sklearn-color-line);\n",
       "  margin: 0 0.4em 0.5em 0.4em;\n",
       "  box-sizing: border-box;\n",
       "  padding-bottom: 0.4em;\n",
       "  background-color: var(--sklearn-color-background);\n",
       "}\n",
       "\n",
       "#sk-container-id-3 div.sk-container {\n",
       "  /* jupyter's `normalize.less` sets `[hidden] { display: none; }`\n",
       "     but bootstrap.min.css set `[hidden] { display: none !important; }`\n",
       "     so we also need the `!important` here to be able to override the\n",
       "     default hidden behavior on the sphinx rendered scikit-learn.org.\n",
       "     See: https://github.com/scikit-learn/scikit-learn/issues/21755 */\n",
       "  display: inline-block !important;\n",
       "  position: relative;\n",
       "}\n",
       "\n",
       "#sk-container-id-3 div.sk-text-repr-fallback {\n",
       "  display: none;\n",
       "}\n",
       "\n",
       "div.sk-parallel-item,\n",
       "div.sk-serial,\n",
       "div.sk-item {\n",
       "  /* draw centered vertical line to link estimators */\n",
       "  background-image: linear-gradient(var(--sklearn-color-text-on-default-background), var(--sklearn-color-text-on-default-background));\n",
       "  background-size: 2px 100%;\n",
       "  background-repeat: no-repeat;\n",
       "  background-position: center center;\n",
       "}\n",
       "\n",
       "/* Parallel-specific style estimator block */\n",
       "\n",
       "#sk-container-id-3 div.sk-parallel-item::after {\n",
       "  content: \"\";\n",
       "  width: 100%;\n",
       "  border-bottom: 2px solid var(--sklearn-color-text-on-default-background);\n",
       "  flex-grow: 1;\n",
       "}\n",
       "\n",
       "#sk-container-id-3 div.sk-parallel {\n",
       "  display: flex;\n",
       "  align-items: stretch;\n",
       "  justify-content: center;\n",
       "  background-color: var(--sklearn-color-background);\n",
       "  position: relative;\n",
       "}\n",
       "\n",
       "#sk-container-id-3 div.sk-parallel-item {\n",
       "  display: flex;\n",
       "  flex-direction: column;\n",
       "}\n",
       "\n",
       "#sk-container-id-3 div.sk-parallel-item:first-child::after {\n",
       "  align-self: flex-end;\n",
       "  width: 50%;\n",
       "}\n",
       "\n",
       "#sk-container-id-3 div.sk-parallel-item:last-child::after {\n",
       "  align-self: flex-start;\n",
       "  width: 50%;\n",
       "}\n",
       "\n",
       "#sk-container-id-3 div.sk-parallel-item:only-child::after {\n",
       "  width: 0;\n",
       "}\n",
       "\n",
       "/* Serial-specific style estimator block */\n",
       "\n",
       "#sk-container-id-3 div.sk-serial {\n",
       "  display: flex;\n",
       "  flex-direction: column;\n",
       "  align-items: center;\n",
       "  background-color: var(--sklearn-color-background);\n",
       "  padding-right: 1em;\n",
       "  padding-left: 1em;\n",
       "}\n",
       "\n",
       "\n",
       "/* Toggleable style: style used for estimator/Pipeline/ColumnTransformer box that is\n",
       "clickable and can be expanded/collapsed.\n",
       "- Pipeline and ColumnTransformer use this feature and define the default style\n",
       "- Estimators will overwrite some part of the style using the `sk-estimator` class\n",
       "*/\n",
       "\n",
       "/* Pipeline and ColumnTransformer style (default) */\n",
       "\n",
       "#sk-container-id-3 div.sk-toggleable {\n",
       "  /* Default theme specific background. It is overwritten whether we have a\n",
       "  specific estimator or a Pipeline/ColumnTransformer */\n",
       "  background-color: var(--sklearn-color-background);\n",
       "}\n",
       "\n",
       "/* Toggleable label */\n",
       "#sk-container-id-3 label.sk-toggleable__label {\n",
       "  cursor: pointer;\n",
       "  display: block;\n",
       "  width: 100%;\n",
       "  margin-bottom: 0;\n",
       "  padding: 0.5em;\n",
       "  box-sizing: border-box;\n",
       "  text-align: center;\n",
       "}\n",
       "\n",
       "#sk-container-id-3 label.sk-toggleable__label-arrow:before {\n",
       "  /* Arrow on the left of the label */\n",
       "  content: \"▸\";\n",
       "  float: left;\n",
       "  margin-right: 0.25em;\n",
       "  color: var(--sklearn-color-icon);\n",
       "}\n",
       "\n",
       "#sk-container-id-3 label.sk-toggleable__label-arrow:hover:before {\n",
       "  color: var(--sklearn-color-text);\n",
       "}\n",
       "\n",
       "/* Toggleable content - dropdown */\n",
       "\n",
       "#sk-container-id-3 div.sk-toggleable__content {\n",
       "  max-height: 0;\n",
       "  max-width: 0;\n",
       "  overflow: hidden;\n",
       "  text-align: left;\n",
       "  /* unfitted */\n",
       "  background-color: var(--sklearn-color-unfitted-level-0);\n",
       "}\n",
       "\n",
       "#sk-container-id-3 div.sk-toggleable__content.fitted {\n",
       "  /* fitted */\n",
       "  background-color: var(--sklearn-color-fitted-level-0);\n",
       "}\n",
       "\n",
       "#sk-container-id-3 div.sk-toggleable__content pre {\n",
       "  margin: 0.2em;\n",
       "  border-radius: 0.25em;\n",
       "  color: var(--sklearn-color-text);\n",
       "  /* unfitted */\n",
       "  background-color: var(--sklearn-color-unfitted-level-0);\n",
       "}\n",
       "\n",
       "#sk-container-id-3 div.sk-toggleable__content.fitted pre {\n",
       "  /* unfitted */\n",
       "  background-color: var(--sklearn-color-fitted-level-0);\n",
       "}\n",
       "\n",
       "#sk-container-id-3 input.sk-toggleable__control:checked~div.sk-toggleable__content {\n",
       "  /* Expand drop-down */\n",
       "  max-height: 200px;\n",
       "  max-width: 100%;\n",
       "  overflow: auto;\n",
       "}\n",
       "\n",
       "#sk-container-id-3 input.sk-toggleable__control:checked~label.sk-toggleable__label-arrow:before {\n",
       "  content: \"▾\";\n",
       "}\n",
       "\n",
       "/* Pipeline/ColumnTransformer-specific style */\n",
       "\n",
       "#sk-container-id-3 div.sk-label input.sk-toggleable__control:checked~label.sk-toggleable__label {\n",
       "  color: var(--sklearn-color-text);\n",
       "  background-color: var(--sklearn-color-unfitted-level-2);\n",
       "}\n",
       "\n",
       "#sk-container-id-3 div.sk-label.fitted input.sk-toggleable__control:checked~label.sk-toggleable__label {\n",
       "  background-color: var(--sklearn-color-fitted-level-2);\n",
       "}\n",
       "\n",
       "/* Estimator-specific style */\n",
       "\n",
       "/* Colorize estimator box */\n",
       "#sk-container-id-3 div.sk-estimator input.sk-toggleable__control:checked~label.sk-toggleable__label {\n",
       "  /* unfitted */\n",
       "  background-color: var(--sklearn-color-unfitted-level-2);\n",
       "}\n",
       "\n",
       "#sk-container-id-3 div.sk-estimator.fitted input.sk-toggleable__control:checked~label.sk-toggleable__label {\n",
       "  /* fitted */\n",
       "  background-color: var(--sklearn-color-fitted-level-2);\n",
       "}\n",
       "\n",
       "#sk-container-id-3 div.sk-label label.sk-toggleable__label,\n",
       "#sk-container-id-3 div.sk-label label {\n",
       "  /* The background is the default theme color */\n",
       "  color: var(--sklearn-color-text-on-default-background);\n",
       "}\n",
       "\n",
       "/* On hover, darken the color of the background */\n",
       "#sk-container-id-3 div.sk-label:hover label.sk-toggleable__label {\n",
       "  color: var(--sklearn-color-text);\n",
       "  background-color: var(--sklearn-color-unfitted-level-2);\n",
       "}\n",
       "\n",
       "/* Label box, darken color on hover, fitted */\n",
       "#sk-container-id-3 div.sk-label.fitted:hover label.sk-toggleable__label.fitted {\n",
       "  color: var(--sklearn-color-text);\n",
       "  background-color: var(--sklearn-color-fitted-level-2);\n",
       "}\n",
       "\n",
       "/* Estimator label */\n",
       "\n",
       "#sk-container-id-3 div.sk-label label {\n",
       "  font-family: monospace;\n",
       "  font-weight: bold;\n",
       "  display: inline-block;\n",
       "  line-height: 1.2em;\n",
       "}\n",
       "\n",
       "#sk-container-id-3 div.sk-label-container {\n",
       "  text-align: center;\n",
       "}\n",
       "\n",
       "/* Estimator-specific */\n",
       "#sk-container-id-3 div.sk-estimator {\n",
       "  font-family: monospace;\n",
       "  border: 1px dotted var(--sklearn-color-border-box);\n",
       "  border-radius: 0.25em;\n",
       "  box-sizing: border-box;\n",
       "  margin-bottom: 0.5em;\n",
       "  /* unfitted */\n",
       "  background-color: var(--sklearn-color-unfitted-level-0);\n",
       "}\n",
       "\n",
       "#sk-container-id-3 div.sk-estimator.fitted {\n",
       "  /* fitted */\n",
       "  background-color: var(--sklearn-color-fitted-level-0);\n",
       "}\n",
       "\n",
       "/* on hover */\n",
       "#sk-container-id-3 div.sk-estimator:hover {\n",
       "  /* unfitted */\n",
       "  background-color: var(--sklearn-color-unfitted-level-2);\n",
       "}\n",
       "\n",
       "#sk-container-id-3 div.sk-estimator.fitted:hover {\n",
       "  /* fitted */\n",
       "  background-color: var(--sklearn-color-fitted-level-2);\n",
       "}\n",
       "\n",
       "/* Specification for estimator info (e.g. \"i\" and \"?\") */\n",
       "\n",
       "/* Common style for \"i\" and \"?\" */\n",
       "\n",
       ".sk-estimator-doc-link,\n",
       "a:link.sk-estimator-doc-link,\n",
       "a:visited.sk-estimator-doc-link {\n",
       "  float: right;\n",
       "  font-size: smaller;\n",
       "  line-height: 1em;\n",
       "  font-family: monospace;\n",
       "  background-color: var(--sklearn-color-background);\n",
       "  border-radius: 1em;\n",
       "  height: 1em;\n",
       "  width: 1em;\n",
       "  text-decoration: none !important;\n",
       "  margin-left: 1ex;\n",
       "  /* unfitted */\n",
       "  border: var(--sklearn-color-unfitted-level-1) 1pt solid;\n",
       "  color: var(--sklearn-color-unfitted-level-1);\n",
       "}\n",
       "\n",
       ".sk-estimator-doc-link.fitted,\n",
       "a:link.sk-estimator-doc-link.fitted,\n",
       "a:visited.sk-estimator-doc-link.fitted {\n",
       "  /* fitted */\n",
       "  border: var(--sklearn-color-fitted-level-1) 1pt solid;\n",
       "  color: var(--sklearn-color-fitted-level-1);\n",
       "}\n",
       "\n",
       "/* On hover */\n",
       "div.sk-estimator:hover .sk-estimator-doc-link:hover,\n",
       ".sk-estimator-doc-link:hover,\n",
       "div.sk-label-container:hover .sk-estimator-doc-link:hover,\n",
       ".sk-estimator-doc-link:hover {\n",
       "  /* unfitted */\n",
       "  background-color: var(--sklearn-color-unfitted-level-3);\n",
       "  color: var(--sklearn-color-background);\n",
       "  text-decoration: none;\n",
       "}\n",
       "\n",
       "div.sk-estimator.fitted:hover .sk-estimator-doc-link.fitted:hover,\n",
       ".sk-estimator-doc-link.fitted:hover,\n",
       "div.sk-label-container:hover .sk-estimator-doc-link.fitted:hover,\n",
       ".sk-estimator-doc-link.fitted:hover {\n",
       "  /* fitted */\n",
       "  background-color: var(--sklearn-color-fitted-level-3);\n",
       "  color: var(--sklearn-color-background);\n",
       "  text-decoration: none;\n",
       "}\n",
       "\n",
       "/* Span, style for the box shown on hovering the info icon */\n",
       ".sk-estimator-doc-link span {\n",
       "  display: none;\n",
       "  z-index: 9999;\n",
       "  position: relative;\n",
       "  font-weight: normal;\n",
       "  right: .2ex;\n",
       "  padding: .5ex;\n",
       "  margin: .5ex;\n",
       "  width: min-content;\n",
       "  min-width: 20ex;\n",
       "  max-width: 50ex;\n",
       "  color: var(--sklearn-color-text);\n",
       "  box-shadow: 2pt 2pt 4pt #999;\n",
       "  /* unfitted */\n",
       "  background: var(--sklearn-color-unfitted-level-0);\n",
       "  border: .5pt solid var(--sklearn-color-unfitted-level-3);\n",
       "}\n",
       "\n",
       ".sk-estimator-doc-link.fitted span {\n",
       "  /* fitted */\n",
       "  background: var(--sklearn-color-fitted-level-0);\n",
       "  border: var(--sklearn-color-fitted-level-3);\n",
       "}\n",
       "\n",
       ".sk-estimator-doc-link:hover span {\n",
       "  display: block;\n",
       "}\n",
       "\n",
       "/* \"?\"-specific style due to the `<a>` HTML tag */\n",
       "\n",
       "#sk-container-id-3 a.estimator_doc_link {\n",
       "  float: right;\n",
       "  font-size: 1rem;\n",
       "  line-height: 1em;\n",
       "  font-family: monospace;\n",
       "  background-color: var(--sklearn-color-background);\n",
       "  border-radius: 1rem;\n",
       "  height: 1rem;\n",
       "  width: 1rem;\n",
       "  text-decoration: none;\n",
       "  /* unfitted */\n",
       "  color: var(--sklearn-color-unfitted-level-1);\n",
       "  border: var(--sklearn-color-unfitted-level-1) 1pt solid;\n",
       "}\n",
       "\n",
       "#sk-container-id-3 a.estimator_doc_link.fitted {\n",
       "  /* fitted */\n",
       "  border: var(--sklearn-color-fitted-level-1) 1pt solid;\n",
       "  color: var(--sklearn-color-fitted-level-1);\n",
       "}\n",
       "\n",
       "/* On hover */\n",
       "#sk-container-id-3 a.estimator_doc_link:hover {\n",
       "  /* unfitted */\n",
       "  background-color: var(--sklearn-color-unfitted-level-3);\n",
       "  color: var(--sklearn-color-background);\n",
       "  text-decoration: none;\n",
       "}\n",
       "\n",
       "#sk-container-id-3 a.estimator_doc_link.fitted:hover {\n",
       "  /* fitted */\n",
       "  background-color: var(--sklearn-color-fitted-level-3);\n",
       "}\n",
       "</style><div id=\"sk-container-id-3\" class=\"sk-top-container\"><div class=\"sk-text-repr-fallback\"><pre>LogisticRegression()</pre><b>In a Jupyter environment, please rerun this cell to show the HTML representation or trust the notebook. <br />On GitHub, the HTML representation is unable to render, please try loading this page with nbviewer.org.</b></div><div class=\"sk-container\" hidden><div class=\"sk-item\"><div class=\"sk-estimator fitted sk-toggleable\"><input class=\"sk-toggleable__control sk-hidden--visually\" id=\"sk-estimator-id-3\" type=\"checkbox\" checked><label for=\"sk-estimator-id-3\" class=\"sk-toggleable__label fitted sk-toggleable__label-arrow fitted\">&nbsp;&nbsp;LogisticRegression<a class=\"sk-estimator-doc-link fitted\" rel=\"noreferrer\" target=\"_blank\" href=\"https://scikit-learn.org/1.4/modules/generated/sklearn.linear_model.LogisticRegression.html\">?<span>Documentation for LogisticRegression</span></a><span class=\"sk-estimator-doc-link fitted\">i<span>Fitted</span></span></label><div class=\"sk-toggleable__content fitted\"><pre>LogisticRegression()</pre></div> </div></div></div></div>"
      ],
      "text/plain": [
       "LogisticRegression()"
      ]
     },
     "execution_count": 272,
     "metadata": {},
     "output_type": "execute_result"
    }
   ],
   "source": [
    "lr = LogisticRegression()\n",
    "lr.fit(X_scaled, Y)"
   ]
  },
  {
   "cell_type": "code",
   "execution_count": 275,
   "id": "105fa1ea-3aa1-443c-b9e8-fa9c4e2863a5",
   "metadata": {},
   "outputs": [
    {
     "data": {
      "text/plain": [
       "0     0.0\n",
       "1     0.0\n",
       "2     0.0\n",
       "3     0.0\n",
       "4     0.0\n",
       "     ... \n",
       "85    1.0\n",
       "86    1.0\n",
       "87    1.0\n",
       "88    1.0\n",
       "89    1.0\n",
       "Name: prob, Length: 90, dtype: float64"
      ]
     },
     "execution_count": 275,
     "metadata": {},
     "output_type": "execute_result"
    }
   ],
   "source": [
    "# Predict probabilities and add to dataframe\n",
    "exe.loc[:,'prob'] = model.predict_proba(X_scaled)[:, 1]\n",
    "exe['prob']"
   ]
  },
  {
   "cell_type": "code",
   "execution_count": 276,
   "id": "7890b08a-8360-4e3d-8907-fdb73173e55b",
   "metadata": {},
   "outputs": [],
   "source": [
    "# Initialize empty dataframe to store metrics\n",
    "df_ROC = pd.DataFrame(columns=['Threshold', 'TP', 'TN', 'FP', 'FN', 'TPR', 'FPR'])"
   ]
  },
  {
   "cell_type": "code",
   "execution_count": 277,
   "id": "28614a9b-a31b-414f-a0a4-2450e33d12c5",
   "metadata": {},
   "outputs": [],
   "source": [
    "# Loop through different thresholds and calculate metrics\n",
    "for threshold in np.arange(0, 1.1, 0.1):\n",
    "    y_pred = (gsr['prob'] > threshold).astype(int)\n",
    "    cm = confusion_matrix(Y, y_pred)\n",
    "    TP = cm[1, 1]\n",
    "    TN = cm[0, 0]\n",
    "    FP = cm[0, 1]\n",
    "    FN = cm[1, 0]\n",
    "    TPR = TP / (TP + FN)\n",
    "    FPR = FP / (FP + TN)\n",
    "    df_ROC.loc[len(df_ROC)] = pd.Series({'Threshold': threshold, \n",
    "                                         'TP': TP, 'TN': TN, 'FP': FP, 'FN': FN, \n",
    "                                         'TPR': TPR, 'FPR': FPR, 'auc_score':roc_auc_score(Y,y_pred)})"
   ]
  },
  {
   "cell_type": "code",
   "execution_count": 278,
   "id": "0a5ff3eb-4a62-4df2-8465-e40a9cea0cc0",
   "metadata": {},
   "outputs": [],
   "source": [
    "# Compute AUC\n",
    "auc = roc_auc_score(Y, gsr['prob'])"
   ]
  },
  {
   "cell_type": "code",
   "execution_count": 279,
   "id": "8efea9cd-a9cd-42a4-a489-1c79a0f421cd",
   "metadata": {},
   "outputs": [
    {
     "name": "stdout",
     "output_type": "stream",
     "text": [
      "    Threshold    TP    TN   FP    FN  TPR   FPR\n",
      "0         0.0  30.0  57.0  3.0   0.0  1.0  0.05\n",
      "1         0.1  30.0  57.0  3.0   0.0  1.0  0.05\n",
      "2         0.2  30.0  57.0  3.0   0.0  1.0  0.05\n",
      "3         0.3  30.0  57.0  3.0   0.0  1.0  0.05\n",
      "4         0.4  30.0  57.0  3.0   0.0  1.0  0.05\n",
      "5         0.5  27.0  60.0  0.0   3.0  0.9  0.00\n",
      "6         0.6  27.0  60.0  0.0   3.0  0.9  0.00\n",
      "7         0.7  27.0  60.0  0.0   3.0  0.9  0.00\n",
      "8         0.8  27.0  60.0  0.0   3.0  0.9  0.00\n",
      "9         0.9  27.0  60.0  0.0   3.0  0.9  0.00\n",
      "10        1.0   0.0  60.0  0.0  30.0  0.0  0.00\n",
      "AUC: 0.9974999999999999\n"
     ]
    }
   ],
   "source": [
    "# Print ROC curve and AUC\n",
    "print(df_ROC)\n",
    "print('AUC:', auc)"
   ]
  },
  {
   "cell_type": "code",
   "execution_count": 280,
   "id": "e1d80ae4-6668-4cfb-a6b0-f6c3c7722a70",
   "metadata": {},
   "outputs": [
    {
     "data": {
      "image/png": "[encoded data removed]",
      "text/plain": [
       "<Figure size 1500x200 with 1 Axes>"
      ]
     },
     "metadata": {},
     "output_type": "display_data"
    }
   ],
   "source": [
    "# Plot ROC curve from df_ROC\n",
    "plt.plot(df_ROC['FPR'], df_ROC['TPR'], label=f'AUC={auc:.2f}')\n",
    "plt.xlabel('False Positive Rate')\n",
    "plt.ylabel('True Positive Rate')\n",
    "plt.title('ROC Curve')\n",
    "plt.legend()\n",
    "plt.show()"
   ]
  },
  {
   "cell_type": "raw",
   "id": "ff68f452-d0c0-4bee-9e3b-d0b64fdfcc51",
   "metadata": {},
   "source": [
    "We have predicted the label for test values, plotted ROC curve and obtained AUC = 0.997, which shows that this is an almost perfect model."
   ]
  }
 ],
 "metadata": {
  "kernelspec": {
   "display_name": "Python 3 (ipykernel)",
   "language": "python",
   "name": "python3"
  },
  "language_info": {
   "codemirror_mode": {
    "name": "ipython",
    "version": 3
   },
   "file_extension": ".py",
   "mimetype": "text/x-python",
   "name": "python",
   "nbconvert_exporter": "python",
   "pygments_lexer": "ipython3",
   "version": "3.12.4"
  }
 },
 "nbformat": 4,
 "nbformat_minor": 5
}
