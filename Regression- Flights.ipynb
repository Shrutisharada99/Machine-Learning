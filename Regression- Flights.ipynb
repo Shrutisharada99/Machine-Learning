{
 "cells": [
  {
   "cell_type": "markdown",
   "id": "a777af31-9380-4a30-992f-33fcf9e822d9",
   "metadata": {},
   "source": [
    "# Regression Analysis - 2 - KNN Regression, Decision Tree Regression, Linear Regression"
   ]
  },
  {
   "cell_type": "markdown",
   "id": "92c9db2c-1e20-4c73-b698-00eb49e8078e",
   "metadata": {},
   "source": [
    "## Import libraries and load dataset"
   ]
  },
  {
   "cell_type": "code",
   "execution_count": 1,
   "id": "ab5f2005-c6f2-431b-afe8-63a2ae47311d",
   "metadata": {},
   "outputs": [],
   "source": [
    "# Dataframe Imports\n",
    "import pandas as pd\n",
    "import numpy as np\n",
    "import matplotlib.pyplot as plt\n",
    "import seaborn as sns\n",
    "\n",
    "# EDA Imports\n",
    "from sklearn.model_selection import train_test_split\n",
    "from sklearn.metrics import mean_absolute_percentage_error\n",
    "from sklearn.preprocessing import StandardScaler, OneHotEncoder\n",
    "from sklearn.compose import ColumnTransformer\n",
    "from scipy import stats\n",
    "from sklearn.preprocessing import LabelEncoder\n",
    "from sklearn.preprocessing import MinMaxScaler\n",
    "\n",
    "#KNN regression Import\n",
    "from sklearn.neighbors import KNeighborsRegressor\n",
    "\n",
    "# Decision Tree Regression Import\n",
    "from sklearn.tree import DecisionTreeRegressor\n",
    "from sklearn import tree\n",
    "\n",
    "#Linear Regression\n",
    "from sklearn.linear_model import LinearRegression\n",
    "import statsmodels.api as sm\n",
    "\n",
    "# MSE, RMSE Calc. Import\n",
    "from sklearn.metrics import mean_squared_error \n",
    "from math import sqrt"
   ]
  },
  {
   "cell_type": "code",
   "execution_count": 2,
   "id": "c2d7517d-5e3d-471b-9f22-a9b8c228786e",
   "metadata": {},
   "outputs": [],
   "source": [
    "# Load presaved dataset from seaborn\n",
    "\n",
    "flt = sns.load_dataset(\"flights\")"
   ]
  },
  {
   "cell_type": "markdown",
   "id": "ae597dbc-ad1f-4b3a-ac5b-7ed43d5deb8d",
   "metadata": {},
   "source": [
    "## Data Summary"
   ]
  },
  {
   "cell_type": "code",
   "execution_count": 3,
   "id": "0a4ead7e-8902-4435-abff-54f210c9e832",
   "metadata": {},
   "outputs": [
    {
     "data": {
      "text/html": [
       "<div>\n",
       "<style scoped>\n",
       "    .dataframe tbody tr th:only-of-type {\n",
       "        vertical-align: middle;\n",
       "    }\n",
       "\n",
       "    .dataframe tbody tr th {\n",
       "        vertical-align: top;\n",
       "    }\n",
       "\n",
       "    .dataframe thead th {\n",
       "        text-align: right;\n",
       "    }\n",
       "</style>\n",
       "<table border=\"1\" class=\"dataframe\">\n",
       "  <thead>\n",
       "    <tr style=\"text-align: right;\">\n",
       "      <th></th>\n",
       "      <th>year</th>\n",
       "      <th>month</th>\n",
       "      <th>passengers</th>\n",
       "    </tr>\n",
       "  </thead>\n",
       "  <tbody>\n",
       "    <tr>\n",
       "      <th>0</th>\n",
       "      <td>1949</td>\n",
       "      <td>Jan</td>\n",
       "      <td>112</td>\n",
       "    </tr>\n",
       "    <tr>\n",
       "      <th>1</th>\n",
       "      <td>1949</td>\n",
       "      <td>Feb</td>\n",
       "      <td>118</td>\n",
       "    </tr>\n",
       "    <tr>\n",
       "      <th>2</th>\n",
       "      <td>1949</td>\n",
       "      <td>Mar</td>\n",
       "      <td>132</td>\n",
       "    </tr>\n",
       "    <tr>\n",
       "      <th>3</th>\n",
       "      <td>1949</td>\n",
       "      <td>Apr</td>\n",
       "      <td>129</td>\n",
       "    </tr>\n",
       "    <tr>\n",
       "      <th>4</th>\n",
       "      <td>1949</td>\n",
       "      <td>May</td>\n",
       "      <td>121</td>\n",
       "    </tr>\n",
       "  </tbody>\n",
       "</table>\n",
       "</div>"
      ],
      "text/plain": [
       "   year month  passengers\n",
       "0  1949   Jan         112\n",
       "1  1949   Feb         118\n",
       "2  1949   Mar         132\n",
       "3  1949   Apr         129\n",
       "4  1949   May         121"
      ]
     },
     "execution_count": 3,
     "metadata": {},
     "output_type": "execute_result"
    }
   ],
   "source": [
    "flt.head()"
   ]
  },
  {
   "cell_type": "code",
   "execution_count": 4,
   "id": "e1e1e6e3-5f3e-4416-9503-76e3caaab26e",
   "metadata": {},
   "outputs": [
    {
     "data": {
      "text/html": [
       "<div>\n",
       "<style scoped>\n",
       "    .dataframe tbody tr th:only-of-type {\n",
       "        vertical-align: middle;\n",
       "    }\n",
       "\n",
       "    .dataframe tbody tr th {\n",
       "        vertical-align: top;\n",
       "    }\n",
       "\n",
       "    .dataframe thead th {\n",
       "        text-align: right;\n",
       "    }\n",
       "</style>\n",
       "<table border=\"1\" class=\"dataframe\">\n",
       "  <thead>\n",
       "    <tr style=\"text-align: right;\">\n",
       "      <th></th>\n",
       "      <th>year</th>\n",
       "      <th>month</th>\n",
       "      <th>passengers</th>\n",
       "    </tr>\n",
       "  </thead>\n",
       "  <tbody>\n",
       "    <tr>\n",
       "      <th>139</th>\n",
       "      <td>1960</td>\n",
       "      <td>Aug</td>\n",
       "      <td>606</td>\n",
       "    </tr>\n",
       "    <tr>\n",
       "      <th>140</th>\n",
       "      <td>1960</td>\n",
       "      <td>Sep</td>\n",
       "      <td>508</td>\n",
       "    </tr>\n",
       "    <tr>\n",
       "      <th>141</th>\n",
       "      <td>1960</td>\n",
       "      <td>Oct</td>\n",
       "      <td>461</td>\n",
       "    </tr>\n",
       "    <tr>\n",
       "      <th>142</th>\n",
       "      <td>1960</td>\n",
       "      <td>Nov</td>\n",
       "      <td>390</td>\n",
       "    </tr>\n",
       "    <tr>\n",
       "      <th>143</th>\n",
       "      <td>1960</td>\n",
       "      <td>Dec</td>\n",
       "      <td>432</td>\n",
       "    </tr>\n",
       "  </tbody>\n",
       "</table>\n",
       "</div>"
      ],
      "text/plain": [
       "     year month  passengers\n",
       "139  1960   Aug         606\n",
       "140  1960   Sep         508\n",
       "141  1960   Oct         461\n",
       "142  1960   Nov         390\n",
       "143  1960   Dec         432"
      ]
     },
     "execution_count": 4,
     "metadata": {},
     "output_type": "execute_result"
    }
   ],
   "source": [
    "flt.tail()"
   ]
  },
  {
   "cell_type": "code",
   "execution_count": 5,
   "id": "e70db174-0954-40c8-bc56-8f7ff6ff02a9",
   "metadata": {},
   "outputs": [
    {
     "data": {
      "text/plain": [
       "(144, 3)"
      ]
     },
     "execution_count": 5,
     "metadata": {},
     "output_type": "execute_result"
    }
   ],
   "source": [
    "flt.shape"
   ]
  },
  {
   "cell_type": "code",
   "execution_count": 6,
   "id": "16d7eecc-1cf1-4906-9b2d-4f9699506e6c",
   "metadata": {},
   "outputs": [
    {
     "name": "stdout",
     "output_type": "stream",
     "text": [
      "<class 'pandas.core.frame.DataFrame'>\n",
      "RangeIndex: 144 entries, 0 to 143\n",
      "Data columns (total 3 columns):\n",
      " #   Column      Non-Null Count  Dtype   \n",
      "---  ------      --------------  -----   \n",
      " 0   year        144 non-null    int64   \n",
      " 1   month       144 non-null    category\n",
      " 2   passengers  144 non-null    int64   \n",
      "dtypes: category(1), int64(2)\n",
      "memory usage: 2.9 KB\n"
     ]
    }
   ],
   "source": [
    "flt.info()"
   ]
  },
  {
   "cell_type": "markdown",
   "id": "453039df-56ef-4e79-836d-be8900715404",
   "metadata": {},
   "source": [
    "## Data Visualizations"
   ]
  },
  {
   "cell_type": "markdown",
   "id": "57091e18-20e3-4a33-a23b-26eee62fa223",
   "metadata": {},
   "source": [
    "Let's `visualise` the data to understand it better."
   ]
  },
  {
   "cell_type": "markdown",
   "id": "3c75dcd3-34fd-418e-aa78-70011585ce9f",
   "metadata": {},
   "source": [
    "### Year-wise Passengers Plot"
   ]
  },
  {
   "cell_type": "code",
   "execution_count": 7,
   "id": "a2ea799d-403e-4059-8a76-2fff0b0acccc",
   "metadata": {},
   "outputs": [
    {
     "data": {
      "image/png": "[encoded data removed]",
      "text/plain": [
       "<Figure size 1500x400 with 1 Axes>"
      ]
     },
     "metadata": {},
     "output_type": "display_data"
    }
   ],
   "source": [
    "plt.figure(figsize=(15, 4))\n",
    "sns.lineplot(x='year', y='passengers', data=flt, marker='.')\n",
    "\n",
    "plt.title('Year vs. Passengers')\n",
    "plt.xlabel('year')\n",
    "plt.ylabel('passengers')\n",
    "plt.xticks(rotation=90)\n",
    "plt.grid(True)\n",
    "plt.show()"
   ]
  },
  {
   "cell_type": "markdown",
   "id": "b312e271-33bd-47cc-9848-f6cb56594cb8",
   "metadata": {},
   "source": [
    "### Month-wise Passengers Plot over all years"
   ]
  },
  {
   "cell_type": "code",
   "execution_count": 8,
   "id": "7a227859-7605-4204-ba9b-f045926291f8",
   "metadata": {},
   "outputs": [
    {
     "data": {
      "image/png": "[encoded data removed]",
      "text/plain": [
       "<Figure size 900x300 with 1 Axes>"
      ]
     },
     "metadata": {},
     "output_type": "display_data"
    }
   ],
   "source": [
    "# Month-wise plot\n",
    "plt.figure(figsize=(9, 3))\n",
    "sns.barplot(x='month', y='passengers', data=flt)\n",
    "\n",
    "plt.title('Month-wise passenger trends on flights')\n",
    "plt.xlabel('month')\n",
    "plt.ylabel('passengers')\n",
    "plt.show()"
   ]
  },
  {
   "cell_type": "code",
   "execution_count": 9,
   "id": "51373867-67f1-43db-b62c-be8db0a00324",
   "metadata": {},
   "outputs": [
    {
     "data": {
      "text/plain": [
       "Index(['year', 'month', 'passengers'], dtype='object')"
      ]
     },
     "execution_count": 9,
     "metadata": {},
     "output_type": "execute_result"
    }
   ],
   "source": [
    "flt.columns"
   ]
  },
  {
   "cell_type": "markdown",
   "id": "ce05b2c5-ec77-4ddf-821a-071a6962b0b9",
   "metadata": {},
   "source": [
    "## Basic EDA"
   ]
  },
  {
   "cell_type": "markdown",
   "id": "8a37ce01-a98f-4dc3-a2f7-d3c6ac707b6f",
   "metadata": {},
   "source": [
    "Let's analyse the variable, `Year` as a numerical column, as it is. This is because we want to see the change in `passenger count` with year."
   ]
  },
  {
   "cell_type": "markdown",
   "id": "9c273cf9-384f-4fe4-99aa-fa370e49288b",
   "metadata": {},
   "source": [
    "## Label Encoding"
   ]
  },
  {
   "cell_type": "markdown",
   "id": "1c2a311d-bbed-4d93-9125-940a3ab8f012",
   "metadata": {},
   "source": [
    "Let's label encode the column, `month`, to study the trend of passengers across the different months of the year."
   ]
  },
  {
   "cell_type": "code",
   "execution_count": 10,
   "id": "39360867-b6fd-40dc-9ece-89495f5b049d",
   "metadata": {},
   "outputs": [],
   "source": [
    "flt['month'] = flt.month.astype(str)"
   ]
  },
  {
   "cell_type": "code",
   "execution_count": 11,
   "id": "43f3bf47-ae87-414d-b92c-68e78e91711f",
   "metadata": {},
   "outputs": [
    {
     "data": {
      "text/html": [
       "<div>\n",
       "<style scoped>\n",
       "    .dataframe tbody tr th:only-of-type {\n",
       "        vertical-align: middle;\n",
       "    }\n",
       "\n",
       "    .dataframe tbody tr th {\n",
       "        vertical-align: top;\n",
       "    }\n",
       "\n",
       "    .dataframe thead th {\n",
       "        text-align: right;\n",
       "    }\n",
       "</style>\n",
       "<table border=\"1\" class=\"dataframe\">\n",
       "  <thead>\n",
       "    <tr style=\"text-align: right;\">\n",
       "      <th></th>\n",
       "      <th>year</th>\n",
       "      <th>month</th>\n",
       "      <th>passengers</th>\n",
       "    </tr>\n",
       "  </thead>\n",
       "  <tbody>\n",
       "    <tr>\n",
       "      <th>116</th>\n",
       "      <td>1958</td>\n",
       "      <td>11</td>\n",
       "      <td>404</td>\n",
       "    </tr>\n",
       "    <tr>\n",
       "      <th>20</th>\n",
       "      <td>1950</td>\n",
       "      <td>11</td>\n",
       "      <td>158</td>\n",
       "    </tr>\n",
       "    <tr>\n",
       "      <th>45</th>\n",
       "      <td>1952</td>\n",
       "      <td>10</td>\n",
       "      <td>191</td>\n",
       "    </tr>\n",
       "    <tr>\n",
       "      <th>26</th>\n",
       "      <td>1951</td>\n",
       "      <td>7</td>\n",
       "      <td>178</td>\n",
       "    </tr>\n",
       "    <tr>\n",
       "      <th>111</th>\n",
       "      <td>1958</td>\n",
       "      <td>0</td>\n",
       "      <td>348</td>\n",
       "    </tr>\n",
       "  </tbody>\n",
       "</table>\n",
       "</div>"
      ],
      "text/plain": [
       "     year  month  passengers\n",
       "116  1958     11         404\n",
       "20   1950     11         158\n",
       "45   1952     10         191\n",
       "26   1951      7         178\n",
       "111  1958      0         348"
      ]
     },
     "execution_count": 11,
     "metadata": {},
     "output_type": "execute_result"
    }
   ],
   "source": [
    "labelencoder = LabelEncoder()\n",
    "\n",
    "# fit the encoder on 'Outlet_Size' \n",
    "flt['month'] = labelencoder.fit_transform(flt.month)\n",
    "\n",
    "# display 10 sample observations\n",
    "flt.sample(5)"
   ]
  },
  {
   "cell_type": "markdown",
   "id": "4f058bb0-bb29-4ad2-9d42-b4b4052f7c1c",
   "metadata": {},
   "source": [
    "### Missing value treatment"
   ]
  },
  {
   "cell_type": "code",
   "execution_count": 12,
   "id": "8a3dde9a-0282-45bc-840d-9375b695aae6",
   "metadata": {},
   "outputs": [
    {
     "data": {
      "text/plain": [
       "False"
      ]
     },
     "execution_count": 12,
     "metadata": {},
     "output_type": "execute_result"
    }
   ],
   "source": [
    "flt.isnull().values.any()"
   ]
  },
  {
   "cell_type": "code",
   "execution_count": 13,
   "id": "c418a289-cb64-407f-bfe7-5c960a2e637b",
   "metadata": {},
   "outputs": [
    {
     "data": {
      "text/plain": [
       "year          0\n",
       "month         0\n",
       "passengers    0\n",
       "dtype: int64"
      ]
     },
     "execution_count": 13,
     "metadata": {},
     "output_type": "execute_result"
    }
   ],
   "source": [
    "missing_values = flt.isnull().sum()\n",
    "missing_values"
   ]
  },
  {
   "cell_type": "markdown",
   "id": "81ea04b3-5cc3-4dd7-86bb-92e3c1b2287a",
   "metadata": {},
   "source": [
    "***We have ensured that there are no missing values in the dataset.***"
   ]
  },
  {
   "cell_type": "markdown",
   "id": "93d863ab-e8bb-49f8-87cc-fe314fe5b00a",
   "metadata": {},
   "source": [
    "### Outlier Treatment"
   ]
  },
  {
   "cell_type": "markdown",
   "id": "408dd218-4d82-4af0-868a-583e22c72809",
   "metadata": {},
   "source": [
    "Let's check the outliers on the `passengers` column, as in the others, outliers aren't relevant to domain."
   ]
  },
  {
   "cell_type": "code",
   "execution_count": 14,
   "id": "15d0f11f-0565-442c-8884-4e3fd2e75557",
   "metadata": {},
   "outputs": [
    {
     "data": {
      "image/png": "[encoded data removed]",
      "text/plain": [
       "<Figure size 300x150 with 1 Axes>"
      ]
     },
     "metadata": {},
     "output_type": "display_data"
    }
   ],
   "source": [
    "# let's first plot the outliers.\n",
    "plt.figure(figsize=(3, 1.5))\n",
    "z = sns.boxplot(x=flt['passengers'], whis=1.5)  # plot the boxplot\n",
    "z.set_xlabel(\"passengers\", fontsize=20)  # set the x-axis label\n",
    "plt.show()"
   ]
  },
  {
   "cell_type": "markdown",
   "id": "3192927c-48a8-4eca-aeb4-d3fcd2d165d2",
   "metadata": {},
   "source": [
    "**We can observe that there are no outliers in the data.**"
   ]
  },
  {
   "cell_type": "markdown",
   "id": "c693db7f-17d0-488b-8f49-9ff6db77ba50",
   "metadata": {},
   "source": [
    "## Scaling & Train and Test Split"
   ]
  },
  {
   "cell_type": "code",
   "execution_count": 15,
   "id": "99ac9c6a-a6f3-4bb2-b338-9c5995895290",
   "metadata": {},
   "outputs": [],
   "source": [
    "# select the target variable\n",
    "Y = flt['passengers']\n",
    "\n",
    "# select all the independent variables\n",
    "# by dropping the target variable\n",
    "X = flt.drop(['passengers'], axis = 1)"
   ]
  },
  {
   "cell_type": "markdown",
   "id": "82dc8a6b-80ef-4b9d-bdb5-090bb69b4e84",
   "metadata": {},
   "source": [
    "### Min-Max Scaling"
   ]
  },
  {
   "cell_type": "code",
   "execution_count": 16,
   "id": "48446d7f-64da-44d5-ac15-c6d56750e83c",
   "metadata": {},
   "outputs": [
    {
     "data": {
      "text/html": [
       "<div>\n",
       "<style scoped>\n",
       "    .dataframe tbody tr th:only-of-type {\n",
       "        vertical-align: middle;\n",
       "    }\n",
       "\n",
       "    .dataframe tbody tr th {\n",
       "        vertical-align: top;\n",
       "    }\n",
       "\n",
       "    .dataframe thead th {\n",
       "        text-align: right;\n",
       "    }\n",
       "</style>\n",
       "<table border=\"1\" class=\"dataframe\">\n",
       "  <thead>\n",
       "    <tr style=\"text-align: right;\">\n",
       "      <th></th>\n",
       "      <th>0</th>\n",
       "      <th>1</th>\n",
       "    </tr>\n",
       "  </thead>\n",
       "  <tbody>\n",
       "    <tr>\n",
       "      <th>48</th>\n",
       "      <td>0.363636</td>\n",
       "      <td>0.363636</td>\n",
       "    </tr>\n",
       "    <tr>\n",
       "      <th>19</th>\n",
       "      <td>0.090909</td>\n",
       "      <td>0.090909</td>\n",
       "    </tr>\n",
       "    <tr>\n",
       "      <th>133</th>\n",
       "      <td>1.000000</td>\n",
       "      <td>0.272727</td>\n",
       "    </tr>\n",
       "    <tr>\n",
       "      <th>97</th>\n",
       "      <td>0.727273</td>\n",
       "      <td>0.272727</td>\n",
       "    </tr>\n",
       "    <tr>\n",
       "      <th>5</th>\n",
       "      <td>0.000000</td>\n",
       "      <td>0.545455</td>\n",
       "    </tr>\n",
       "  </tbody>\n",
       "</table>\n",
       "</div>"
      ],
      "text/plain": [
       "            0         1\n",
       "48   0.363636  0.363636\n",
       "19   0.090909  0.090909\n",
       "133  1.000000  0.272727\n",
       "97   0.727273  0.272727\n",
       "5    0.000000  0.545455"
      ]
     },
     "execution_count": 16,
     "metadata": {},
     "output_type": "execute_result"
    }
   ],
   "source": [
    "scaler = MinMaxScaler()\n",
    "\n",
    "X_scaled = scaler.fit_transform(X)\n",
    "X_scaled = pd.DataFrame(X_scaled)\n",
    "X_scaled.sample(5)"
   ]
  },
  {
   "cell_type": "code",
   "execution_count": 17,
   "id": "2a0b215a-8e7f-44e9-a30e-54fc1773d101",
   "metadata": {},
   "outputs": [
    {
     "name": "stdout",
     "output_type": "stream",
     "text": [
      "X_train  (100, 2)\n",
      "X_test  (44, 2)\n",
      "Y_train  (100,)\n",
      "Y_test  (44,)\n"
     ]
    }
   ],
   "source": [
    "# let us now split the dataset into train & test\n",
    "# test_size: the proportion of data to be included in the testing set\n",
    "X_train, X_test, y_train, y_test = train_test_split(X_scaled, Y, test_size = 0.30, random_state=197)\n",
    "\n",
    "# print the shape of 'x_train'\n",
    "print(\"X_train \",X_train.shape)\n",
    "\n",
    "# print the shape of 'x_test'\n",
    "print(\"X_test \",X_test.shape)\n",
    "\n",
    "# print the shape of 'y_train'\n",
    "print(\"Y_train \",y_train.shape)\n",
    "\n",
    "# print the shape of 'y_test'\n",
    "print(\"Y_test \",y_test.shape)"
   ]
  },
  {
   "cell_type": "markdown",
   "id": "2a4bf591-ace2-45b0-8ec4-39566745df3f",
   "metadata": {},
   "source": [
    "## KNN Regression"
   ]
  },
  {
   "cell_type": "code",
   "execution_count": 18,
   "id": "e2dde57e-2ba3-465f-a522-da881118ae30",
   "metadata": {},
   "outputs": [],
   "source": [
    "# Train the model with different K values and plot MAPE scores\n",
    "k_values = np.arange(1,20,2)\n",
    "train_mape_scores = []\n",
    "test_mape_scores = []"
   ]
  },
  {
   "cell_type": "code",
   "execution_count": 19,
   "id": "d073dfcd-c07a-4f41-87ed-3f7aa29f35b3",
   "metadata": {},
   "outputs": [],
   "source": [
    "for k in k_values:\n",
    "    knn = KNeighborsRegressor(n_neighbors=k)\n",
    "    knn.fit(X_train, y_train)\n",
    "    \n",
    "    train_pred = knn.predict(X_train)\n",
    "    test_pred = knn.predict(X_test)\n",
    "    \n",
    "    train_mape = mean_absolute_percentage_error(y_train, train_pred)\n",
    "    test_mape = mean_absolute_percentage_error(y_test, test_pred)\n",
    "    \n",
    "    train_mape_scores.append(train_mape)\n",
    "    test_mape_scores.append(test_mape)"
   ]
  },
  {
   "cell_type": "code",
   "execution_count": 20,
   "id": "e3a5b380-2087-40a6-8fa1-25c1de8512a7",
   "metadata": {},
   "outputs": [
    {
     "data": {
      "text/plain": [
       "[0.16664888350508072,\n",
       " 0.08831010419006419,\n",
       " 0.11251333298290161,\n",
       " 0.11881339133956562,\n",
       " 0.12376391076700881,\n",
       " 0.13490362391589478,\n",
       " 0.1446155592569146,\n",
       " 0.1461314952118777,\n",
       " 0.15386975137120426,\n",
       " 0.1620952553146022]"
      ]
     },
     "execution_count": 20,
     "metadata": {},
     "output_type": "execute_result"
    }
   ],
   "source": [
    "test_mape_scores"
   ]
  },
  {
   "cell_type": "code",
   "execution_count": 21,
   "id": "0e8423aa-8bba-4fd9-b482-2e74fc711841",
   "metadata": {},
   "outputs": [
    {
     "data": {
      "image/png": "[encoded data removed]",
      "text/plain": [
       "<Figure size 1000x600 with 1 Axes>"
      ]
     },
     "metadata": {},
     "output_type": "display_data"
    }
   ],
   "source": [
    "plt.figure(figsize=(10, 6))\n",
    "plt.plot(k_values, train_mape_scores, marker='o', label='Train MAPE')\n",
    "plt.plot(k_values, test_mape_scores, marker='o', label='Test MAPE')\n",
    "plt.xlabel('K value')\n",
    "plt.ylabel('MAPE Score')\n",
    "plt.title('MAPE Scores for different K values in KNN Regressor')\n",
    "plt.legend()\n",
    "plt.show()"
   ]
  },
  {
   "cell_type": "markdown",
   "id": "959fcdf9-5b4f-4e38-b9c9-e15e399d49c5",
   "metadata": {},
   "source": [
    "Let us take k = 3, as the test and train MAPE Scores are closest at this point."
   ]
  },
  {
   "cell_type": "code",
   "execution_count": 22,
   "id": "53d58283-56a3-468e-a20f-9c0c9509f6d3",
   "metadata": {},
   "outputs": [
    {
     "name": "stdout",
     "output_type": "stream",
     "text": [
      "RMSE value for k= 3 is: 32.59353285298149\n"
     ]
    }
   ],
   "source": [
    "model = KNeighborsRegressor(n_neighbors = 3)\n",
    "model.fit(X_train, y_train)  #fit the model\n",
    "pred=model.predict(X_test) #make prediction on test set\n",
    "error = np.sqrt(mean_squared_error(y_test,pred)) #calculate rmse\n",
    "print('RMSE value for k= 3 is:', error)"
   ]
  },
  {
   "cell_type": "code",
   "execution_count": 23,
   "id": "7a250307-6845-4e47-837c-3e4a9b689d4d",
   "metadata": {},
   "outputs": [
    {
     "data": {
      "text/plain": [
       "array([388.        , 145.33333333, 253.        , 441.66666667,\n",
       "       451.        , 230.33333333, 368.66666667, 274.33333333,\n",
       "       135.33333333, 190.33333333, 196.        , 374.33333333,\n",
       "       386.33333333, 376.        , 452.33333333, 398.33333333,\n",
       "       273.33333333, 146.66666667, 143.        , 136.        ,\n",
       "       437.        , 226.33333333, 123.66666667, 132.66666667,\n",
       "       175.33333333, 136.        , 141.        , 193.        ,\n",
       "       169.        , 427.66666667, 154.33333333, 324.33333333,\n",
       "       469.        , 373.33333333, 190.33333333, 248.        ,\n",
       "       320.        , 349.33333333, 355.66666667, 258.33333333,\n",
       "       165.        , 186.        , 435.66666667, 281.        ])"
      ]
     },
     "execution_count": 23,
     "metadata": {},
     "output_type": "execute_result"
    }
   ],
   "source": [
    "knn_pred = model.predict(X_test)\n",
    "knn_pred"
   ]
  },
  {
   "cell_type": "markdown",
   "id": "708fb178-5d5c-407f-b576-1d0208052354",
   "metadata": {},
   "source": [
    "Now, let's predict the passengers for `year, 2028, month, 8`."
   ]
  },
  {
   "cell_type": "code",
   "execution_count": 24,
   "id": "cbf8b1c3-6142-4e93-82f1-ba77bb8b7244",
   "metadata": {},
   "outputs": [
    {
     "data": {
      "text/plain": [
       "array([453.])"
      ]
     },
     "execution_count": 24,
     "metadata": {},
     "output_type": "execute_result"
    }
   ],
   "source": [
    "pred=model.predict([[2028, 8]]) \n",
    "pred"
   ]
  },
  {
   "cell_type": "markdown",
   "id": "2a41fdca-36dc-48c2-90f3-4cac69b686cb",
   "metadata": {},
   "source": [
    "## Decision Tree Regression"
   ]
  },
  {
   "cell_type": "code",
   "execution_count": 29,
   "id": "287ac301-a5b9-46c6-9fb0-017bbfff404e",
   "metadata": {},
   "outputs": [
    {
     "name": "stdout",
     "output_type": "stream",
     "text": [
      "[Text(0.50390625, 0.95, 'Year <= 0.5\\nsquared_error = 12755.452\\nsamples = 44\\nvalue = 265.841'), Text(0.251953125, 0.85, 'Year <= 0.136\\nsquared_error = 1938.63\\nsamples = 21\\nvalue = 165.476'), Text(0.09375, 0.75, 'Month <= 0.136\\nsquared_error = 263.61\\nsamples = 10\\nvalue = 126.7'), Text(0.078125, 0.65, 'squared_error = 0.0\\nsamples = 1\\nvalue = 170.0'), Text(0.109375, 0.65, 'Month <= 0.455\\nsquared_error = 61.432\\nsamples = 9\\nvalue = 121.889'), Text(0.0625, 0.55, 'Month <= 0.318\\nsquared_error = 27.188\\nsamples = 4\\nvalue = 117.75'), Text(0.03125, 0.45, 'Month <= 0.227\\nsquared_error = 16.0\\nsamples = 2\\nvalue = 122.0'), Text(0.015625, 0.35, 'squared_error = 0.0\\nsamples = 1\\nvalue = 118.0'), Text(0.046875, 0.35, 'squared_error = 0.0\\nsamples = 1\\nvalue = 126.0'), Text(0.09375, 0.45, 'Year <= 0.045\\nsquared_error = 2.25\\nsamples = 2\\nvalue = 113.5'), Text(0.078125, 0.35, 'squared_error = 0.0\\nsamples = 1\\nvalue = 112.0'), Text(0.109375, 0.35, 'squared_error = 0.0\\nsamples = 1\\nvalue = 115.0'), Text(0.15625, 0.55, 'Month <= 0.636\\nsquared_error = 64.16\\nsamples = 5\\nvalue = 125.2'), Text(0.140625, 0.45, 'squared_error = 0.0\\nsamples = 1\\nvalue = 135.0'), Text(0.171875, 0.45, 'Month <= 0.864\\nsquared_error = 50.188\\nsamples = 4\\nvalue = 122.75'), Text(0.140625, 0.35, 'Month <= 0.773\\nsquared_error = 30.25\\nsamples = 2\\nvalue = 119.5'), Text(0.125, 0.25, 'squared_error = 0.0\\nsamples = 1\\nvalue = 125.0'), Text(0.15625, 0.25, 'squared_error = 0.0\\nsamples = 1\\nvalue = 114.0'), Text(0.203125, 0.35, 'Year <= 0.045\\nsquared_error = 49.0\\nsamples = 2\\nvalue = 126.0'), Text(0.1875, 0.25, 'squared_error = 0.0\\nsamples = 1\\nvalue = 119.0'), Text(0.21875, 0.25, 'squared_error = 0.0\\nsamples = 1\\nvalue = 133.0'), Text(0.41015625, 0.75, 'Year <= 0.318\\nsquared_error = 851.835\\nsamples = 11\\nvalue = 200.727'), Text(0.3359375, 0.65, 'Month <= 0.682\\nsquared_error = 152.122\\nsamples = 7\\nvalue = 183.143'), Text(0.28125, 0.55, 'Month <= 0.364\\nsquared_error = 61.5\\nsamples = 4\\nvalue = 191.0'), Text(0.25, 0.45, 'Year <= 0.227\\nsquared_error = 6.25\\nsamples = 2\\nvalue = 196.5'), Text(0.234375, 0.35, 'squared_error = 0.0\\nsamples = 1\\nvalue = 199.0'), Text(0.265625, 0.35, 'squared_error = 0.0\\nsamples = 1\\nvalue = 194.0'), Text(0.3125, 0.45, 'Year <= 0.227\\nsquared_error = 56.25\\nsamples = 2\\nvalue = 185.5'), Text(0.296875, 0.35, 'squared_error = 0.0\\nsamples = 1\\nvalue = 178.0'), Text(0.328125, 0.35, 'squared_error = 0.0\\nsamples = 1\\nvalue = 193.0'), Text(0.390625, 0.55, 'Month <= 0.955\\nsquared_error = 80.889\\nsamples = 3\\nvalue = 172.667'), Text(0.375, 0.45, 'Month <= 0.818\\nsquared_error = 25.0\\nsamples = 2\\nvalue = 167.0'), Text(0.359375, 0.35, 'squared_error = 0.0\\nsamples = 1\\nvalue = 172.0'), Text(0.390625, 0.35, 'squared_error = 0.0\\nsamples = 1\\nvalue = 162.0'), Text(0.40625, 0.45, 'squared_error = 0.0\\nsamples = 1\\nvalue = 184.0'), Text(0.484375, 0.65, 'Month <= 0.409\\nsquared_error = 588.25\\nsamples = 4\\nvalue = 231.5'), Text(0.453125, 0.55, 'Month <= 0.273\\nsquared_error = 272.25\\nsamples = 2\\nvalue = 212.5'), Text(0.4375, 0.45, 'squared_error = 0.0\\nsamples = 1\\nvalue = 229.0'), Text(0.46875, 0.45, 'squared_error = 0.0\\nsamples = 1\\nvalue = 196.0'), Text(0.515625, 0.55, 'Month <= 0.727\\nsquared_error = 182.25\\nsamples = 2\\nvalue = 250.5'), Text(0.5, 0.45, 'squared_error = 0.0\\nsamples = 1\\nvalue = 264.0'), Text(0.53125, 0.45, 'squared_error = 0.0\\nsamples = 1\\nvalue = 237.0'), Text(0.755859375, 0.85, 'Year <= 0.682\\nsquared_error = 5037.119\\nsamples = 23\\nvalue = 357.478'), Text(0.625, 0.75, 'Year <= 0.591\\nsquared_error = 2437.484\\nsamples = 8\\nvalue = 300.375'), Text(0.59375, 0.65, 'Month <= 0.955\\nsquared_error = 713.25\\nsamples = 4\\nvalue = 272.5'), Text(0.578125, 0.55, 'Month <= 0.864\\nsquared_error = 257.556\\nsamples = 3\\nvalue = 259.333'), Text(0.5625, 0.45, 'Month <= 0.727\\nsquared_error = 225.0\\nsamples = 2\\nvalue = 252.0'), Text(0.546875, 0.35, 'squared_error = 0.0\\nsamples = 1\\nvalue = 267.0'), Text(0.578125, 0.35, 'squared_error = 0.0\\nsamples = 1\\nvalue = 237.0'), Text(0.59375, 0.45, 'squared_error = 0.0\\nsamples = 1\\nvalue = 274.0'), Text(0.609375, 0.55, 'squared_error = 0.0\\nsamples = 1\\nvalue = 312.0'), Text(0.65625, 0.65, 'Month <= 0.364\\nsquared_error = 2607.688\\nsamples = 4\\nvalue = 328.25'), Text(0.640625, 0.55, 'squared_error = 0.0\\nsamples = 1\\nvalue = 277.0'), Text(0.671875, 0.55, 'Month <= 0.545\\nsquared_error = 2309.556\\nsamples = 3\\nvalue = 345.333'), Text(0.65625, 0.45, 'squared_error = 0.0\\nsamples = 1\\nvalue = 413.0'), Text(0.6875, 0.45, 'Month <= 0.773\\nsquared_error = 30.25\\nsamples = 2\\nvalue = 311.5'), Text(0.671875, 0.35, 'squared_error = 0.0\\nsamples = 1\\nvalue = 317.0'), Text(0.703125, 0.35, 'squared_error = 0.0\\nsamples = 1\\nvalue = 306.0'), Text(0.88671875, 0.75, 'Year <= 0.864\\nsquared_error = 3756.996\\nsamples = 15\\nvalue = 387.933'), Text(0.8359375, 0.65, 'Month <= 0.455\\nsquared_error = 2240.438\\nsamples = 8\\nvalue = 362.75'), Text(0.78125, 0.55, 'Month <= 0.227\\nsquared_error = 304.56\\nsamples = 5\\nvalue = 328.2'), Text(0.75, 0.45, 'Year <= 0.773\\nsquared_error = 30.25\\nsamples = 2\\nvalue = 342.5'), Text(0.734375, 0.35, 'squared_error = 0.0\\nsamples = 1\\nvalue = 348.0'), Text(0.765625, 0.35, 'squared_error = 0.0\\nsamples = 1\\nvalue = 337.0'), Text(0.8125, 0.45, 'Year <= 0.773\\nsquared_error = 260.222\\nsamples = 3\\nvalue = 318.667'), Text(0.796875, 0.35, 'Month <= 0.318\\nsquared_error = 49.0\\nsamples = 2\\nvalue = 308.0'), Text(0.78125, 0.25, 'squared_error = 0.0\\nsamples = 1\\nvalue = 301.0'), Text(0.8125, 0.25, 'squared_error = 0.0\\nsamples = 1\\nvalue = 315.0'), Text(0.828125, 0.35, 'squared_error = 0.0\\nsamples = 1\\nvalue = 340.0'), Text(0.890625, 0.55, 'Month <= 0.773\\nsquared_error = 161.556\\nsamples = 3\\nvalue = 420.333'), Text(0.875, 0.45, 'Year <= 0.773\\nsquared_error = 42.25\\nsamples = 2\\nvalue = 428.5'), Text(0.859375, 0.35, 'squared_error = 0.0\\nsamples = 1\\nvalue = 422.0'), Text(0.890625, 0.35, 'squared_error = 0.0\\nsamples = 1\\nvalue = 435.0'), Text(0.90625, 0.45, 'squared_error = 0.0\\nsamples = 1\\nvalue = 404.0'), Text(0.9375, 0.65, 'Month <= 0.136\\nsquared_error = 3937.061\\nsamples = 7\\nvalue = 416.714'), Text(0.921875, 0.55, 'squared_error = 0.0\\nsamples = 1\\nvalue = 559.0'), Text(0.953125, 0.55, 'Month <= 0.227\\nsquared_error = 656.667\\nsamples = 6\\nvalue = 393.0'), Text(0.9375, 0.45, 'squared_error = 0.0\\nsamples = 1\\nvalue = 432.0'), Text(0.96875, 0.45, 'Month <= 0.864\\nsquared_error = 422.96\\nsamples = 5\\nvalue = 385.2'), Text(0.953125, 0.35, 'Month <= 0.727\\nsquared_error = 380.188\\nsamples = 4\\nvalue = 379.75'), Text(0.9375, 0.25, 'Month <= 0.5\\nsquared_error = 366.889\\nsamples = 3\\nvalue = 385.667'), Text(0.921875, 0.15, 'Month <= 0.318\\nsquared_error = 240.25\\nsamples = 2\\nvalue = 375.5'), Text(0.90625, 0.05, 'squared_error = 0.0\\nsamples = 1\\nvalue = 391.0'), Text(0.9375, 0.05, 'squared_error = 0.0\\nsamples = 1\\nvalue = 360.0'), Text(0.953125, 0.15, 'squared_error = 0.0\\nsamples = 1\\nvalue = 406.0'), Text(0.96875, 0.25, 'squared_error = 0.0\\nsamples = 1\\nvalue = 362.0'), Text(0.984375, 0.35, 'squared_error = 0.0\\nsamples = 1\\nvalue = 407.0')]\n"
     ]
    },
    {
     "data": {
      "image/png": "[encoded data removed]",
      "text/plain": [
       "<Figure size 1000x800 with 1 Axes>"
      ]
     },
     "metadata": {},
     "output_type": "display_data"
    }
   ],
   "source": [
    "# Create the decision tree regression model\n",
    "regressor = DecisionTreeRegressor()\n",
    "\n",
    "# Fit the model to the data\n",
    "regressor.fit(X_test, y_test)\n",
    "\n",
    "# Display the decision tree\n",
    "fig = plt.figure(figsize=(10, 8))\n",
    "out = tree.plot_tree(regressor, feature_names=['Year', 'Month'], filled=True)\n",
    "print(out)\n",
    "plt.show()"
   ]
  },
  {
   "cell_type": "code",
   "execution_count": 30,
   "id": "9a5c2ace-e131-4136-9395-88058eaea8dd",
   "metadata": {},
   "outputs": [
    {
     "data": {
      "text/html": [
       "<div>\n",
       "<style scoped>\n",
       "    .dataframe tbody tr th:only-of-type {\n",
       "        vertical-align: middle;\n",
       "    }\n",
       "\n",
       "    .dataframe tbody tr th {\n",
       "        vertical-align: top;\n",
       "    }\n",
       "\n",
       "    .dataframe thead th {\n",
       "        text-align: right;\n",
       "    }\n",
       "</style>\n",
       "<table border=\"1\" class=\"dataframe\">\n",
       "  <thead>\n",
       "    <tr style=\"text-align: right;\">\n",
       "      <th></th>\n",
       "      <th>features</th>\n",
       "      <th>importance</th>\n",
       "    </tr>\n",
       "  </thead>\n",
       "  <tbody>\n",
       "    <tr>\n",
       "      <th>0</th>\n",
       "      <td>Year</td>\n",
       "      <td>0.886385</td>\n",
       "    </tr>\n",
       "    <tr>\n",
       "      <th>1</th>\n",
       "      <td>Month</td>\n",
       "      <td>0.113615</td>\n",
       "    </tr>\n",
       "  </tbody>\n",
       "</table>\n",
       "</div>"
      ],
      "text/plain": [
       "  features  importance\n",
       "0     Year    0.886385\n",
       "1    Month    0.113615"
      ]
     },
     "execution_count": 30,
     "metadata": {},
     "output_type": "execute_result"
    }
   ],
   "source": [
    "pd.DataFrame({'features':['Year', 'Month'], 'importance':regressor.feature_importances_})"
   ]
  },
  {
   "cell_type": "code",
   "execution_count": 66,
   "id": "1f6829ea-ef3b-4972-a20e-d240c190f980",
   "metadata": {},
   "outputs": [
    {
     "data": {
      "text/plain": [
       "array([387.93333333, 126.7       , 200.72727273, 387.93333333,\n",
       "       387.93333333, 300.375     , 387.93333333, 300.375     ,\n",
       "       126.7       , 200.72727273, 200.72727273, 300.375     ,\n",
       "       387.93333333, 387.93333333, 387.93333333, 387.93333333,\n",
       "       300.375     , 126.7       , 126.7       , 126.7       ,\n",
       "       387.93333333, 200.72727273, 126.7       , 126.7       ,\n",
       "       200.72727273, 126.7       , 126.7       , 200.72727273,\n",
       "       200.72727273, 387.93333333, 126.7       , 300.375     ,\n",
       "       387.93333333, 387.93333333, 200.72727273, 300.375     ,\n",
       "       387.93333333, 300.375     , 387.93333333, 200.72727273,\n",
       "       200.72727273, 200.72727273, 387.93333333, 300.375     ])"
      ]
     },
     "execution_count": 66,
     "metadata": {},
     "output_type": "execute_result"
    }
   ],
   "source": [
    "y_pred = regressor.predict(X_test)\n",
    "y_pred"
   ]
  },
  {
   "cell_type": "code",
   "execution_count": 67,
   "id": "e217a1b0-af6c-4ff8-8cc5-4af1454add0d",
   "metadata": {},
   "outputs": [],
   "source": [
    "# Evaluation (Mean Squared Error)\n",
    "mse = mean_squared_error(y_test, y_pred)"
   ]
  },
  {
   "cell_type": "code",
   "execution_count": 68,
   "id": "cd5542e1-505e-4c11-883e-bcabfddecfc9",
   "metadata": {},
   "outputs": [
    {
     "data": {
      "text/plain": [
       "1996.842957988981"
      ]
     },
     "execution_count": 68,
     "metadata": {},
     "output_type": "execute_result"
    }
   ],
   "source": [
    "mse"
   ]
  },
  {
   "cell_type": "markdown",
   "id": "cae4e605-4906-42a1-a171-58c263517c9f",
   "metadata": {},
   "source": [
    "## Linear Regression"
   ]
  },
  {
   "cell_type": "code",
   "execution_count": 69,
   "id": "61986233-09b0-4b30-84a0-0d35c4bd5ee3",
   "metadata": {},
   "outputs": [],
   "source": [
    "# fit regression model\n",
    "\n",
    "lm = LinearRegression()\n",
    "\n",
    "lm = lm.fit(X_train,y_train)"
   ]
  },
  {
   "cell_type": "code",
   "execution_count": 70,
   "id": "00cddf16-5e06-4031-87ce-d94bdf24d477",
   "metadata": {},
   "outputs": [
    {
     "data": {
      "text/plain": [
       "(109.6617997322274, array([363.65051434, -18.11529731]))"
      ]
     },
     "execution_count": 70,
     "metadata": {},
     "output_type": "execute_result"
    }
   ],
   "source": [
    "lm.intercept_, lm.coef_"
   ]
  },
  {
   "cell_type": "code",
   "execution_count": 71,
   "id": "bf878088-10fe-4e98-a782-92f52889f13b",
   "metadata": {},
   "outputs": [
    {
     "data": {
      "text/plain": [
       "0.8455017830429621"
      ]
     },
     "execution_count": 71,
     "metadata": {},
     "output_type": "execute_result"
    }
   ],
   "source": [
    "lm.score(X_train, y_train)"
   ]
  },
  {
   "cell_type": "markdown",
   "id": "0c10c1db-bbc5-4bff-9eee-f05e0999c651",
   "metadata": {},
   "source": [
    "From the lm.score, we can observe that there is linear dependency between X columns and y, though not too high, so, Linear Regression can be used predict in this dataset."
   ]
  },
  {
   "cell_type": "code",
   "execution_count": 72,
   "id": "223a487e-a203-4743-9e28-e88bf2f4fc02",
   "metadata": {},
   "outputs": [
    {
     "data": {
      "text/plain": [
       "array([260.13588118, 359.31329418, 458.49070718,  96.48703805,\n",
       "       256.84219076,  91.54650242, 471.66546886, 389.07874143,\n",
       "       232.01727914, 402.25350311, 240.25150519, 124.60564009,\n",
       "       308.01662573, 405.54719353, 192.37076063, 422.13787909,\n",
       "       430.37210514, 461.7843976 , 261.78272639, 339.42891819,\n",
       "       407.19403874, 460.13755239, 198.95814147, 241.8983504 ,\n",
       "       225.4298983 , 230.37043393,  94.84019284, 337.78207298,\n",
       "       331.19469214, 473.31231407, 160.95846818, 465.07808802,\n",
       "       172.48638465, 322.96046609, 327.90100172, 440.2531764 ,\n",
       "       392.37243185, 190.72391542, 167.54584902, 398.95981269,\n",
       "       265.07641681, 134.48671135, 108.01495452, 372.48805586,\n",
       "       370.84121065, 432.01895035, 194.01760584, 228.72358872,\n",
       "       362.6069846 , 270.01695244, 360.96013939, 306.36978052,\n",
       "       175.78007507, 341.0757634 , 208.83921273, 304.72293531,\n",
       "       131.19302093, 326.25415651, 365.90067502, 436.95948598,\n",
       "       466.72493323, 203.8986771 , 207.19236752, 263.4295716 ,\n",
       "       236.95781477, 303.0760901 , 394.01927706, 258.48903597,\n",
       "       142.7209374 , 238.60465998, 200.60498668, 104.7212641 ,\n",
       "       435.31264077, 427.07841472, 266.72326202, 170.83953944,\n",
       "       139.42724698, 109.66179973, 390.72558664, 101.42757368,\n",
       "       274.95748807, 456.84386197, 164.2521586 , 298.13555447,\n",
       "       334.48838256,  98.13388326, 195.66445105, 227.07674351,\n",
       "       294.84186406, 169.19269423, 301.42924489, 273.31064286,\n",
       "       357.66644897, 395.66612227, 463.43124281, 455.19701676,\n",
       "       299.78239968, 202.25183189, 268.37010723, 132.83986614])"
      ]
     },
     "execution_count": 72,
     "metadata": {},
     "output_type": "execute_result"
    }
   ],
   "source": [
    "yhat = lm.predict(X_train)\n",
    "yhat"
   ]
  },
  {
   "cell_type": "code",
   "execution_count": 73,
   "id": "941378d0-8588-4acc-89c8-21923e17359e",
   "metadata": {},
   "outputs": [
    {
     "data": {
      "text/html": [
       "<div>\n",
       "<style scoped>\n",
       "    .dataframe tbody tr th:only-of-type {\n",
       "        vertical-align: middle;\n",
       "    }\n",
       "\n",
       "    .dataframe tbody tr th {\n",
       "        vertical-align: top;\n",
       "    }\n",
       "\n",
       "    .dataframe thead th {\n",
       "        text-align: right;\n",
       "    }\n",
       "</style>\n",
       "<table border=\"1\" class=\"dataframe\">\n",
       "  <thead>\n",
       "    <tr style=\"text-align: right;\">\n",
       "      <th></th>\n",
       "      <th>0</th>\n",
       "      <th>1</th>\n",
       "    </tr>\n",
       "  </thead>\n",
       "  <tbody>\n",
       "    <tr>\n",
       "      <th>70</th>\n",
       "      <td>274.957488</td>\n",
       "      <td>94.840193</td>\n",
       "    </tr>\n",
       "    <tr>\n",
       "      <th>106</th>\n",
       "      <td>374.134901</td>\n",
       "      <td>94.840193</td>\n",
       "    </tr>\n",
       "    <tr>\n",
       "      <th>142</th>\n",
       "      <td>473.312314</td>\n",
       "      <td>94.840193</td>\n",
       "    </tr>\n",
       "    <tr>\n",
       "      <th>4</th>\n",
       "      <td>109.661800</td>\n",
       "      <td>96.487038</td>\n",
       "    </tr>\n",
       "    <tr>\n",
       "      <th>68</th>\n",
       "      <td>274.957488</td>\n",
       "      <td>91.546502</td>\n",
       "    </tr>\n",
       "    <tr>\n",
       "      <th>...</th>\n",
       "      <td>...</td>\n",
       "      <td>...</td>\n",
       "    </tr>\n",
       "    <tr>\n",
       "      <th>140</th>\n",
       "      <td>473.312314</td>\n",
       "      <td>91.546502</td>\n",
       "    </tr>\n",
       "    <tr>\n",
       "      <th>78</th>\n",
       "      <td>308.016626</td>\n",
       "      <td>101.427574</td>\n",
       "    </tr>\n",
       "    <tr>\n",
       "      <th>36</th>\n",
       "      <td>208.839213</td>\n",
       "      <td>103.074419</td>\n",
       "    </tr>\n",
       "    <tr>\n",
       "      <th>60</th>\n",
       "      <td>274.957488</td>\n",
       "      <td>103.074419</td>\n",
       "    </tr>\n",
       "    <tr>\n",
       "      <th>17</th>\n",
       "      <td>142.720937</td>\n",
       "      <td>99.780728</td>\n",
       "    </tr>\n",
       "  </tbody>\n",
       "</table>\n",
       "<p>100 rows × 2 columns</p>\n",
       "</div>"
      ],
      "text/plain": [
       "              0           1\n",
       "70   274.957488   94.840193\n",
       "106  374.134901   94.840193\n",
       "142  473.312314   94.840193\n",
       "4    109.661800   96.487038\n",
       "68   274.957488   91.546502\n",
       "..          ...         ...\n",
       "140  473.312314   91.546502\n",
       "78   308.016626  101.427574\n",
       "36   208.839213  103.074419\n",
       "60   274.957488  103.074419\n",
       "17   142.720937   99.780728\n",
       "\n",
       "[100 rows x 2 columns]"
      ]
     },
     "execution_count": 73,
     "metadata": {},
     "output_type": "execute_result"
    }
   ],
   "source": [
    "lm.intercept_ + lm.coef_ * X_train"
   ]
  },
  {
   "cell_type": "code",
   "execution_count": 74,
   "id": "ce9c12b8-ffa8-4624-8c22-69c1194f6ebb",
   "metadata": {},
   "outputs": [
    {
     "data": {
      "text/plain": [
       "array([[1.        , 0.84550178],\n",
       "       [0.84550178, 1.        ]])"
      ]
     },
     "execution_count": 74,
     "metadata": {},
     "output_type": "execute_result"
    }
   ],
   "source": [
    "np.corrcoef(y_train, yhat)**2"
   ]
  },
  {
   "cell_type": "code",
   "execution_count": 75,
   "id": "25c81309-a23f-426a-b594-16eab28f5bc7",
   "metadata": {},
   "outputs": [
    {
     "data": {
      "text/plain": [
       "70    -57.135881\n",
       "106   -54.313294\n",
       "142   -68.490707\n",
       "4      24.512962\n",
       "68      2.157809\n",
       "         ...    \n",
       "140    52.802983\n",
       "78     64.217600\n",
       "36    -31.251832\n",
       "60    -64.370107\n",
       "17     16.160134\n",
       "Name: passengers, Length: 100, dtype: float64"
      ]
     },
     "execution_count": 75,
     "metadata": {},
     "output_type": "execute_result"
    }
   ],
   "source": [
    "error = y_train - yhat\n",
    "error"
   ]
  },
  {
   "cell_type": "code",
   "execution_count": 76,
   "id": "fa584987-8f3c-4407-9162-11e711ac2f7f",
   "metadata": {},
   "outputs": [
    {
     "data": {
      "text/plain": [
       "37.42739059057269"
      ]
     },
     "execution_count": 76,
     "metadata": {},
     "output_type": "execute_result"
    }
   ],
   "source": [
    "abs_error = np.abs(error)\n",
    "mae = np.mean(abs_error) # mean absolute error\n",
    "mae"
   ]
  },
  {
   "cell_type": "code",
   "execution_count": 77,
   "id": "44eab8e1-e86d-49bd-84b7-6d8cd4172d2e",
   "metadata": {},
   "outputs": [
    {
     "data": {
      "text/plain": [
       "13.403588035033605"
      ]
     },
     "execution_count": 77,
     "metadata": {},
     "output_type": "execute_result"
    }
   ],
   "source": [
    "# calculate mean of absolute percentage error\n",
    "np.mean(np.abs(error / y_train)) * 100"
   ]
  },
  {
   "cell_type": "code",
   "execution_count": 78,
   "id": "f31511e5-9e0a-4639-b5be-9b9047fcea57",
   "metadata": {},
   "outputs": [],
   "source": [
    "# sum of squares of error\n",
    "sse = np.sum(error ** 2)"
   ]
  },
  {
   "cell_type": "code",
   "execution_count": 79,
   "id": "58d0d025-9b9b-4045-b121-8ff4ac734739",
   "metadata": {},
   "outputs": [],
   "source": [
    "# sum of squares total\n",
    "sst = np.sum((y_train - y_train.mean())**2)"
   ]
  },
  {
   "cell_type": "code",
   "execution_count": 80,
   "id": "532f791d-c10b-449c-8a56-986d6374561a",
   "metadata": {},
   "outputs": [
    {
     "data": {
      "text/plain": [
       "0.8455017830429621"
      ]
     },
     "execution_count": 80,
     "metadata": {},
     "output_type": "execute_result"
    }
   ],
   "source": [
    "1- (sse/sst)"
   ]
  },
  {
   "cell_type": "code",
   "execution_count": 81,
   "id": "13d880d9-b56e-4294-94a1-86e00f551023",
   "metadata": {},
   "outputs": [
    {
     "data": {
      "text/plain": [
       "array([734683.7007616 , -36483.23876503])"
      ]
     },
     "execution_count": 81,
     "metadata": {},
     "output_type": "execute_result"
    }
   ],
   "source": [
    "# predicting for a new value of X\n",
    "# say 2020\n",
    "\n",
    "lm.intercept_ + lm.coef_ * 2020"
   ]
  },
  {
   "cell_type": "code",
   "execution_count": 82,
   "id": "7a95896a-f72a-4826-b3a4-48650cc53788",
   "metadata": {},
   "outputs": [],
   "source": [
    "# plot the regression line\n",
    "\n",
    "X_min = X_train.min()\n",
    "yhat_min = lm.intercept_ + lm.coef_ * X_min\n",
    "X_max = X_train.max()\n",
    "yhat_max = lm.intercept_ + lm.coef_ * X_max"
   ]
  },
  {
   "cell_type": "code",
   "execution_count": 83,
   "id": "21a16fc0-8586-499c-85ca-50dee1bb5d93",
   "metadata": {},
   "outputs": [],
   "source": [
    "# fit statsmodels OLS regression model\n",
    "X = sm.add_constant(X_train)"
   ]
  },
  {
   "cell_type": "code",
   "execution_count": 84,
   "id": "0d9ef0f5-b231-46c8-9737-1bf699ad909b",
   "metadata": {},
   "outputs": [
    {
     "data": {
      "text/html": [
       "<div>\n",
       "<style scoped>\n",
       "    .dataframe tbody tr th:only-of-type {\n",
       "        vertical-align: middle;\n",
       "    }\n",
       "\n",
       "    .dataframe tbody tr th {\n",
       "        vertical-align: top;\n",
       "    }\n",
       "\n",
       "    .dataframe thead th {\n",
       "        text-align: right;\n",
       "    }\n",
       "</style>\n",
       "<table border=\"1\" class=\"dataframe\">\n",
       "  <thead>\n",
       "    <tr style=\"text-align: right;\">\n",
       "      <th></th>\n",
       "      <th>const</th>\n",
       "      <th>0</th>\n",
       "      <th>1</th>\n",
       "    </tr>\n",
       "  </thead>\n",
       "  <tbody>\n",
       "    <tr>\n",
       "      <th>70</th>\n",
       "      <td>1.0</td>\n",
       "      <td>0.454545</td>\n",
       "      <td>0.818182</td>\n",
       "    </tr>\n",
       "    <tr>\n",
       "      <th>106</th>\n",
       "      <td>1.0</td>\n",
       "      <td>0.727273</td>\n",
       "      <td>0.818182</td>\n",
       "    </tr>\n",
       "    <tr>\n",
       "      <th>142</th>\n",
       "      <td>1.0</td>\n",
       "      <td>1.000000</td>\n",
       "      <td>0.818182</td>\n",
       "    </tr>\n",
       "    <tr>\n",
       "      <th>4</th>\n",
       "      <td>1.0</td>\n",
       "      <td>0.000000</td>\n",
       "      <td>0.727273</td>\n",
       "    </tr>\n",
       "    <tr>\n",
       "      <th>68</th>\n",
       "      <td>1.0</td>\n",
       "      <td>0.454545</td>\n",
       "      <td>1.000000</td>\n",
       "    </tr>\n",
       "    <tr>\n",
       "      <th>...</th>\n",
       "      <td>...</td>\n",
       "      <td>...</td>\n",
       "      <td>...</td>\n",
       "    </tr>\n",
       "    <tr>\n",
       "      <th>140</th>\n",
       "      <td>1.0</td>\n",
       "      <td>1.000000</td>\n",
       "      <td>1.000000</td>\n",
       "    </tr>\n",
       "    <tr>\n",
       "      <th>78</th>\n",
       "      <td>1.0</td>\n",
       "      <td>0.545455</td>\n",
       "      <td>0.454545</td>\n",
       "    </tr>\n",
       "    <tr>\n",
       "      <th>36</th>\n",
       "      <td>1.0</td>\n",
       "      <td>0.272727</td>\n",
       "      <td>0.363636</td>\n",
       "    </tr>\n",
       "    <tr>\n",
       "      <th>60</th>\n",
       "      <td>1.0</td>\n",
       "      <td>0.454545</td>\n",
       "      <td>0.363636</td>\n",
       "    </tr>\n",
       "    <tr>\n",
       "      <th>17</th>\n",
       "      <td>1.0</td>\n",
       "      <td>0.090909</td>\n",
       "      <td>0.545455</td>\n",
       "    </tr>\n",
       "  </tbody>\n",
       "</table>\n",
       "<p>100 rows × 3 columns</p>\n",
       "</div>"
      ],
      "text/plain": [
       "     const         0         1\n",
       "70     1.0  0.454545  0.818182\n",
       "106    1.0  0.727273  0.818182\n",
       "142    1.0  1.000000  0.818182\n",
       "4      1.0  0.000000  0.727273\n",
       "68     1.0  0.454545  1.000000\n",
       "..     ...       ...       ...\n",
       "140    1.0  1.000000  1.000000\n",
       "78     1.0  0.545455  0.454545\n",
       "36     1.0  0.272727  0.363636\n",
       "60     1.0  0.454545  0.363636\n",
       "17     1.0  0.090909  0.545455\n",
       "\n",
       "[100 rows x 3 columns]"
      ]
     },
     "execution_count": 84,
     "metadata": {},
     "output_type": "execute_result"
    }
   ],
   "source": [
    "X"
   ]
  },
  {
   "cell_type": "code",
   "execution_count": 85,
   "id": "f866e6ae-9c35-42a3-87f0-52fb29d4d0da",
   "metadata": {},
   "outputs": [
    {
     "data": {
      "text/plain": [
       "array([468.37177844, 103.07441889, 271.66379765, 397.31296748,\n",
       "       470.01862365, 291.54817364, 356.01960376, 336.13522777,\n",
       "       106.36810931, 235.31096956, 205.54552231, 332.84153735,\n",
       "       403.90034832, 374.13490107, 400.6066579 , 364.25382981,\n",
       "       296.48870926, 126.2524853 ,  99.78072847, 137.78040177,\n",
       "       428.72525993, 223.78305309, 127.89933051,  93.19334763,\n",
       "       165.89900381, 129.54617572, 141.07409219, 197.31129626,\n",
       "       162.60531339, 423.7847243 , 136.13355656, 324.6073113 ,\n",
       "       438.60633119, 425.43156951, 174.13322986, 293.19501885,\n",
       "       369.19436544, 329.54784693, 367.54752023, 233.66412435,\n",
       "       159.31162297, 157.66477776, 433.66579556, 289.90132843])"
      ]
     },
     "execution_count": 85,
     "metadata": {},
     "output_type": "execute_result"
    }
   ],
   "source": [
    "# Prediction\n",
    "y_pred = lm.predict(X_test)\n",
    "y_pred"
   ]
  },
  {
   "cell_type": "markdown",
   "id": "3340dc89-b382-43c2-bbf6-53a9b4846211",
   "metadata": {},
   "source": [
    "Hence, we can notice that with 84% accuracy, the `number of passengers` of flight have been predicted for the test values."
   ]
  }
 ],
 "metadata": {
  "kernelspec": {
   "display_name": "Python 3 (ipykernel)",
   "language": "python",
   "name": "python3"
  },
  "language_info": {
   "codemirror_mode": {
    "name": "ipython",
    "version": 3
   },
   "file_extension": ".py",
   "mimetype": "text/x-python",
   "name": "python",
   "nbconvert_exporter": "python",
   "pygments_lexer": "ipython3",
   "version": "3.12.4"
  }
 },
 "nbformat": 4,
 "nbformat_minor": 5
}
